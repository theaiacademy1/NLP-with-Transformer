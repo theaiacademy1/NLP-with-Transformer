{
  "nbformat": 4,
  "nbformat_minor": 0,
  "metadata": {
    "colab": {
      "provenance": [],
      "include_colab_link": true
    },
    "kernelspec": {
      "name": "python3",
      "display_name": "Python 3"
    },
    "language_info": {
      "name": "python"
    },
    "widgets": {
      "application/vnd.jupyter.widget-state+json": {
        "5744af6a28034a2d9caaa7bbe17e4479": {
          "model_module": "@jupyter-widgets/controls",
          "model_name": "HBoxModel",
          "model_module_version": "1.5.0",
          "state": {
            "_dom_classes": [],
            "_model_module": "@jupyter-widgets/controls",
            "_model_module_version": "1.5.0",
            "_model_name": "HBoxModel",
            "_view_count": null,
            "_view_module": "@jupyter-widgets/controls",
            "_view_module_version": "1.5.0",
            "_view_name": "HBoxView",
            "box_style": "",
            "children": [
              "IPY_MODEL_07373bb1edfe4144b3d6355170a77efd",
              "IPY_MODEL_7dc1247d68a042c1b95f87d57ace7832",
              "IPY_MODEL_f31aa1c75016412d9bd730e33607d32d"
            ],
            "layout": "IPY_MODEL_dd9399290d1e4412b6e249d4ba429548"
          }
        },
        "07373bb1edfe4144b3d6355170a77efd": {
          "model_module": "@jupyter-widgets/controls",
          "model_name": "HTMLModel",
          "model_module_version": "1.5.0",
          "state": {
            "_dom_classes": [],
            "_model_module": "@jupyter-widgets/controls",
            "_model_module_version": "1.5.0",
            "_model_name": "HTMLModel",
            "_view_count": null,
            "_view_module": "@jupyter-widgets/controls",
            "_view_module_version": "1.5.0",
            "_view_name": "HTMLView",
            "description": "",
            "description_tooltip": null,
            "layout": "IPY_MODEL_0da4e9bf34254b4b89873d1801e5728a",
            "placeholder": "​",
            "style": "IPY_MODEL_631b0584ab0e43709b40fcb2fed2eda5",
            "value": "tokenizer_config.json: 100%"
          }
        },
        "7dc1247d68a042c1b95f87d57ace7832": {
          "model_module": "@jupyter-widgets/controls",
          "model_name": "FloatProgressModel",
          "model_module_version": "1.5.0",
          "state": {
            "_dom_classes": [],
            "_model_module": "@jupyter-widgets/controls",
            "_model_module_version": "1.5.0",
            "_model_name": "FloatProgressModel",
            "_view_count": null,
            "_view_module": "@jupyter-widgets/controls",
            "_view_module_version": "1.5.0",
            "_view_name": "ProgressView",
            "bar_style": "success",
            "description": "",
            "description_tooltip": null,
            "layout": "IPY_MODEL_a4f17bc3ee8746b89fa0f33e6f8da8c8",
            "max": 48,
            "min": 0,
            "orientation": "horizontal",
            "style": "IPY_MODEL_c348077daa9940fa8724cea39a2b64cf",
            "value": 48
          }
        },
        "f31aa1c75016412d9bd730e33607d32d": {
          "model_module": "@jupyter-widgets/controls",
          "model_name": "HTMLModel",
          "model_module_version": "1.5.0",
          "state": {
            "_dom_classes": [],
            "_model_module": "@jupyter-widgets/controls",
            "_model_module_version": "1.5.0",
            "_model_name": "HTMLModel",
            "_view_count": null,
            "_view_module": "@jupyter-widgets/controls",
            "_view_module_version": "1.5.0",
            "_view_name": "HTMLView",
            "description": "",
            "description_tooltip": null,
            "layout": "IPY_MODEL_53bf53aeea0c41769b63cbc18b79bd33",
            "placeholder": "​",
            "style": "IPY_MODEL_72005a84856a40e68e821a8c50f3e9f1",
            "value": " 48.0/48.0 [00:00&lt;00:00, 1.48kB/s]"
          }
        },
        "dd9399290d1e4412b6e249d4ba429548": {
          "model_module": "@jupyter-widgets/base",
          "model_name": "LayoutModel",
          "model_module_version": "1.2.0",
          "state": {
            "_model_module": "@jupyter-widgets/base",
            "_model_module_version": "1.2.0",
            "_model_name": "LayoutModel",
            "_view_count": null,
            "_view_module": "@jupyter-widgets/base",
            "_view_module_version": "1.2.0",
            "_view_name": "LayoutView",
            "align_content": null,
            "align_items": null,
            "align_self": null,
            "border": null,
            "bottom": null,
            "display": null,
            "flex": null,
            "flex_flow": null,
            "grid_area": null,
            "grid_auto_columns": null,
            "grid_auto_flow": null,
            "grid_auto_rows": null,
            "grid_column": null,
            "grid_gap": null,
            "grid_row": null,
            "grid_template_areas": null,
            "grid_template_columns": null,
            "grid_template_rows": null,
            "height": null,
            "justify_content": null,
            "justify_items": null,
            "left": null,
            "margin": null,
            "max_height": null,
            "max_width": null,
            "min_height": null,
            "min_width": null,
            "object_fit": null,
            "object_position": null,
            "order": null,
            "overflow": null,
            "overflow_x": null,
            "overflow_y": null,
            "padding": null,
            "right": null,
            "top": null,
            "visibility": null,
            "width": null
          }
        },
        "0da4e9bf34254b4b89873d1801e5728a": {
          "model_module": "@jupyter-widgets/base",
          "model_name": "LayoutModel",
          "model_module_version": "1.2.0",
          "state": {
            "_model_module": "@jupyter-widgets/base",
            "_model_module_version": "1.2.0",
            "_model_name": "LayoutModel",
            "_view_count": null,
            "_view_module": "@jupyter-widgets/base",
            "_view_module_version": "1.2.0",
            "_view_name": "LayoutView",
            "align_content": null,
            "align_items": null,
            "align_self": null,
            "border": null,
            "bottom": null,
            "display": null,
            "flex": null,
            "flex_flow": null,
            "grid_area": null,
            "grid_auto_columns": null,
            "grid_auto_flow": null,
            "grid_auto_rows": null,
            "grid_column": null,
            "grid_gap": null,
            "grid_row": null,
            "grid_template_areas": null,
            "grid_template_columns": null,
            "grid_template_rows": null,
            "height": null,
            "justify_content": null,
            "justify_items": null,
            "left": null,
            "margin": null,
            "max_height": null,
            "max_width": null,
            "min_height": null,
            "min_width": null,
            "object_fit": null,
            "object_position": null,
            "order": null,
            "overflow": null,
            "overflow_x": null,
            "overflow_y": null,
            "padding": null,
            "right": null,
            "top": null,
            "visibility": null,
            "width": null
          }
        },
        "631b0584ab0e43709b40fcb2fed2eda5": {
          "model_module": "@jupyter-widgets/controls",
          "model_name": "DescriptionStyleModel",
          "model_module_version": "1.5.0",
          "state": {
            "_model_module": "@jupyter-widgets/controls",
            "_model_module_version": "1.5.0",
            "_model_name": "DescriptionStyleModel",
            "_view_count": null,
            "_view_module": "@jupyter-widgets/base",
            "_view_module_version": "1.2.0",
            "_view_name": "StyleView",
            "description_width": ""
          }
        },
        "a4f17bc3ee8746b89fa0f33e6f8da8c8": {
          "model_module": "@jupyter-widgets/base",
          "model_name": "LayoutModel",
          "model_module_version": "1.2.0",
          "state": {
            "_model_module": "@jupyter-widgets/base",
            "_model_module_version": "1.2.0",
            "_model_name": "LayoutModel",
            "_view_count": null,
            "_view_module": "@jupyter-widgets/base",
            "_view_module_version": "1.2.0",
            "_view_name": "LayoutView",
            "align_content": null,
            "align_items": null,
            "align_self": null,
            "border": null,
            "bottom": null,
            "display": null,
            "flex": null,
            "flex_flow": null,
            "grid_area": null,
            "grid_auto_columns": null,
            "grid_auto_flow": null,
            "grid_auto_rows": null,
            "grid_column": null,
            "grid_gap": null,
            "grid_row": null,
            "grid_template_areas": null,
            "grid_template_columns": null,
            "grid_template_rows": null,
            "height": null,
            "justify_content": null,
            "justify_items": null,
            "left": null,
            "margin": null,
            "max_height": null,
            "max_width": null,
            "min_height": null,
            "min_width": null,
            "object_fit": null,
            "object_position": null,
            "order": null,
            "overflow": null,
            "overflow_x": null,
            "overflow_y": null,
            "padding": null,
            "right": null,
            "top": null,
            "visibility": null,
            "width": null
          }
        },
        "c348077daa9940fa8724cea39a2b64cf": {
          "model_module": "@jupyter-widgets/controls",
          "model_name": "ProgressStyleModel",
          "model_module_version": "1.5.0",
          "state": {
            "_model_module": "@jupyter-widgets/controls",
            "_model_module_version": "1.5.0",
            "_model_name": "ProgressStyleModel",
            "_view_count": null,
            "_view_module": "@jupyter-widgets/base",
            "_view_module_version": "1.2.0",
            "_view_name": "StyleView",
            "bar_color": null,
            "description_width": ""
          }
        },
        "53bf53aeea0c41769b63cbc18b79bd33": {
          "model_module": "@jupyter-widgets/base",
          "model_name": "LayoutModel",
          "model_module_version": "1.2.0",
          "state": {
            "_model_module": "@jupyter-widgets/base",
            "_model_module_version": "1.2.0",
            "_model_name": "LayoutModel",
            "_view_count": null,
            "_view_module": "@jupyter-widgets/base",
            "_view_module_version": "1.2.0",
            "_view_name": "LayoutView",
            "align_content": null,
            "align_items": null,
            "align_self": null,
            "border": null,
            "bottom": null,
            "display": null,
            "flex": null,
            "flex_flow": null,
            "grid_area": null,
            "grid_auto_columns": null,
            "grid_auto_flow": null,
            "grid_auto_rows": null,
            "grid_column": null,
            "grid_gap": null,
            "grid_row": null,
            "grid_template_areas": null,
            "grid_template_columns": null,
            "grid_template_rows": null,
            "height": null,
            "justify_content": null,
            "justify_items": null,
            "left": null,
            "margin": null,
            "max_height": null,
            "max_width": null,
            "min_height": null,
            "min_width": null,
            "object_fit": null,
            "object_position": null,
            "order": null,
            "overflow": null,
            "overflow_x": null,
            "overflow_y": null,
            "padding": null,
            "right": null,
            "top": null,
            "visibility": null,
            "width": null
          }
        },
        "72005a84856a40e68e821a8c50f3e9f1": {
          "model_module": "@jupyter-widgets/controls",
          "model_name": "DescriptionStyleModel",
          "model_module_version": "1.5.0",
          "state": {
            "_model_module": "@jupyter-widgets/controls",
            "_model_module_version": "1.5.0",
            "_model_name": "DescriptionStyleModel",
            "_view_count": null,
            "_view_module": "@jupyter-widgets/base",
            "_view_module_version": "1.2.0",
            "_view_name": "StyleView",
            "description_width": ""
          }
        },
        "eca346a5389743828d738ab4b42c3329": {
          "model_module": "@jupyter-widgets/controls",
          "model_name": "HBoxModel",
          "model_module_version": "1.5.0",
          "state": {
            "_dom_classes": [],
            "_model_module": "@jupyter-widgets/controls",
            "_model_module_version": "1.5.0",
            "_model_name": "HBoxModel",
            "_view_count": null,
            "_view_module": "@jupyter-widgets/controls",
            "_view_module_version": "1.5.0",
            "_view_name": "HBoxView",
            "box_style": "",
            "children": [
              "IPY_MODEL_bb3b95eaeb154cd0bd5e6a783dd3b4a7",
              "IPY_MODEL_8b32892a1e5a4527bd07fdf041f55db0",
              "IPY_MODEL_c407cc2672f344389ab20f697c22cf3d"
            ],
            "layout": "IPY_MODEL_b6dfc7684c80410487c026b2f232284b"
          }
        },
        "bb3b95eaeb154cd0bd5e6a783dd3b4a7": {
          "model_module": "@jupyter-widgets/controls",
          "model_name": "HTMLModel",
          "model_module_version": "1.5.0",
          "state": {
            "_dom_classes": [],
            "_model_module": "@jupyter-widgets/controls",
            "_model_module_version": "1.5.0",
            "_model_name": "HTMLModel",
            "_view_count": null,
            "_view_module": "@jupyter-widgets/controls",
            "_view_module_version": "1.5.0",
            "_view_name": "HTMLView",
            "description": "",
            "description_tooltip": null,
            "layout": "IPY_MODEL_53183ee602434125bb485e637e452a9f",
            "placeholder": "​",
            "style": "IPY_MODEL_c97f0c14a8414319a7492a9da47ebe92",
            "value": "config.json: 100%"
          }
        },
        "8b32892a1e5a4527bd07fdf041f55db0": {
          "model_module": "@jupyter-widgets/controls",
          "model_name": "FloatProgressModel",
          "model_module_version": "1.5.0",
          "state": {
            "_dom_classes": [],
            "_model_module": "@jupyter-widgets/controls",
            "_model_module_version": "1.5.0",
            "_model_name": "FloatProgressModel",
            "_view_count": null,
            "_view_module": "@jupyter-widgets/controls",
            "_view_module_version": "1.5.0",
            "_view_name": "ProgressView",
            "bar_style": "success",
            "description": "",
            "description_tooltip": null,
            "layout": "IPY_MODEL_62df0dc1c0024178ac6bf747dfc44dbb",
            "max": 570,
            "min": 0,
            "orientation": "horizontal",
            "style": "IPY_MODEL_c8a3c3bb1c534afca9ca1243364a31af",
            "value": 570
          }
        },
        "c407cc2672f344389ab20f697c22cf3d": {
          "model_module": "@jupyter-widgets/controls",
          "model_name": "HTMLModel",
          "model_module_version": "1.5.0",
          "state": {
            "_dom_classes": [],
            "_model_module": "@jupyter-widgets/controls",
            "_model_module_version": "1.5.0",
            "_model_name": "HTMLModel",
            "_view_count": null,
            "_view_module": "@jupyter-widgets/controls",
            "_view_module_version": "1.5.0",
            "_view_name": "HTMLView",
            "description": "",
            "description_tooltip": null,
            "layout": "IPY_MODEL_969f3febfcfd44e98803d5a77856bc07",
            "placeholder": "​",
            "style": "IPY_MODEL_dcfea3748b2942d0858d29ba12f234e5",
            "value": " 570/570 [00:00&lt;00:00, 18.3kB/s]"
          }
        },
        "b6dfc7684c80410487c026b2f232284b": {
          "model_module": "@jupyter-widgets/base",
          "model_name": "LayoutModel",
          "model_module_version": "1.2.0",
          "state": {
            "_model_module": "@jupyter-widgets/base",
            "_model_module_version": "1.2.0",
            "_model_name": "LayoutModel",
            "_view_count": null,
            "_view_module": "@jupyter-widgets/base",
            "_view_module_version": "1.2.0",
            "_view_name": "LayoutView",
            "align_content": null,
            "align_items": null,
            "align_self": null,
            "border": null,
            "bottom": null,
            "display": null,
            "flex": null,
            "flex_flow": null,
            "grid_area": null,
            "grid_auto_columns": null,
            "grid_auto_flow": null,
            "grid_auto_rows": null,
            "grid_column": null,
            "grid_gap": null,
            "grid_row": null,
            "grid_template_areas": null,
            "grid_template_columns": null,
            "grid_template_rows": null,
            "height": null,
            "justify_content": null,
            "justify_items": null,
            "left": null,
            "margin": null,
            "max_height": null,
            "max_width": null,
            "min_height": null,
            "min_width": null,
            "object_fit": null,
            "object_position": null,
            "order": null,
            "overflow": null,
            "overflow_x": null,
            "overflow_y": null,
            "padding": null,
            "right": null,
            "top": null,
            "visibility": null,
            "width": null
          }
        },
        "53183ee602434125bb485e637e452a9f": {
          "model_module": "@jupyter-widgets/base",
          "model_name": "LayoutModel",
          "model_module_version": "1.2.0",
          "state": {
            "_model_module": "@jupyter-widgets/base",
            "_model_module_version": "1.2.0",
            "_model_name": "LayoutModel",
            "_view_count": null,
            "_view_module": "@jupyter-widgets/base",
            "_view_module_version": "1.2.0",
            "_view_name": "LayoutView",
            "align_content": null,
            "align_items": null,
            "align_self": null,
            "border": null,
            "bottom": null,
            "display": null,
            "flex": null,
            "flex_flow": null,
            "grid_area": null,
            "grid_auto_columns": null,
            "grid_auto_flow": null,
            "grid_auto_rows": null,
            "grid_column": null,
            "grid_gap": null,
            "grid_row": null,
            "grid_template_areas": null,
            "grid_template_columns": null,
            "grid_template_rows": null,
            "height": null,
            "justify_content": null,
            "justify_items": null,
            "left": null,
            "margin": null,
            "max_height": null,
            "max_width": null,
            "min_height": null,
            "min_width": null,
            "object_fit": null,
            "object_position": null,
            "order": null,
            "overflow": null,
            "overflow_x": null,
            "overflow_y": null,
            "padding": null,
            "right": null,
            "top": null,
            "visibility": null,
            "width": null
          }
        },
        "c97f0c14a8414319a7492a9da47ebe92": {
          "model_module": "@jupyter-widgets/controls",
          "model_name": "DescriptionStyleModel",
          "model_module_version": "1.5.0",
          "state": {
            "_model_module": "@jupyter-widgets/controls",
            "_model_module_version": "1.5.0",
            "_model_name": "DescriptionStyleModel",
            "_view_count": null,
            "_view_module": "@jupyter-widgets/base",
            "_view_module_version": "1.2.0",
            "_view_name": "StyleView",
            "description_width": ""
          }
        },
        "62df0dc1c0024178ac6bf747dfc44dbb": {
          "model_module": "@jupyter-widgets/base",
          "model_name": "LayoutModel",
          "model_module_version": "1.2.0",
          "state": {
            "_model_module": "@jupyter-widgets/base",
            "_model_module_version": "1.2.0",
            "_model_name": "LayoutModel",
            "_view_count": null,
            "_view_module": "@jupyter-widgets/base",
            "_view_module_version": "1.2.0",
            "_view_name": "LayoutView",
            "align_content": null,
            "align_items": null,
            "align_self": null,
            "border": null,
            "bottom": null,
            "display": null,
            "flex": null,
            "flex_flow": null,
            "grid_area": null,
            "grid_auto_columns": null,
            "grid_auto_flow": null,
            "grid_auto_rows": null,
            "grid_column": null,
            "grid_gap": null,
            "grid_row": null,
            "grid_template_areas": null,
            "grid_template_columns": null,
            "grid_template_rows": null,
            "height": null,
            "justify_content": null,
            "justify_items": null,
            "left": null,
            "margin": null,
            "max_height": null,
            "max_width": null,
            "min_height": null,
            "min_width": null,
            "object_fit": null,
            "object_position": null,
            "order": null,
            "overflow": null,
            "overflow_x": null,
            "overflow_y": null,
            "padding": null,
            "right": null,
            "top": null,
            "visibility": null,
            "width": null
          }
        },
        "c8a3c3bb1c534afca9ca1243364a31af": {
          "model_module": "@jupyter-widgets/controls",
          "model_name": "ProgressStyleModel",
          "model_module_version": "1.5.0",
          "state": {
            "_model_module": "@jupyter-widgets/controls",
            "_model_module_version": "1.5.0",
            "_model_name": "ProgressStyleModel",
            "_view_count": null,
            "_view_module": "@jupyter-widgets/base",
            "_view_module_version": "1.2.0",
            "_view_name": "StyleView",
            "bar_color": null,
            "description_width": ""
          }
        },
        "969f3febfcfd44e98803d5a77856bc07": {
          "model_module": "@jupyter-widgets/base",
          "model_name": "LayoutModel",
          "model_module_version": "1.2.0",
          "state": {
            "_model_module": "@jupyter-widgets/base",
            "_model_module_version": "1.2.0",
            "_model_name": "LayoutModel",
            "_view_count": null,
            "_view_module": "@jupyter-widgets/base",
            "_view_module_version": "1.2.0",
            "_view_name": "LayoutView",
            "align_content": null,
            "align_items": null,
            "align_self": null,
            "border": null,
            "bottom": null,
            "display": null,
            "flex": null,
            "flex_flow": null,
            "grid_area": null,
            "grid_auto_columns": null,
            "grid_auto_flow": null,
            "grid_auto_rows": null,
            "grid_column": null,
            "grid_gap": null,
            "grid_row": null,
            "grid_template_areas": null,
            "grid_template_columns": null,
            "grid_template_rows": null,
            "height": null,
            "justify_content": null,
            "justify_items": null,
            "left": null,
            "margin": null,
            "max_height": null,
            "max_width": null,
            "min_height": null,
            "min_width": null,
            "object_fit": null,
            "object_position": null,
            "order": null,
            "overflow": null,
            "overflow_x": null,
            "overflow_y": null,
            "padding": null,
            "right": null,
            "top": null,
            "visibility": null,
            "width": null
          }
        },
        "dcfea3748b2942d0858d29ba12f234e5": {
          "model_module": "@jupyter-widgets/controls",
          "model_name": "DescriptionStyleModel",
          "model_module_version": "1.5.0",
          "state": {
            "_model_module": "@jupyter-widgets/controls",
            "_model_module_version": "1.5.0",
            "_model_name": "DescriptionStyleModel",
            "_view_count": null,
            "_view_module": "@jupyter-widgets/base",
            "_view_module_version": "1.2.0",
            "_view_name": "StyleView",
            "description_width": ""
          }
        },
        "5ca40693401449caba0ca83ecc908d2b": {
          "model_module": "@jupyter-widgets/controls",
          "model_name": "HBoxModel",
          "model_module_version": "1.5.0",
          "state": {
            "_dom_classes": [],
            "_model_module": "@jupyter-widgets/controls",
            "_model_module_version": "1.5.0",
            "_model_name": "HBoxModel",
            "_view_count": null,
            "_view_module": "@jupyter-widgets/controls",
            "_view_module_version": "1.5.0",
            "_view_name": "HBoxView",
            "box_style": "",
            "children": [
              "IPY_MODEL_9747796ed29549d3a7b51640be220fa8",
              "IPY_MODEL_9fa6b2b3cb6247bb94972357cd5c8b79",
              "IPY_MODEL_37f53e2ef6d2401db84b24a38dbea4c2"
            ],
            "layout": "IPY_MODEL_334aaf39fcfc4ed6b01dec19089cf69b"
          }
        },
        "9747796ed29549d3a7b51640be220fa8": {
          "model_module": "@jupyter-widgets/controls",
          "model_name": "HTMLModel",
          "model_module_version": "1.5.0",
          "state": {
            "_dom_classes": [],
            "_model_module": "@jupyter-widgets/controls",
            "_model_module_version": "1.5.0",
            "_model_name": "HTMLModel",
            "_view_count": null,
            "_view_module": "@jupyter-widgets/controls",
            "_view_module_version": "1.5.0",
            "_view_name": "HTMLView",
            "description": "",
            "description_tooltip": null,
            "layout": "IPY_MODEL_a880af74de9c4da19074b6ba6d76ac43",
            "placeholder": "​",
            "style": "IPY_MODEL_13392a5877d74d179aa40e4c70988143",
            "value": "tokenizer_config.json: 100%"
          }
        },
        "9fa6b2b3cb6247bb94972357cd5c8b79": {
          "model_module": "@jupyter-widgets/controls",
          "model_name": "FloatProgressModel",
          "model_module_version": "1.5.0",
          "state": {
            "_dom_classes": [],
            "_model_module": "@jupyter-widgets/controls",
            "_model_module_version": "1.5.0",
            "_model_name": "FloatProgressModel",
            "_view_count": null,
            "_view_module": "@jupyter-widgets/controls",
            "_view_module_version": "1.5.0",
            "_view_name": "ProgressView",
            "bar_style": "success",
            "description": "",
            "description_tooltip": null,
            "layout": "IPY_MODEL_b615daf5328342ba934e88d80c98032a",
            "max": 48,
            "min": 0,
            "orientation": "horizontal",
            "style": "IPY_MODEL_440bae90328e4d70bf03be2b11d8b165",
            "value": 48
          }
        },
        "37f53e2ef6d2401db84b24a38dbea4c2": {
          "model_module": "@jupyter-widgets/controls",
          "model_name": "HTMLModel",
          "model_module_version": "1.5.0",
          "state": {
            "_dom_classes": [],
            "_model_module": "@jupyter-widgets/controls",
            "_model_module_version": "1.5.0",
            "_model_name": "HTMLModel",
            "_view_count": null,
            "_view_module": "@jupyter-widgets/controls",
            "_view_module_version": "1.5.0",
            "_view_name": "HTMLView",
            "description": "",
            "description_tooltip": null,
            "layout": "IPY_MODEL_4b5d8fdedf404ef4b013d46ff901e445",
            "placeholder": "​",
            "style": "IPY_MODEL_382b1f1060b24c909a83ccb2195972b5",
            "value": " 48.0/48.0 [00:00&lt;00:00, 931B/s]"
          }
        },
        "334aaf39fcfc4ed6b01dec19089cf69b": {
          "model_module": "@jupyter-widgets/base",
          "model_name": "LayoutModel",
          "model_module_version": "1.2.0",
          "state": {
            "_model_module": "@jupyter-widgets/base",
            "_model_module_version": "1.2.0",
            "_model_name": "LayoutModel",
            "_view_count": null,
            "_view_module": "@jupyter-widgets/base",
            "_view_module_version": "1.2.0",
            "_view_name": "LayoutView",
            "align_content": null,
            "align_items": null,
            "align_self": null,
            "border": null,
            "bottom": null,
            "display": null,
            "flex": null,
            "flex_flow": null,
            "grid_area": null,
            "grid_auto_columns": null,
            "grid_auto_flow": null,
            "grid_auto_rows": null,
            "grid_column": null,
            "grid_gap": null,
            "grid_row": null,
            "grid_template_areas": null,
            "grid_template_columns": null,
            "grid_template_rows": null,
            "height": null,
            "justify_content": null,
            "justify_items": null,
            "left": null,
            "margin": null,
            "max_height": null,
            "max_width": null,
            "min_height": null,
            "min_width": null,
            "object_fit": null,
            "object_position": null,
            "order": null,
            "overflow": null,
            "overflow_x": null,
            "overflow_y": null,
            "padding": null,
            "right": null,
            "top": null,
            "visibility": null,
            "width": null
          }
        },
        "a880af74de9c4da19074b6ba6d76ac43": {
          "model_module": "@jupyter-widgets/base",
          "model_name": "LayoutModel",
          "model_module_version": "1.2.0",
          "state": {
            "_model_module": "@jupyter-widgets/base",
            "_model_module_version": "1.2.0",
            "_model_name": "LayoutModel",
            "_view_count": null,
            "_view_module": "@jupyter-widgets/base",
            "_view_module_version": "1.2.0",
            "_view_name": "LayoutView",
            "align_content": null,
            "align_items": null,
            "align_self": null,
            "border": null,
            "bottom": null,
            "display": null,
            "flex": null,
            "flex_flow": null,
            "grid_area": null,
            "grid_auto_columns": null,
            "grid_auto_flow": null,
            "grid_auto_rows": null,
            "grid_column": null,
            "grid_gap": null,
            "grid_row": null,
            "grid_template_areas": null,
            "grid_template_columns": null,
            "grid_template_rows": null,
            "height": null,
            "justify_content": null,
            "justify_items": null,
            "left": null,
            "margin": null,
            "max_height": null,
            "max_width": null,
            "min_height": null,
            "min_width": null,
            "object_fit": null,
            "object_position": null,
            "order": null,
            "overflow": null,
            "overflow_x": null,
            "overflow_y": null,
            "padding": null,
            "right": null,
            "top": null,
            "visibility": null,
            "width": null
          }
        },
        "13392a5877d74d179aa40e4c70988143": {
          "model_module": "@jupyter-widgets/controls",
          "model_name": "DescriptionStyleModel",
          "model_module_version": "1.5.0",
          "state": {
            "_model_module": "@jupyter-widgets/controls",
            "_model_module_version": "1.5.0",
            "_model_name": "DescriptionStyleModel",
            "_view_count": null,
            "_view_module": "@jupyter-widgets/base",
            "_view_module_version": "1.2.0",
            "_view_name": "StyleView",
            "description_width": ""
          }
        },
        "b615daf5328342ba934e88d80c98032a": {
          "model_module": "@jupyter-widgets/base",
          "model_name": "LayoutModel",
          "model_module_version": "1.2.0",
          "state": {
            "_model_module": "@jupyter-widgets/base",
            "_model_module_version": "1.2.0",
            "_model_name": "LayoutModel",
            "_view_count": null,
            "_view_module": "@jupyter-widgets/base",
            "_view_module_version": "1.2.0",
            "_view_name": "LayoutView",
            "align_content": null,
            "align_items": null,
            "align_self": null,
            "border": null,
            "bottom": null,
            "display": null,
            "flex": null,
            "flex_flow": null,
            "grid_area": null,
            "grid_auto_columns": null,
            "grid_auto_flow": null,
            "grid_auto_rows": null,
            "grid_column": null,
            "grid_gap": null,
            "grid_row": null,
            "grid_template_areas": null,
            "grid_template_columns": null,
            "grid_template_rows": null,
            "height": null,
            "justify_content": null,
            "justify_items": null,
            "left": null,
            "margin": null,
            "max_height": null,
            "max_width": null,
            "min_height": null,
            "min_width": null,
            "object_fit": null,
            "object_position": null,
            "order": null,
            "overflow": null,
            "overflow_x": null,
            "overflow_y": null,
            "padding": null,
            "right": null,
            "top": null,
            "visibility": null,
            "width": null
          }
        },
        "440bae90328e4d70bf03be2b11d8b165": {
          "model_module": "@jupyter-widgets/controls",
          "model_name": "ProgressStyleModel",
          "model_module_version": "1.5.0",
          "state": {
            "_model_module": "@jupyter-widgets/controls",
            "_model_module_version": "1.5.0",
            "_model_name": "ProgressStyleModel",
            "_view_count": null,
            "_view_module": "@jupyter-widgets/base",
            "_view_module_version": "1.2.0",
            "_view_name": "StyleView",
            "bar_color": null,
            "description_width": ""
          }
        },
        "4b5d8fdedf404ef4b013d46ff901e445": {
          "model_module": "@jupyter-widgets/base",
          "model_name": "LayoutModel",
          "model_module_version": "1.2.0",
          "state": {
            "_model_module": "@jupyter-widgets/base",
            "_model_module_version": "1.2.0",
            "_model_name": "LayoutModel",
            "_view_count": null,
            "_view_module": "@jupyter-widgets/base",
            "_view_module_version": "1.2.0",
            "_view_name": "LayoutView",
            "align_content": null,
            "align_items": null,
            "align_self": null,
            "border": null,
            "bottom": null,
            "display": null,
            "flex": null,
            "flex_flow": null,
            "grid_area": null,
            "grid_auto_columns": null,
            "grid_auto_flow": null,
            "grid_auto_rows": null,
            "grid_column": null,
            "grid_gap": null,
            "grid_row": null,
            "grid_template_areas": null,
            "grid_template_columns": null,
            "grid_template_rows": null,
            "height": null,
            "justify_content": null,
            "justify_items": null,
            "left": null,
            "margin": null,
            "max_height": null,
            "max_width": null,
            "min_height": null,
            "min_width": null,
            "object_fit": null,
            "object_position": null,
            "order": null,
            "overflow": null,
            "overflow_x": null,
            "overflow_y": null,
            "padding": null,
            "right": null,
            "top": null,
            "visibility": null,
            "width": null
          }
        },
        "382b1f1060b24c909a83ccb2195972b5": {
          "model_module": "@jupyter-widgets/controls",
          "model_name": "DescriptionStyleModel",
          "model_module_version": "1.5.0",
          "state": {
            "_model_module": "@jupyter-widgets/controls",
            "_model_module_version": "1.5.0",
            "_model_name": "DescriptionStyleModel",
            "_view_count": null,
            "_view_module": "@jupyter-widgets/base",
            "_view_module_version": "1.2.0",
            "_view_name": "StyleView",
            "description_width": ""
          }
        },
        "5a4a2f845d6f4c8bb488a01a0b0f80f5": {
          "model_module": "@jupyter-widgets/controls",
          "model_name": "HBoxModel",
          "model_module_version": "1.5.0",
          "state": {
            "_dom_classes": [],
            "_model_module": "@jupyter-widgets/controls",
            "_model_module_version": "1.5.0",
            "_model_name": "HBoxModel",
            "_view_count": null,
            "_view_module": "@jupyter-widgets/controls",
            "_view_module_version": "1.5.0",
            "_view_name": "HBoxView",
            "box_style": "",
            "children": [
              "IPY_MODEL_c3a3fd115a89452fa63c68b840de1a77",
              "IPY_MODEL_427f2b4a70da4ec1a10be6add88c9e29",
              "IPY_MODEL_488b3c3c85fe4091acdcf926fadb2b99"
            ],
            "layout": "IPY_MODEL_1e8bb21c62484b599fe61dd5556c0dd2"
          }
        },
        "c3a3fd115a89452fa63c68b840de1a77": {
          "model_module": "@jupyter-widgets/controls",
          "model_name": "HTMLModel",
          "model_module_version": "1.5.0",
          "state": {
            "_dom_classes": [],
            "_model_module": "@jupyter-widgets/controls",
            "_model_module_version": "1.5.0",
            "_model_name": "HTMLModel",
            "_view_count": null,
            "_view_module": "@jupyter-widgets/controls",
            "_view_module_version": "1.5.0",
            "_view_name": "HTMLView",
            "description": "",
            "description_tooltip": null,
            "layout": "IPY_MODEL_ca3a3d5e9556406c9a3993bc17b35613",
            "placeholder": "​",
            "style": "IPY_MODEL_b7afd44bce6a4ee0a80e228a88e45ab6",
            "value": "vocab.txt: 100%"
          }
        },
        "427f2b4a70da4ec1a10be6add88c9e29": {
          "model_module": "@jupyter-widgets/controls",
          "model_name": "FloatProgressModel",
          "model_module_version": "1.5.0",
          "state": {
            "_dom_classes": [],
            "_model_module": "@jupyter-widgets/controls",
            "_model_module_version": "1.5.0",
            "_model_name": "FloatProgressModel",
            "_view_count": null,
            "_view_module": "@jupyter-widgets/controls",
            "_view_module_version": "1.5.0",
            "_view_name": "ProgressView",
            "bar_style": "success",
            "description": "",
            "description_tooltip": null,
            "layout": "IPY_MODEL_337a7557b6d2457fb039b5e74ca36fbf",
            "max": 231508,
            "min": 0,
            "orientation": "horizontal",
            "style": "IPY_MODEL_2b26c44c5fa647f4ae14389e19e75320",
            "value": 231508
          }
        },
        "488b3c3c85fe4091acdcf926fadb2b99": {
          "model_module": "@jupyter-widgets/controls",
          "model_name": "HTMLModel",
          "model_module_version": "1.5.0",
          "state": {
            "_dom_classes": [],
            "_model_module": "@jupyter-widgets/controls",
            "_model_module_version": "1.5.0",
            "_model_name": "HTMLModel",
            "_view_count": null,
            "_view_module": "@jupyter-widgets/controls",
            "_view_module_version": "1.5.0",
            "_view_name": "HTMLView",
            "description": "",
            "description_tooltip": null,
            "layout": "IPY_MODEL_e8884ae8018b420fac0c54bca3aa4bee",
            "placeholder": "​",
            "style": "IPY_MODEL_ed5c294d41f0463084b079c211f671f8",
            "value": " 232k/232k [00:00&lt;00:00, 1.40MB/s]"
          }
        },
        "1e8bb21c62484b599fe61dd5556c0dd2": {
          "model_module": "@jupyter-widgets/base",
          "model_name": "LayoutModel",
          "model_module_version": "1.2.0",
          "state": {
            "_model_module": "@jupyter-widgets/base",
            "_model_module_version": "1.2.0",
            "_model_name": "LayoutModel",
            "_view_count": null,
            "_view_module": "@jupyter-widgets/base",
            "_view_module_version": "1.2.0",
            "_view_name": "LayoutView",
            "align_content": null,
            "align_items": null,
            "align_self": null,
            "border": null,
            "bottom": null,
            "display": null,
            "flex": null,
            "flex_flow": null,
            "grid_area": null,
            "grid_auto_columns": null,
            "grid_auto_flow": null,
            "grid_auto_rows": null,
            "grid_column": null,
            "grid_gap": null,
            "grid_row": null,
            "grid_template_areas": null,
            "grid_template_columns": null,
            "grid_template_rows": null,
            "height": null,
            "justify_content": null,
            "justify_items": null,
            "left": null,
            "margin": null,
            "max_height": null,
            "max_width": null,
            "min_height": null,
            "min_width": null,
            "object_fit": null,
            "object_position": null,
            "order": null,
            "overflow": null,
            "overflow_x": null,
            "overflow_y": null,
            "padding": null,
            "right": null,
            "top": null,
            "visibility": null,
            "width": null
          }
        },
        "ca3a3d5e9556406c9a3993bc17b35613": {
          "model_module": "@jupyter-widgets/base",
          "model_name": "LayoutModel",
          "model_module_version": "1.2.0",
          "state": {
            "_model_module": "@jupyter-widgets/base",
            "_model_module_version": "1.2.0",
            "_model_name": "LayoutModel",
            "_view_count": null,
            "_view_module": "@jupyter-widgets/base",
            "_view_module_version": "1.2.0",
            "_view_name": "LayoutView",
            "align_content": null,
            "align_items": null,
            "align_self": null,
            "border": null,
            "bottom": null,
            "display": null,
            "flex": null,
            "flex_flow": null,
            "grid_area": null,
            "grid_auto_columns": null,
            "grid_auto_flow": null,
            "grid_auto_rows": null,
            "grid_column": null,
            "grid_gap": null,
            "grid_row": null,
            "grid_template_areas": null,
            "grid_template_columns": null,
            "grid_template_rows": null,
            "height": null,
            "justify_content": null,
            "justify_items": null,
            "left": null,
            "margin": null,
            "max_height": null,
            "max_width": null,
            "min_height": null,
            "min_width": null,
            "object_fit": null,
            "object_position": null,
            "order": null,
            "overflow": null,
            "overflow_x": null,
            "overflow_y": null,
            "padding": null,
            "right": null,
            "top": null,
            "visibility": null,
            "width": null
          }
        },
        "b7afd44bce6a4ee0a80e228a88e45ab6": {
          "model_module": "@jupyter-widgets/controls",
          "model_name": "DescriptionStyleModel",
          "model_module_version": "1.5.0",
          "state": {
            "_model_module": "@jupyter-widgets/controls",
            "_model_module_version": "1.5.0",
            "_model_name": "DescriptionStyleModel",
            "_view_count": null,
            "_view_module": "@jupyter-widgets/base",
            "_view_module_version": "1.2.0",
            "_view_name": "StyleView",
            "description_width": ""
          }
        },
        "337a7557b6d2457fb039b5e74ca36fbf": {
          "model_module": "@jupyter-widgets/base",
          "model_name": "LayoutModel",
          "model_module_version": "1.2.0",
          "state": {
            "_model_module": "@jupyter-widgets/base",
            "_model_module_version": "1.2.0",
            "_model_name": "LayoutModel",
            "_view_count": null,
            "_view_module": "@jupyter-widgets/base",
            "_view_module_version": "1.2.0",
            "_view_name": "LayoutView",
            "align_content": null,
            "align_items": null,
            "align_self": null,
            "border": null,
            "bottom": null,
            "display": null,
            "flex": null,
            "flex_flow": null,
            "grid_area": null,
            "grid_auto_columns": null,
            "grid_auto_flow": null,
            "grid_auto_rows": null,
            "grid_column": null,
            "grid_gap": null,
            "grid_row": null,
            "grid_template_areas": null,
            "grid_template_columns": null,
            "grid_template_rows": null,
            "height": null,
            "justify_content": null,
            "justify_items": null,
            "left": null,
            "margin": null,
            "max_height": null,
            "max_width": null,
            "min_height": null,
            "min_width": null,
            "object_fit": null,
            "object_position": null,
            "order": null,
            "overflow": null,
            "overflow_x": null,
            "overflow_y": null,
            "padding": null,
            "right": null,
            "top": null,
            "visibility": null,
            "width": null
          }
        },
        "2b26c44c5fa647f4ae14389e19e75320": {
          "model_module": "@jupyter-widgets/controls",
          "model_name": "ProgressStyleModel",
          "model_module_version": "1.5.0",
          "state": {
            "_model_module": "@jupyter-widgets/controls",
            "_model_module_version": "1.5.0",
            "_model_name": "ProgressStyleModel",
            "_view_count": null,
            "_view_module": "@jupyter-widgets/base",
            "_view_module_version": "1.2.0",
            "_view_name": "StyleView",
            "bar_color": null,
            "description_width": ""
          }
        },
        "e8884ae8018b420fac0c54bca3aa4bee": {
          "model_module": "@jupyter-widgets/base",
          "model_name": "LayoutModel",
          "model_module_version": "1.2.0",
          "state": {
            "_model_module": "@jupyter-widgets/base",
            "_model_module_version": "1.2.0",
            "_model_name": "LayoutModel",
            "_view_count": null,
            "_view_module": "@jupyter-widgets/base",
            "_view_module_version": "1.2.0",
            "_view_name": "LayoutView",
            "align_content": null,
            "align_items": null,
            "align_self": null,
            "border": null,
            "bottom": null,
            "display": null,
            "flex": null,
            "flex_flow": null,
            "grid_area": null,
            "grid_auto_columns": null,
            "grid_auto_flow": null,
            "grid_auto_rows": null,
            "grid_column": null,
            "grid_gap": null,
            "grid_row": null,
            "grid_template_areas": null,
            "grid_template_columns": null,
            "grid_template_rows": null,
            "height": null,
            "justify_content": null,
            "justify_items": null,
            "left": null,
            "margin": null,
            "max_height": null,
            "max_width": null,
            "min_height": null,
            "min_width": null,
            "object_fit": null,
            "object_position": null,
            "order": null,
            "overflow": null,
            "overflow_x": null,
            "overflow_y": null,
            "padding": null,
            "right": null,
            "top": null,
            "visibility": null,
            "width": null
          }
        },
        "ed5c294d41f0463084b079c211f671f8": {
          "model_module": "@jupyter-widgets/controls",
          "model_name": "DescriptionStyleModel",
          "model_module_version": "1.5.0",
          "state": {
            "_model_module": "@jupyter-widgets/controls",
            "_model_module_version": "1.5.0",
            "_model_name": "DescriptionStyleModel",
            "_view_count": null,
            "_view_module": "@jupyter-widgets/base",
            "_view_module_version": "1.2.0",
            "_view_name": "StyleView",
            "description_width": ""
          }
        },
        "91109c34a57e415abb3cd2045c2ae408": {
          "model_module": "@jupyter-widgets/controls",
          "model_name": "HBoxModel",
          "model_module_version": "1.5.0",
          "state": {
            "_dom_classes": [],
            "_model_module": "@jupyter-widgets/controls",
            "_model_module_version": "1.5.0",
            "_model_name": "HBoxModel",
            "_view_count": null,
            "_view_module": "@jupyter-widgets/controls",
            "_view_module_version": "1.5.0",
            "_view_name": "HBoxView",
            "box_style": "",
            "children": [
              "IPY_MODEL_54c10a4c28704c118548e1ad763e4c3b",
              "IPY_MODEL_abbe9a7d51a442a383a310722fd90a8d",
              "IPY_MODEL_eee3153df266477ca6891f0c6083c59d"
            ],
            "layout": "IPY_MODEL_ea66cea9f35d41bbb3cd957729ff015f"
          }
        },
        "54c10a4c28704c118548e1ad763e4c3b": {
          "model_module": "@jupyter-widgets/controls",
          "model_name": "HTMLModel",
          "model_module_version": "1.5.0",
          "state": {
            "_dom_classes": [],
            "_model_module": "@jupyter-widgets/controls",
            "_model_module_version": "1.5.0",
            "_model_name": "HTMLModel",
            "_view_count": null,
            "_view_module": "@jupyter-widgets/controls",
            "_view_module_version": "1.5.0",
            "_view_name": "HTMLView",
            "description": "",
            "description_tooltip": null,
            "layout": "IPY_MODEL_e75b486969864b2ba6d2743aba689982",
            "placeholder": "​",
            "style": "IPY_MODEL_1ad2794778ea473e96bea75fddc781a3",
            "value": "tokenizer.json: 100%"
          }
        },
        "abbe9a7d51a442a383a310722fd90a8d": {
          "model_module": "@jupyter-widgets/controls",
          "model_name": "FloatProgressModel",
          "model_module_version": "1.5.0",
          "state": {
            "_dom_classes": [],
            "_model_module": "@jupyter-widgets/controls",
            "_model_module_version": "1.5.0",
            "_model_name": "FloatProgressModel",
            "_view_count": null,
            "_view_module": "@jupyter-widgets/controls",
            "_view_module_version": "1.5.0",
            "_view_name": "ProgressView",
            "bar_style": "success",
            "description": "",
            "description_tooltip": null,
            "layout": "IPY_MODEL_a0c7542c909646df8e43b25770ba1768",
            "max": 466062,
            "min": 0,
            "orientation": "horizontal",
            "style": "IPY_MODEL_78101390dfa44d01be468aa07beb5265",
            "value": 466062
          }
        },
        "eee3153df266477ca6891f0c6083c59d": {
          "model_module": "@jupyter-widgets/controls",
          "model_name": "HTMLModel",
          "model_module_version": "1.5.0",
          "state": {
            "_dom_classes": [],
            "_model_module": "@jupyter-widgets/controls",
            "_model_module_version": "1.5.0",
            "_model_name": "HTMLModel",
            "_view_count": null,
            "_view_module": "@jupyter-widgets/controls",
            "_view_module_version": "1.5.0",
            "_view_name": "HTMLView",
            "description": "",
            "description_tooltip": null,
            "layout": "IPY_MODEL_99b21d8a41f441d29dfe22db35031135",
            "placeholder": "​",
            "style": "IPY_MODEL_deb10725a32540a7a2b0f15fce5c730d",
            "value": " 466k/466k [00:00&lt;00:00, 5.56MB/s]"
          }
        },
        "ea66cea9f35d41bbb3cd957729ff015f": {
          "model_module": "@jupyter-widgets/base",
          "model_name": "LayoutModel",
          "model_module_version": "1.2.0",
          "state": {
            "_model_module": "@jupyter-widgets/base",
            "_model_module_version": "1.2.0",
            "_model_name": "LayoutModel",
            "_view_count": null,
            "_view_module": "@jupyter-widgets/base",
            "_view_module_version": "1.2.0",
            "_view_name": "LayoutView",
            "align_content": null,
            "align_items": null,
            "align_self": null,
            "border": null,
            "bottom": null,
            "display": null,
            "flex": null,
            "flex_flow": null,
            "grid_area": null,
            "grid_auto_columns": null,
            "grid_auto_flow": null,
            "grid_auto_rows": null,
            "grid_column": null,
            "grid_gap": null,
            "grid_row": null,
            "grid_template_areas": null,
            "grid_template_columns": null,
            "grid_template_rows": null,
            "height": null,
            "justify_content": null,
            "justify_items": null,
            "left": null,
            "margin": null,
            "max_height": null,
            "max_width": null,
            "min_height": null,
            "min_width": null,
            "object_fit": null,
            "object_position": null,
            "order": null,
            "overflow": null,
            "overflow_x": null,
            "overflow_y": null,
            "padding": null,
            "right": null,
            "top": null,
            "visibility": null,
            "width": null
          }
        },
        "e75b486969864b2ba6d2743aba689982": {
          "model_module": "@jupyter-widgets/base",
          "model_name": "LayoutModel",
          "model_module_version": "1.2.0",
          "state": {
            "_model_module": "@jupyter-widgets/base",
            "_model_module_version": "1.2.0",
            "_model_name": "LayoutModel",
            "_view_count": null,
            "_view_module": "@jupyter-widgets/base",
            "_view_module_version": "1.2.0",
            "_view_name": "LayoutView",
            "align_content": null,
            "align_items": null,
            "align_self": null,
            "border": null,
            "bottom": null,
            "display": null,
            "flex": null,
            "flex_flow": null,
            "grid_area": null,
            "grid_auto_columns": null,
            "grid_auto_flow": null,
            "grid_auto_rows": null,
            "grid_column": null,
            "grid_gap": null,
            "grid_row": null,
            "grid_template_areas": null,
            "grid_template_columns": null,
            "grid_template_rows": null,
            "height": null,
            "justify_content": null,
            "justify_items": null,
            "left": null,
            "margin": null,
            "max_height": null,
            "max_width": null,
            "min_height": null,
            "min_width": null,
            "object_fit": null,
            "object_position": null,
            "order": null,
            "overflow": null,
            "overflow_x": null,
            "overflow_y": null,
            "padding": null,
            "right": null,
            "top": null,
            "visibility": null,
            "width": null
          }
        },
        "1ad2794778ea473e96bea75fddc781a3": {
          "model_module": "@jupyter-widgets/controls",
          "model_name": "DescriptionStyleModel",
          "model_module_version": "1.5.0",
          "state": {
            "_model_module": "@jupyter-widgets/controls",
            "_model_module_version": "1.5.0",
            "_model_name": "DescriptionStyleModel",
            "_view_count": null,
            "_view_module": "@jupyter-widgets/base",
            "_view_module_version": "1.2.0",
            "_view_name": "StyleView",
            "description_width": ""
          }
        },
        "a0c7542c909646df8e43b25770ba1768": {
          "model_module": "@jupyter-widgets/base",
          "model_name": "LayoutModel",
          "model_module_version": "1.2.0",
          "state": {
            "_model_module": "@jupyter-widgets/base",
            "_model_module_version": "1.2.0",
            "_model_name": "LayoutModel",
            "_view_count": null,
            "_view_module": "@jupyter-widgets/base",
            "_view_module_version": "1.2.0",
            "_view_name": "LayoutView",
            "align_content": null,
            "align_items": null,
            "align_self": null,
            "border": null,
            "bottom": null,
            "display": null,
            "flex": null,
            "flex_flow": null,
            "grid_area": null,
            "grid_auto_columns": null,
            "grid_auto_flow": null,
            "grid_auto_rows": null,
            "grid_column": null,
            "grid_gap": null,
            "grid_row": null,
            "grid_template_areas": null,
            "grid_template_columns": null,
            "grid_template_rows": null,
            "height": null,
            "justify_content": null,
            "justify_items": null,
            "left": null,
            "margin": null,
            "max_height": null,
            "max_width": null,
            "min_height": null,
            "min_width": null,
            "object_fit": null,
            "object_position": null,
            "order": null,
            "overflow": null,
            "overflow_x": null,
            "overflow_y": null,
            "padding": null,
            "right": null,
            "top": null,
            "visibility": null,
            "width": null
          }
        },
        "78101390dfa44d01be468aa07beb5265": {
          "model_module": "@jupyter-widgets/controls",
          "model_name": "ProgressStyleModel",
          "model_module_version": "1.5.0",
          "state": {
            "_model_module": "@jupyter-widgets/controls",
            "_model_module_version": "1.5.0",
            "_model_name": "ProgressStyleModel",
            "_view_count": null,
            "_view_module": "@jupyter-widgets/base",
            "_view_module_version": "1.2.0",
            "_view_name": "StyleView",
            "bar_color": null,
            "description_width": ""
          }
        },
        "99b21d8a41f441d29dfe22db35031135": {
          "model_module": "@jupyter-widgets/base",
          "model_name": "LayoutModel",
          "model_module_version": "1.2.0",
          "state": {
            "_model_module": "@jupyter-widgets/base",
            "_model_module_version": "1.2.0",
            "_model_name": "LayoutModel",
            "_view_count": null,
            "_view_module": "@jupyter-widgets/base",
            "_view_module_version": "1.2.0",
            "_view_name": "LayoutView",
            "align_content": null,
            "align_items": null,
            "align_self": null,
            "border": null,
            "bottom": null,
            "display": null,
            "flex": null,
            "flex_flow": null,
            "grid_area": null,
            "grid_auto_columns": null,
            "grid_auto_flow": null,
            "grid_auto_rows": null,
            "grid_column": null,
            "grid_gap": null,
            "grid_row": null,
            "grid_template_areas": null,
            "grid_template_columns": null,
            "grid_template_rows": null,
            "height": null,
            "justify_content": null,
            "justify_items": null,
            "left": null,
            "margin": null,
            "max_height": null,
            "max_width": null,
            "min_height": null,
            "min_width": null,
            "object_fit": null,
            "object_position": null,
            "order": null,
            "overflow": null,
            "overflow_x": null,
            "overflow_y": null,
            "padding": null,
            "right": null,
            "top": null,
            "visibility": null,
            "width": null
          }
        },
        "deb10725a32540a7a2b0f15fce5c730d": {
          "model_module": "@jupyter-widgets/controls",
          "model_name": "DescriptionStyleModel",
          "model_module_version": "1.5.0",
          "state": {
            "_model_module": "@jupyter-widgets/controls",
            "_model_module_version": "1.5.0",
            "_model_name": "DescriptionStyleModel",
            "_view_count": null,
            "_view_module": "@jupyter-widgets/base",
            "_view_module_version": "1.2.0",
            "_view_name": "StyleView",
            "description_width": ""
          }
        },
        "4c248629cb2f42ab9b2826a9c283e34e": {
          "model_module": "@jupyter-widgets/controls",
          "model_name": "HBoxModel",
          "model_module_version": "1.5.0",
          "state": {
            "_dom_classes": [],
            "_model_module": "@jupyter-widgets/controls",
            "_model_module_version": "1.5.0",
            "_model_name": "HBoxModel",
            "_view_count": null,
            "_view_module": "@jupyter-widgets/controls",
            "_view_module_version": "1.5.0",
            "_view_name": "HBoxView",
            "box_style": "",
            "children": [
              "IPY_MODEL_224847da0f674dce933768a367936919",
              "IPY_MODEL_31097593d908495c8055246e6d7e8616",
              "IPY_MODEL_94ce3cf07f4e43f28bc559e4efd7814c"
            ],
            "layout": "IPY_MODEL_7e6bc5c6f3b04d729578d8edd49dba90"
          }
        },
        "224847da0f674dce933768a367936919": {
          "model_module": "@jupyter-widgets/controls",
          "model_name": "HTMLModel",
          "model_module_version": "1.5.0",
          "state": {
            "_dom_classes": [],
            "_model_module": "@jupyter-widgets/controls",
            "_model_module_version": "1.5.0",
            "_model_name": "HTMLModel",
            "_view_count": null,
            "_view_module": "@jupyter-widgets/controls",
            "_view_module_version": "1.5.0",
            "_view_name": "HTMLView",
            "description": "",
            "description_tooltip": null,
            "layout": "IPY_MODEL_fa4d8d1e25fc47ae827db68a1cc739f4",
            "placeholder": "​",
            "style": "IPY_MODEL_03ef3dd275994718a743bf711244feed",
            "value": "tokenizer_config.json: 100%"
          }
        },
        "31097593d908495c8055246e6d7e8616": {
          "model_module": "@jupyter-widgets/controls",
          "model_name": "FloatProgressModel",
          "model_module_version": "1.5.0",
          "state": {
            "_dom_classes": [],
            "_model_module": "@jupyter-widgets/controls",
            "_model_module_version": "1.5.0",
            "_model_name": "FloatProgressModel",
            "_view_count": null,
            "_view_module": "@jupyter-widgets/controls",
            "_view_module_version": "1.5.0",
            "_view_name": "ProgressView",
            "bar_style": "success",
            "description": "",
            "description_tooltip": null,
            "layout": "IPY_MODEL_6ff005bfc6a74698a7daeaafea2d21ef",
            "max": 48,
            "min": 0,
            "orientation": "horizontal",
            "style": "IPY_MODEL_bec3bb933d6e4e59a16a66ad52dd91cf",
            "value": 48
          }
        },
        "94ce3cf07f4e43f28bc559e4efd7814c": {
          "model_module": "@jupyter-widgets/controls",
          "model_name": "HTMLModel",
          "model_module_version": "1.5.0",
          "state": {
            "_dom_classes": [],
            "_model_module": "@jupyter-widgets/controls",
            "_model_module_version": "1.5.0",
            "_model_name": "HTMLModel",
            "_view_count": null,
            "_view_module": "@jupyter-widgets/controls",
            "_view_module_version": "1.5.0",
            "_view_name": "HTMLView",
            "description": "",
            "description_tooltip": null,
            "layout": "IPY_MODEL_6d373cf978e9433cbab734f0bd86a1c2",
            "placeholder": "​",
            "style": "IPY_MODEL_ebe062fefe4d47cfa71a3b5c48f9a0f2",
            "value": " 48.0/48.0 [00:00&lt;00:00, 747B/s]"
          }
        },
        "7e6bc5c6f3b04d729578d8edd49dba90": {
          "model_module": "@jupyter-widgets/base",
          "model_name": "LayoutModel",
          "model_module_version": "1.2.0",
          "state": {
            "_model_module": "@jupyter-widgets/base",
            "_model_module_version": "1.2.0",
            "_model_name": "LayoutModel",
            "_view_count": null,
            "_view_module": "@jupyter-widgets/base",
            "_view_module_version": "1.2.0",
            "_view_name": "LayoutView",
            "align_content": null,
            "align_items": null,
            "align_self": null,
            "border": null,
            "bottom": null,
            "display": null,
            "flex": null,
            "flex_flow": null,
            "grid_area": null,
            "grid_auto_columns": null,
            "grid_auto_flow": null,
            "grid_auto_rows": null,
            "grid_column": null,
            "grid_gap": null,
            "grid_row": null,
            "grid_template_areas": null,
            "grid_template_columns": null,
            "grid_template_rows": null,
            "height": null,
            "justify_content": null,
            "justify_items": null,
            "left": null,
            "margin": null,
            "max_height": null,
            "max_width": null,
            "min_height": null,
            "min_width": null,
            "object_fit": null,
            "object_position": null,
            "order": null,
            "overflow": null,
            "overflow_x": null,
            "overflow_y": null,
            "padding": null,
            "right": null,
            "top": null,
            "visibility": null,
            "width": null
          }
        },
        "fa4d8d1e25fc47ae827db68a1cc739f4": {
          "model_module": "@jupyter-widgets/base",
          "model_name": "LayoutModel",
          "model_module_version": "1.2.0",
          "state": {
            "_model_module": "@jupyter-widgets/base",
            "_model_module_version": "1.2.0",
            "_model_name": "LayoutModel",
            "_view_count": null,
            "_view_module": "@jupyter-widgets/base",
            "_view_module_version": "1.2.0",
            "_view_name": "LayoutView",
            "align_content": null,
            "align_items": null,
            "align_self": null,
            "border": null,
            "bottom": null,
            "display": null,
            "flex": null,
            "flex_flow": null,
            "grid_area": null,
            "grid_auto_columns": null,
            "grid_auto_flow": null,
            "grid_auto_rows": null,
            "grid_column": null,
            "grid_gap": null,
            "grid_row": null,
            "grid_template_areas": null,
            "grid_template_columns": null,
            "grid_template_rows": null,
            "height": null,
            "justify_content": null,
            "justify_items": null,
            "left": null,
            "margin": null,
            "max_height": null,
            "max_width": null,
            "min_height": null,
            "min_width": null,
            "object_fit": null,
            "object_position": null,
            "order": null,
            "overflow": null,
            "overflow_x": null,
            "overflow_y": null,
            "padding": null,
            "right": null,
            "top": null,
            "visibility": null,
            "width": null
          }
        },
        "03ef3dd275994718a743bf711244feed": {
          "model_module": "@jupyter-widgets/controls",
          "model_name": "DescriptionStyleModel",
          "model_module_version": "1.5.0",
          "state": {
            "_model_module": "@jupyter-widgets/controls",
            "_model_module_version": "1.5.0",
            "_model_name": "DescriptionStyleModel",
            "_view_count": null,
            "_view_module": "@jupyter-widgets/base",
            "_view_module_version": "1.2.0",
            "_view_name": "StyleView",
            "description_width": ""
          }
        },
        "6ff005bfc6a74698a7daeaafea2d21ef": {
          "model_module": "@jupyter-widgets/base",
          "model_name": "LayoutModel",
          "model_module_version": "1.2.0",
          "state": {
            "_model_module": "@jupyter-widgets/base",
            "_model_module_version": "1.2.0",
            "_model_name": "LayoutModel",
            "_view_count": null,
            "_view_module": "@jupyter-widgets/base",
            "_view_module_version": "1.2.0",
            "_view_name": "LayoutView",
            "align_content": null,
            "align_items": null,
            "align_self": null,
            "border": null,
            "bottom": null,
            "display": null,
            "flex": null,
            "flex_flow": null,
            "grid_area": null,
            "grid_auto_columns": null,
            "grid_auto_flow": null,
            "grid_auto_rows": null,
            "grid_column": null,
            "grid_gap": null,
            "grid_row": null,
            "grid_template_areas": null,
            "grid_template_columns": null,
            "grid_template_rows": null,
            "height": null,
            "justify_content": null,
            "justify_items": null,
            "left": null,
            "margin": null,
            "max_height": null,
            "max_width": null,
            "min_height": null,
            "min_width": null,
            "object_fit": null,
            "object_position": null,
            "order": null,
            "overflow": null,
            "overflow_x": null,
            "overflow_y": null,
            "padding": null,
            "right": null,
            "top": null,
            "visibility": null,
            "width": null
          }
        },
        "bec3bb933d6e4e59a16a66ad52dd91cf": {
          "model_module": "@jupyter-widgets/controls",
          "model_name": "ProgressStyleModel",
          "model_module_version": "1.5.0",
          "state": {
            "_model_module": "@jupyter-widgets/controls",
            "_model_module_version": "1.5.0",
            "_model_name": "ProgressStyleModel",
            "_view_count": null,
            "_view_module": "@jupyter-widgets/base",
            "_view_module_version": "1.2.0",
            "_view_name": "StyleView",
            "bar_color": null,
            "description_width": ""
          }
        },
        "6d373cf978e9433cbab734f0bd86a1c2": {
          "model_module": "@jupyter-widgets/base",
          "model_name": "LayoutModel",
          "model_module_version": "1.2.0",
          "state": {
            "_model_module": "@jupyter-widgets/base",
            "_model_module_version": "1.2.0",
            "_model_name": "LayoutModel",
            "_view_count": null,
            "_view_module": "@jupyter-widgets/base",
            "_view_module_version": "1.2.0",
            "_view_name": "LayoutView",
            "align_content": null,
            "align_items": null,
            "align_self": null,
            "border": null,
            "bottom": null,
            "display": null,
            "flex": null,
            "flex_flow": null,
            "grid_area": null,
            "grid_auto_columns": null,
            "grid_auto_flow": null,
            "grid_auto_rows": null,
            "grid_column": null,
            "grid_gap": null,
            "grid_row": null,
            "grid_template_areas": null,
            "grid_template_columns": null,
            "grid_template_rows": null,
            "height": null,
            "justify_content": null,
            "justify_items": null,
            "left": null,
            "margin": null,
            "max_height": null,
            "max_width": null,
            "min_height": null,
            "min_width": null,
            "object_fit": null,
            "object_position": null,
            "order": null,
            "overflow": null,
            "overflow_x": null,
            "overflow_y": null,
            "padding": null,
            "right": null,
            "top": null,
            "visibility": null,
            "width": null
          }
        },
        "ebe062fefe4d47cfa71a3b5c48f9a0f2": {
          "model_module": "@jupyter-widgets/controls",
          "model_name": "DescriptionStyleModel",
          "model_module_version": "1.5.0",
          "state": {
            "_model_module": "@jupyter-widgets/controls",
            "_model_module_version": "1.5.0",
            "_model_name": "DescriptionStyleModel",
            "_view_count": null,
            "_view_module": "@jupyter-widgets/base",
            "_view_module_version": "1.2.0",
            "_view_name": "StyleView",
            "description_width": ""
          }
        },
        "7e29bf82ee9c4dbb9714a760fcd64cd8": {
          "model_module": "@jupyter-widgets/controls",
          "model_name": "HBoxModel",
          "model_module_version": "1.5.0",
          "state": {
            "_dom_classes": [],
            "_model_module": "@jupyter-widgets/controls",
            "_model_module_version": "1.5.0",
            "_model_name": "HBoxModel",
            "_view_count": null,
            "_view_module": "@jupyter-widgets/controls",
            "_view_module_version": "1.5.0",
            "_view_name": "HBoxView",
            "box_style": "",
            "children": [
              "IPY_MODEL_2f506a61765f4ac5ab7fcfe28956bbc1",
              "IPY_MODEL_571181a6a5784b5490686820f0779d57",
              "IPY_MODEL_22cbb45854e64f308e40f0db6caba6e7"
            ],
            "layout": "IPY_MODEL_b39659bb26f74df39a2531543b7dac54"
          }
        },
        "2f506a61765f4ac5ab7fcfe28956bbc1": {
          "model_module": "@jupyter-widgets/controls",
          "model_name": "HTMLModel",
          "model_module_version": "1.5.0",
          "state": {
            "_dom_classes": [],
            "_model_module": "@jupyter-widgets/controls",
            "_model_module_version": "1.5.0",
            "_model_name": "HTMLModel",
            "_view_count": null,
            "_view_module": "@jupyter-widgets/controls",
            "_view_module_version": "1.5.0",
            "_view_name": "HTMLView",
            "description": "",
            "description_tooltip": null,
            "layout": "IPY_MODEL_ce255d8e0f4c4c39ab7f14a4cf62bdd1",
            "placeholder": "​",
            "style": "IPY_MODEL_42505c536a1944f28ef0e04bd41f1d5f",
            "value": "Downloading readme: 100%"
          }
        },
        "571181a6a5784b5490686820f0779d57": {
          "model_module": "@jupyter-widgets/controls",
          "model_name": "FloatProgressModel",
          "model_module_version": "1.5.0",
          "state": {
            "_dom_classes": [],
            "_model_module": "@jupyter-widgets/controls",
            "_model_module_version": "1.5.0",
            "_model_name": "FloatProgressModel",
            "_view_count": null,
            "_view_module": "@jupyter-widgets/controls",
            "_view_module_version": "1.5.0",
            "_view_name": "ProgressView",
            "bar_style": "success",
            "description": "",
            "description_tooltip": null,
            "layout": "IPY_MODEL_bdee49d797d14e68b0689a26ff805b68",
            "max": 7809,
            "min": 0,
            "orientation": "horizontal",
            "style": "IPY_MODEL_abe4ccbc5f7e436ea48dc71f440ea033",
            "value": 7809
          }
        },
        "22cbb45854e64f308e40f0db6caba6e7": {
          "model_module": "@jupyter-widgets/controls",
          "model_name": "HTMLModel",
          "model_module_version": "1.5.0",
          "state": {
            "_dom_classes": [],
            "_model_module": "@jupyter-widgets/controls",
            "_model_module_version": "1.5.0",
            "_model_name": "HTMLModel",
            "_view_count": null,
            "_view_module": "@jupyter-widgets/controls",
            "_view_module_version": "1.5.0",
            "_view_name": "HTMLView",
            "description": "",
            "description_tooltip": null,
            "layout": "IPY_MODEL_78c189ea51d6413cb7d9393fcff4e1fb",
            "placeholder": "​",
            "style": "IPY_MODEL_4996b1fccb4b453aa3712edcad14b69f",
            "value": " 7.81k/7.81k [00:00&lt;00:00, 196kB/s]"
          }
        },
        "b39659bb26f74df39a2531543b7dac54": {
          "model_module": "@jupyter-widgets/base",
          "model_name": "LayoutModel",
          "model_module_version": "1.2.0",
          "state": {
            "_model_module": "@jupyter-widgets/base",
            "_model_module_version": "1.2.0",
            "_model_name": "LayoutModel",
            "_view_count": null,
            "_view_module": "@jupyter-widgets/base",
            "_view_module_version": "1.2.0",
            "_view_name": "LayoutView",
            "align_content": null,
            "align_items": null,
            "align_self": null,
            "border": null,
            "bottom": null,
            "display": null,
            "flex": null,
            "flex_flow": null,
            "grid_area": null,
            "grid_auto_columns": null,
            "grid_auto_flow": null,
            "grid_auto_rows": null,
            "grid_column": null,
            "grid_gap": null,
            "grid_row": null,
            "grid_template_areas": null,
            "grid_template_columns": null,
            "grid_template_rows": null,
            "height": null,
            "justify_content": null,
            "justify_items": null,
            "left": null,
            "margin": null,
            "max_height": null,
            "max_width": null,
            "min_height": null,
            "min_width": null,
            "object_fit": null,
            "object_position": null,
            "order": null,
            "overflow": null,
            "overflow_x": null,
            "overflow_y": null,
            "padding": null,
            "right": null,
            "top": null,
            "visibility": null,
            "width": null
          }
        },
        "ce255d8e0f4c4c39ab7f14a4cf62bdd1": {
          "model_module": "@jupyter-widgets/base",
          "model_name": "LayoutModel",
          "model_module_version": "1.2.0",
          "state": {
            "_model_module": "@jupyter-widgets/base",
            "_model_module_version": "1.2.0",
            "_model_name": "LayoutModel",
            "_view_count": null,
            "_view_module": "@jupyter-widgets/base",
            "_view_module_version": "1.2.0",
            "_view_name": "LayoutView",
            "align_content": null,
            "align_items": null,
            "align_self": null,
            "border": null,
            "bottom": null,
            "display": null,
            "flex": null,
            "flex_flow": null,
            "grid_area": null,
            "grid_auto_columns": null,
            "grid_auto_flow": null,
            "grid_auto_rows": null,
            "grid_column": null,
            "grid_gap": null,
            "grid_row": null,
            "grid_template_areas": null,
            "grid_template_columns": null,
            "grid_template_rows": null,
            "height": null,
            "justify_content": null,
            "justify_items": null,
            "left": null,
            "margin": null,
            "max_height": null,
            "max_width": null,
            "min_height": null,
            "min_width": null,
            "object_fit": null,
            "object_position": null,
            "order": null,
            "overflow": null,
            "overflow_x": null,
            "overflow_y": null,
            "padding": null,
            "right": null,
            "top": null,
            "visibility": null,
            "width": null
          }
        },
        "42505c536a1944f28ef0e04bd41f1d5f": {
          "model_module": "@jupyter-widgets/controls",
          "model_name": "DescriptionStyleModel",
          "model_module_version": "1.5.0",
          "state": {
            "_model_module": "@jupyter-widgets/controls",
            "_model_module_version": "1.5.0",
            "_model_name": "DescriptionStyleModel",
            "_view_count": null,
            "_view_module": "@jupyter-widgets/base",
            "_view_module_version": "1.2.0",
            "_view_name": "StyleView",
            "description_width": ""
          }
        },
        "bdee49d797d14e68b0689a26ff805b68": {
          "model_module": "@jupyter-widgets/base",
          "model_name": "LayoutModel",
          "model_module_version": "1.2.0",
          "state": {
            "_model_module": "@jupyter-widgets/base",
            "_model_module_version": "1.2.0",
            "_model_name": "LayoutModel",
            "_view_count": null,
            "_view_module": "@jupyter-widgets/base",
            "_view_module_version": "1.2.0",
            "_view_name": "LayoutView",
            "align_content": null,
            "align_items": null,
            "align_self": null,
            "border": null,
            "bottom": null,
            "display": null,
            "flex": null,
            "flex_flow": null,
            "grid_area": null,
            "grid_auto_columns": null,
            "grid_auto_flow": null,
            "grid_auto_rows": null,
            "grid_column": null,
            "grid_gap": null,
            "grid_row": null,
            "grid_template_areas": null,
            "grid_template_columns": null,
            "grid_template_rows": null,
            "height": null,
            "justify_content": null,
            "justify_items": null,
            "left": null,
            "margin": null,
            "max_height": null,
            "max_width": null,
            "min_height": null,
            "min_width": null,
            "object_fit": null,
            "object_position": null,
            "order": null,
            "overflow": null,
            "overflow_x": null,
            "overflow_y": null,
            "padding": null,
            "right": null,
            "top": null,
            "visibility": null,
            "width": null
          }
        },
        "abe4ccbc5f7e436ea48dc71f440ea033": {
          "model_module": "@jupyter-widgets/controls",
          "model_name": "ProgressStyleModel",
          "model_module_version": "1.5.0",
          "state": {
            "_model_module": "@jupyter-widgets/controls",
            "_model_module_version": "1.5.0",
            "_model_name": "ProgressStyleModel",
            "_view_count": null,
            "_view_module": "@jupyter-widgets/base",
            "_view_module_version": "1.2.0",
            "_view_name": "StyleView",
            "bar_color": null,
            "description_width": ""
          }
        },
        "78c189ea51d6413cb7d9393fcff4e1fb": {
          "model_module": "@jupyter-widgets/base",
          "model_name": "LayoutModel",
          "model_module_version": "1.2.0",
          "state": {
            "_model_module": "@jupyter-widgets/base",
            "_model_module_version": "1.2.0",
            "_model_name": "LayoutModel",
            "_view_count": null,
            "_view_module": "@jupyter-widgets/base",
            "_view_module_version": "1.2.0",
            "_view_name": "LayoutView",
            "align_content": null,
            "align_items": null,
            "align_self": null,
            "border": null,
            "bottom": null,
            "display": null,
            "flex": null,
            "flex_flow": null,
            "grid_area": null,
            "grid_auto_columns": null,
            "grid_auto_flow": null,
            "grid_auto_rows": null,
            "grid_column": null,
            "grid_gap": null,
            "grid_row": null,
            "grid_template_areas": null,
            "grid_template_columns": null,
            "grid_template_rows": null,
            "height": null,
            "justify_content": null,
            "justify_items": null,
            "left": null,
            "margin": null,
            "max_height": null,
            "max_width": null,
            "min_height": null,
            "min_width": null,
            "object_fit": null,
            "object_position": null,
            "order": null,
            "overflow": null,
            "overflow_x": null,
            "overflow_y": null,
            "padding": null,
            "right": null,
            "top": null,
            "visibility": null,
            "width": null
          }
        },
        "4996b1fccb4b453aa3712edcad14b69f": {
          "model_module": "@jupyter-widgets/controls",
          "model_name": "DescriptionStyleModel",
          "model_module_version": "1.5.0",
          "state": {
            "_model_module": "@jupyter-widgets/controls",
            "_model_module_version": "1.5.0",
            "_model_name": "DescriptionStyleModel",
            "_view_count": null,
            "_view_module": "@jupyter-widgets/base",
            "_view_module_version": "1.2.0",
            "_view_name": "StyleView",
            "description_width": ""
          }
        },
        "30adf00fb5504a6483e22aa14acaf38b": {
          "model_module": "@jupyter-widgets/controls",
          "model_name": "HBoxModel",
          "model_module_version": "1.5.0",
          "state": {
            "_dom_classes": [],
            "_model_module": "@jupyter-widgets/controls",
            "_model_module_version": "1.5.0",
            "_model_name": "HBoxModel",
            "_view_count": null,
            "_view_module": "@jupyter-widgets/controls",
            "_view_module_version": "1.5.0",
            "_view_name": "HBoxView",
            "box_style": "",
            "children": [
              "IPY_MODEL_454afec4e8aa49f5b3009d6d90cb6346",
              "IPY_MODEL_1ee3353551b843aea9e7a84f4c831fdc",
              "IPY_MODEL_ee666eb25b514285adef8a2f5f625d35"
            ],
            "layout": "IPY_MODEL_4377efe813e14866842d8d960f41d6eb"
          }
        },
        "454afec4e8aa49f5b3009d6d90cb6346": {
          "model_module": "@jupyter-widgets/controls",
          "model_name": "HTMLModel",
          "model_module_version": "1.5.0",
          "state": {
            "_dom_classes": [],
            "_model_module": "@jupyter-widgets/controls",
            "_model_module_version": "1.5.0",
            "_model_name": "HTMLModel",
            "_view_count": null,
            "_view_module": "@jupyter-widgets/controls",
            "_view_module_version": "1.5.0",
            "_view_name": "HTMLView",
            "description": "",
            "description_tooltip": null,
            "layout": "IPY_MODEL_aaaedd2224384b1ebf2b34e07725b33c",
            "placeholder": "​",
            "style": "IPY_MODEL_d61aca549d92433fad64d93d45b194f5",
            "value": "Downloading data: 100%"
          }
        },
        "1ee3353551b843aea9e7a84f4c831fdc": {
          "model_module": "@jupyter-widgets/controls",
          "model_name": "FloatProgressModel",
          "model_module_version": "1.5.0",
          "state": {
            "_dom_classes": [],
            "_model_module": "@jupyter-widgets/controls",
            "_model_module_version": "1.5.0",
            "_model_name": "FloatProgressModel",
            "_view_count": null,
            "_view_module": "@jupyter-widgets/controls",
            "_view_module_version": "1.5.0",
            "_view_name": "ProgressView",
            "bar_style": "success",
            "description": "",
            "description_tooltip": null,
            "layout": "IPY_MODEL_8d1506be7816490ab9c859f29f33800b",
            "max": 20979968,
            "min": 0,
            "orientation": "horizontal",
            "style": "IPY_MODEL_328464f570bb4c6ead27456834c3c911",
            "value": 20979968
          }
        },
        "ee666eb25b514285adef8a2f5f625d35": {
          "model_module": "@jupyter-widgets/controls",
          "model_name": "HTMLModel",
          "model_module_version": "1.5.0",
          "state": {
            "_dom_classes": [],
            "_model_module": "@jupyter-widgets/controls",
            "_model_module_version": "1.5.0",
            "_model_name": "HTMLModel",
            "_view_count": null,
            "_view_module": "@jupyter-widgets/controls",
            "_view_module_version": "1.5.0",
            "_view_name": "HTMLView",
            "description": "",
            "description_tooltip": null,
            "layout": "IPY_MODEL_52fef1c96c234653bdbe4f10cd353e8c",
            "placeholder": "​",
            "style": "IPY_MODEL_66b66bdfcdc14428841b02eb409af6a0",
            "value": " 21.0M/21.0M [00:00&lt;00:00, 36.9MB/s]"
          }
        },
        "4377efe813e14866842d8d960f41d6eb": {
          "model_module": "@jupyter-widgets/base",
          "model_name": "LayoutModel",
          "model_module_version": "1.2.0",
          "state": {
            "_model_module": "@jupyter-widgets/base",
            "_model_module_version": "1.2.0",
            "_model_name": "LayoutModel",
            "_view_count": null,
            "_view_module": "@jupyter-widgets/base",
            "_view_module_version": "1.2.0",
            "_view_name": "LayoutView",
            "align_content": null,
            "align_items": null,
            "align_self": null,
            "border": null,
            "bottom": null,
            "display": null,
            "flex": null,
            "flex_flow": null,
            "grid_area": null,
            "grid_auto_columns": null,
            "grid_auto_flow": null,
            "grid_auto_rows": null,
            "grid_column": null,
            "grid_gap": null,
            "grid_row": null,
            "grid_template_areas": null,
            "grid_template_columns": null,
            "grid_template_rows": null,
            "height": null,
            "justify_content": null,
            "justify_items": null,
            "left": null,
            "margin": null,
            "max_height": null,
            "max_width": null,
            "min_height": null,
            "min_width": null,
            "object_fit": null,
            "object_position": null,
            "order": null,
            "overflow": null,
            "overflow_x": null,
            "overflow_y": null,
            "padding": null,
            "right": null,
            "top": null,
            "visibility": null,
            "width": null
          }
        },
        "aaaedd2224384b1ebf2b34e07725b33c": {
          "model_module": "@jupyter-widgets/base",
          "model_name": "LayoutModel",
          "model_module_version": "1.2.0",
          "state": {
            "_model_module": "@jupyter-widgets/base",
            "_model_module_version": "1.2.0",
            "_model_name": "LayoutModel",
            "_view_count": null,
            "_view_module": "@jupyter-widgets/base",
            "_view_module_version": "1.2.0",
            "_view_name": "LayoutView",
            "align_content": null,
            "align_items": null,
            "align_self": null,
            "border": null,
            "bottom": null,
            "display": null,
            "flex": null,
            "flex_flow": null,
            "grid_area": null,
            "grid_auto_columns": null,
            "grid_auto_flow": null,
            "grid_auto_rows": null,
            "grid_column": null,
            "grid_gap": null,
            "grid_row": null,
            "grid_template_areas": null,
            "grid_template_columns": null,
            "grid_template_rows": null,
            "height": null,
            "justify_content": null,
            "justify_items": null,
            "left": null,
            "margin": null,
            "max_height": null,
            "max_width": null,
            "min_height": null,
            "min_width": null,
            "object_fit": null,
            "object_position": null,
            "order": null,
            "overflow": null,
            "overflow_x": null,
            "overflow_y": null,
            "padding": null,
            "right": null,
            "top": null,
            "visibility": null,
            "width": null
          }
        },
        "d61aca549d92433fad64d93d45b194f5": {
          "model_module": "@jupyter-widgets/controls",
          "model_name": "DescriptionStyleModel",
          "model_module_version": "1.5.0",
          "state": {
            "_model_module": "@jupyter-widgets/controls",
            "_model_module_version": "1.5.0",
            "_model_name": "DescriptionStyleModel",
            "_view_count": null,
            "_view_module": "@jupyter-widgets/base",
            "_view_module_version": "1.2.0",
            "_view_name": "StyleView",
            "description_width": ""
          }
        },
        "8d1506be7816490ab9c859f29f33800b": {
          "model_module": "@jupyter-widgets/base",
          "model_name": "LayoutModel",
          "model_module_version": "1.2.0",
          "state": {
            "_model_module": "@jupyter-widgets/base",
            "_model_module_version": "1.2.0",
            "_model_name": "LayoutModel",
            "_view_count": null,
            "_view_module": "@jupyter-widgets/base",
            "_view_module_version": "1.2.0",
            "_view_name": "LayoutView",
            "align_content": null,
            "align_items": null,
            "align_self": null,
            "border": null,
            "bottom": null,
            "display": null,
            "flex": null,
            "flex_flow": null,
            "grid_area": null,
            "grid_auto_columns": null,
            "grid_auto_flow": null,
            "grid_auto_rows": null,
            "grid_column": null,
            "grid_gap": null,
            "grid_row": null,
            "grid_template_areas": null,
            "grid_template_columns": null,
            "grid_template_rows": null,
            "height": null,
            "justify_content": null,
            "justify_items": null,
            "left": null,
            "margin": null,
            "max_height": null,
            "max_width": null,
            "min_height": null,
            "min_width": null,
            "object_fit": null,
            "object_position": null,
            "order": null,
            "overflow": null,
            "overflow_x": null,
            "overflow_y": null,
            "padding": null,
            "right": null,
            "top": null,
            "visibility": null,
            "width": null
          }
        },
        "328464f570bb4c6ead27456834c3c911": {
          "model_module": "@jupyter-widgets/controls",
          "model_name": "ProgressStyleModel",
          "model_module_version": "1.5.0",
          "state": {
            "_model_module": "@jupyter-widgets/controls",
            "_model_module_version": "1.5.0",
            "_model_name": "ProgressStyleModel",
            "_view_count": null,
            "_view_module": "@jupyter-widgets/base",
            "_view_module_version": "1.2.0",
            "_view_name": "StyleView",
            "bar_color": null,
            "description_width": ""
          }
        },
        "52fef1c96c234653bdbe4f10cd353e8c": {
          "model_module": "@jupyter-widgets/base",
          "model_name": "LayoutModel",
          "model_module_version": "1.2.0",
          "state": {
            "_model_module": "@jupyter-widgets/base",
            "_model_module_version": "1.2.0",
            "_model_name": "LayoutModel",
            "_view_count": null,
            "_view_module": "@jupyter-widgets/base",
            "_view_module_version": "1.2.0",
            "_view_name": "LayoutView",
            "align_content": null,
            "align_items": null,
            "align_self": null,
            "border": null,
            "bottom": null,
            "display": null,
            "flex": null,
            "flex_flow": null,
            "grid_area": null,
            "grid_auto_columns": null,
            "grid_auto_flow": null,
            "grid_auto_rows": null,
            "grid_column": null,
            "grid_gap": null,
            "grid_row": null,
            "grid_template_areas": null,
            "grid_template_columns": null,
            "grid_template_rows": null,
            "height": null,
            "justify_content": null,
            "justify_items": null,
            "left": null,
            "margin": null,
            "max_height": null,
            "max_width": null,
            "min_height": null,
            "min_width": null,
            "object_fit": null,
            "object_position": null,
            "order": null,
            "overflow": null,
            "overflow_x": null,
            "overflow_y": null,
            "padding": null,
            "right": null,
            "top": null,
            "visibility": null,
            "width": null
          }
        },
        "66b66bdfcdc14428841b02eb409af6a0": {
          "model_module": "@jupyter-widgets/controls",
          "model_name": "DescriptionStyleModel",
          "model_module_version": "1.5.0",
          "state": {
            "_model_module": "@jupyter-widgets/controls",
            "_model_module_version": "1.5.0",
            "_model_name": "DescriptionStyleModel",
            "_view_count": null,
            "_view_module": "@jupyter-widgets/base",
            "_view_module_version": "1.2.0",
            "_view_name": "StyleView",
            "description_width": ""
          }
        },
        "48a8e9284d8d41b48ec5fe9b94e3974b": {
          "model_module": "@jupyter-widgets/controls",
          "model_name": "HBoxModel",
          "model_module_version": "1.5.0",
          "state": {
            "_dom_classes": [],
            "_model_module": "@jupyter-widgets/controls",
            "_model_module_version": "1.5.0",
            "_model_name": "HBoxModel",
            "_view_count": null,
            "_view_module": "@jupyter-widgets/controls",
            "_view_module_version": "1.5.0",
            "_view_name": "HBoxView",
            "box_style": "",
            "children": [
              "IPY_MODEL_d2099630eaba4ff0a7342918172b16a8",
              "IPY_MODEL_ecad1e27465048b9922ce1def687bd02",
              "IPY_MODEL_f88e36a423d8412d9a627192003ac9bc"
            ],
            "layout": "IPY_MODEL_9989afc16aa548f79f2f9977a0a97c36"
          }
        },
        "d2099630eaba4ff0a7342918172b16a8": {
          "model_module": "@jupyter-widgets/controls",
          "model_name": "HTMLModel",
          "model_module_version": "1.5.0",
          "state": {
            "_dom_classes": [],
            "_model_module": "@jupyter-widgets/controls",
            "_model_module_version": "1.5.0",
            "_model_name": "HTMLModel",
            "_view_count": null,
            "_view_module": "@jupyter-widgets/controls",
            "_view_module_version": "1.5.0",
            "_view_name": "HTMLView",
            "description": "",
            "description_tooltip": null,
            "layout": "IPY_MODEL_321bbacfad394bd1b6fc5e8592706104",
            "placeholder": "​",
            "style": "IPY_MODEL_a3066a20159a45ff82d5dcf95b19f864",
            "value": "Downloading data: 100%"
          }
        },
        "ecad1e27465048b9922ce1def687bd02": {
          "model_module": "@jupyter-widgets/controls",
          "model_name": "FloatProgressModel",
          "model_module_version": "1.5.0",
          "state": {
            "_dom_classes": [],
            "_model_module": "@jupyter-widgets/controls",
            "_model_module_version": "1.5.0",
            "_model_name": "FloatProgressModel",
            "_view_count": null,
            "_view_module": "@jupyter-widgets/controls",
            "_view_module_version": "1.5.0",
            "_view_name": "ProgressView",
            "bar_style": "success",
            "description": "",
            "description_tooltip": null,
            "layout": "IPY_MODEL_bef769e56ab44aefada71baf14cca852",
            "max": 20470363,
            "min": 0,
            "orientation": "horizontal",
            "style": "IPY_MODEL_3abe792ccce0434aa75a0f536c4c59ce",
            "value": 20470363
          }
        },
        "f88e36a423d8412d9a627192003ac9bc": {
          "model_module": "@jupyter-widgets/controls",
          "model_name": "HTMLModel",
          "model_module_version": "1.5.0",
          "state": {
            "_dom_classes": [],
            "_model_module": "@jupyter-widgets/controls",
            "_model_module_version": "1.5.0",
            "_model_name": "HTMLModel",
            "_view_count": null,
            "_view_module": "@jupyter-widgets/controls",
            "_view_module_version": "1.5.0",
            "_view_name": "HTMLView",
            "description": "",
            "description_tooltip": null,
            "layout": "IPY_MODEL_73799db3c0214e9ba1ee64040ae0a13b",
            "placeholder": "​",
            "style": "IPY_MODEL_6c4fa0a384b941b5a03e421d20f821b5",
            "value": " 20.5M/20.5M [00:00&lt;00:00, 29.0MB/s]"
          }
        },
        "9989afc16aa548f79f2f9977a0a97c36": {
          "model_module": "@jupyter-widgets/base",
          "model_name": "LayoutModel",
          "model_module_version": "1.2.0",
          "state": {
            "_model_module": "@jupyter-widgets/base",
            "_model_module_version": "1.2.0",
            "_model_name": "LayoutModel",
            "_view_count": null,
            "_view_module": "@jupyter-widgets/base",
            "_view_module_version": "1.2.0",
            "_view_name": "LayoutView",
            "align_content": null,
            "align_items": null,
            "align_self": null,
            "border": null,
            "bottom": null,
            "display": null,
            "flex": null,
            "flex_flow": null,
            "grid_area": null,
            "grid_auto_columns": null,
            "grid_auto_flow": null,
            "grid_auto_rows": null,
            "grid_column": null,
            "grid_gap": null,
            "grid_row": null,
            "grid_template_areas": null,
            "grid_template_columns": null,
            "grid_template_rows": null,
            "height": null,
            "justify_content": null,
            "justify_items": null,
            "left": null,
            "margin": null,
            "max_height": null,
            "max_width": null,
            "min_height": null,
            "min_width": null,
            "object_fit": null,
            "object_position": null,
            "order": null,
            "overflow": null,
            "overflow_x": null,
            "overflow_y": null,
            "padding": null,
            "right": null,
            "top": null,
            "visibility": null,
            "width": null
          }
        },
        "321bbacfad394bd1b6fc5e8592706104": {
          "model_module": "@jupyter-widgets/base",
          "model_name": "LayoutModel",
          "model_module_version": "1.2.0",
          "state": {
            "_model_module": "@jupyter-widgets/base",
            "_model_module_version": "1.2.0",
            "_model_name": "LayoutModel",
            "_view_count": null,
            "_view_module": "@jupyter-widgets/base",
            "_view_module_version": "1.2.0",
            "_view_name": "LayoutView",
            "align_content": null,
            "align_items": null,
            "align_self": null,
            "border": null,
            "bottom": null,
            "display": null,
            "flex": null,
            "flex_flow": null,
            "grid_area": null,
            "grid_auto_columns": null,
            "grid_auto_flow": null,
            "grid_auto_rows": null,
            "grid_column": null,
            "grid_gap": null,
            "grid_row": null,
            "grid_template_areas": null,
            "grid_template_columns": null,
            "grid_template_rows": null,
            "height": null,
            "justify_content": null,
            "justify_items": null,
            "left": null,
            "margin": null,
            "max_height": null,
            "max_width": null,
            "min_height": null,
            "min_width": null,
            "object_fit": null,
            "object_position": null,
            "order": null,
            "overflow": null,
            "overflow_x": null,
            "overflow_y": null,
            "padding": null,
            "right": null,
            "top": null,
            "visibility": null,
            "width": null
          }
        },
        "a3066a20159a45ff82d5dcf95b19f864": {
          "model_module": "@jupyter-widgets/controls",
          "model_name": "DescriptionStyleModel",
          "model_module_version": "1.5.0",
          "state": {
            "_model_module": "@jupyter-widgets/controls",
            "_model_module_version": "1.5.0",
            "_model_name": "DescriptionStyleModel",
            "_view_count": null,
            "_view_module": "@jupyter-widgets/base",
            "_view_module_version": "1.2.0",
            "_view_name": "StyleView",
            "description_width": ""
          }
        },
        "bef769e56ab44aefada71baf14cca852": {
          "model_module": "@jupyter-widgets/base",
          "model_name": "LayoutModel",
          "model_module_version": "1.2.0",
          "state": {
            "_model_module": "@jupyter-widgets/base",
            "_model_module_version": "1.2.0",
            "_model_name": "LayoutModel",
            "_view_count": null,
            "_view_module": "@jupyter-widgets/base",
            "_view_module_version": "1.2.0",
            "_view_name": "LayoutView",
            "align_content": null,
            "align_items": null,
            "align_self": null,
            "border": null,
            "bottom": null,
            "display": null,
            "flex": null,
            "flex_flow": null,
            "grid_area": null,
            "grid_auto_columns": null,
            "grid_auto_flow": null,
            "grid_auto_rows": null,
            "grid_column": null,
            "grid_gap": null,
            "grid_row": null,
            "grid_template_areas": null,
            "grid_template_columns": null,
            "grid_template_rows": null,
            "height": null,
            "justify_content": null,
            "justify_items": null,
            "left": null,
            "margin": null,
            "max_height": null,
            "max_width": null,
            "min_height": null,
            "min_width": null,
            "object_fit": null,
            "object_position": null,
            "order": null,
            "overflow": null,
            "overflow_x": null,
            "overflow_y": null,
            "padding": null,
            "right": null,
            "top": null,
            "visibility": null,
            "width": null
          }
        },
        "3abe792ccce0434aa75a0f536c4c59ce": {
          "model_module": "@jupyter-widgets/controls",
          "model_name": "ProgressStyleModel",
          "model_module_version": "1.5.0",
          "state": {
            "_model_module": "@jupyter-widgets/controls",
            "_model_module_version": "1.5.0",
            "_model_name": "ProgressStyleModel",
            "_view_count": null,
            "_view_module": "@jupyter-widgets/base",
            "_view_module_version": "1.2.0",
            "_view_name": "StyleView",
            "bar_color": null,
            "description_width": ""
          }
        },
        "73799db3c0214e9ba1ee64040ae0a13b": {
          "model_module": "@jupyter-widgets/base",
          "model_name": "LayoutModel",
          "model_module_version": "1.2.0",
          "state": {
            "_model_module": "@jupyter-widgets/base",
            "_model_module_version": "1.2.0",
            "_model_name": "LayoutModel",
            "_view_count": null,
            "_view_module": "@jupyter-widgets/base",
            "_view_module_version": "1.2.0",
            "_view_name": "LayoutView",
            "align_content": null,
            "align_items": null,
            "align_self": null,
            "border": null,
            "bottom": null,
            "display": null,
            "flex": null,
            "flex_flow": null,
            "grid_area": null,
            "grid_auto_columns": null,
            "grid_auto_flow": null,
            "grid_auto_rows": null,
            "grid_column": null,
            "grid_gap": null,
            "grid_row": null,
            "grid_template_areas": null,
            "grid_template_columns": null,
            "grid_template_rows": null,
            "height": null,
            "justify_content": null,
            "justify_items": null,
            "left": null,
            "margin": null,
            "max_height": null,
            "max_width": null,
            "min_height": null,
            "min_width": null,
            "object_fit": null,
            "object_position": null,
            "order": null,
            "overflow": null,
            "overflow_x": null,
            "overflow_y": null,
            "padding": null,
            "right": null,
            "top": null,
            "visibility": null,
            "width": null
          }
        },
        "6c4fa0a384b941b5a03e421d20f821b5": {
          "model_module": "@jupyter-widgets/controls",
          "model_name": "DescriptionStyleModel",
          "model_module_version": "1.5.0",
          "state": {
            "_model_module": "@jupyter-widgets/controls",
            "_model_module_version": "1.5.0",
            "_model_name": "DescriptionStyleModel",
            "_view_count": null,
            "_view_module": "@jupyter-widgets/base",
            "_view_module_version": "1.2.0",
            "_view_name": "StyleView",
            "description_width": ""
          }
        },
        "48ec8d331d204d899794a02b63eb4b06": {
          "model_module": "@jupyter-widgets/controls",
          "model_name": "HBoxModel",
          "model_module_version": "1.5.0",
          "state": {
            "_dom_classes": [],
            "_model_module": "@jupyter-widgets/controls",
            "_model_module_version": "1.5.0",
            "_model_name": "HBoxModel",
            "_view_count": null,
            "_view_module": "@jupyter-widgets/controls",
            "_view_module_version": "1.5.0",
            "_view_name": "HBoxView",
            "box_style": "",
            "children": [
              "IPY_MODEL_036b6ec91df640209c4abe7952b96126",
              "IPY_MODEL_64ec72bc77154dc7964c448dbc2e73c2",
              "IPY_MODEL_ce028f3247a84ede8725be3fd871a5ac"
            ],
            "layout": "IPY_MODEL_5021aff8066542eeb64627c448be1da5"
          }
        },
        "036b6ec91df640209c4abe7952b96126": {
          "model_module": "@jupyter-widgets/controls",
          "model_name": "HTMLModel",
          "model_module_version": "1.5.0",
          "state": {
            "_dom_classes": [],
            "_model_module": "@jupyter-widgets/controls",
            "_model_module_version": "1.5.0",
            "_model_name": "HTMLModel",
            "_view_count": null,
            "_view_module": "@jupyter-widgets/controls",
            "_view_module_version": "1.5.0",
            "_view_name": "HTMLView",
            "description": "",
            "description_tooltip": null,
            "layout": "IPY_MODEL_f1d5c136f7c8472e90dc96591506c52f",
            "placeholder": "​",
            "style": "IPY_MODEL_c1748ebaf8c4425993244b1f1a46740c",
            "value": "Downloading data: 100%"
          }
        },
        "64ec72bc77154dc7964c448dbc2e73c2": {
          "model_module": "@jupyter-widgets/controls",
          "model_name": "FloatProgressModel",
          "model_module_version": "1.5.0",
          "state": {
            "_dom_classes": [],
            "_model_module": "@jupyter-widgets/controls",
            "_model_module_version": "1.5.0",
            "_model_name": "FloatProgressModel",
            "_view_count": null,
            "_view_module": "@jupyter-widgets/controls",
            "_view_module_version": "1.5.0",
            "_view_name": "ProgressView",
            "bar_style": "success",
            "description": "",
            "description_tooltip": null,
            "layout": "IPY_MODEL_02ef3c9b51c94b7997f77a0f0650095c",
            "max": 41996509,
            "min": 0,
            "orientation": "horizontal",
            "style": "IPY_MODEL_485cfae6edfa43508e184b04ab32ae17",
            "value": 41996509
          }
        },
        "ce028f3247a84ede8725be3fd871a5ac": {
          "model_module": "@jupyter-widgets/controls",
          "model_name": "HTMLModel",
          "model_module_version": "1.5.0",
          "state": {
            "_dom_classes": [],
            "_model_module": "@jupyter-widgets/controls",
            "_model_module_version": "1.5.0",
            "_model_name": "HTMLModel",
            "_view_count": null,
            "_view_module": "@jupyter-widgets/controls",
            "_view_module_version": "1.5.0",
            "_view_name": "HTMLView",
            "description": "",
            "description_tooltip": null,
            "layout": "IPY_MODEL_52b2fc68417c419b90602d1c94456e9b",
            "placeholder": "​",
            "style": "IPY_MODEL_157acb0dbaad464fba21078b244fbf22",
            "value": " 42.0M/42.0M [00:00&lt;00:00, 60.9MB/s]"
          }
        },
        "5021aff8066542eeb64627c448be1da5": {
          "model_module": "@jupyter-widgets/base",
          "model_name": "LayoutModel",
          "model_module_version": "1.2.0",
          "state": {
            "_model_module": "@jupyter-widgets/base",
            "_model_module_version": "1.2.0",
            "_model_name": "LayoutModel",
            "_view_count": null,
            "_view_module": "@jupyter-widgets/base",
            "_view_module_version": "1.2.0",
            "_view_name": "LayoutView",
            "align_content": null,
            "align_items": null,
            "align_self": null,
            "border": null,
            "bottom": null,
            "display": null,
            "flex": null,
            "flex_flow": null,
            "grid_area": null,
            "grid_auto_columns": null,
            "grid_auto_flow": null,
            "grid_auto_rows": null,
            "grid_column": null,
            "grid_gap": null,
            "grid_row": null,
            "grid_template_areas": null,
            "grid_template_columns": null,
            "grid_template_rows": null,
            "height": null,
            "justify_content": null,
            "justify_items": null,
            "left": null,
            "margin": null,
            "max_height": null,
            "max_width": null,
            "min_height": null,
            "min_width": null,
            "object_fit": null,
            "object_position": null,
            "order": null,
            "overflow": null,
            "overflow_x": null,
            "overflow_y": null,
            "padding": null,
            "right": null,
            "top": null,
            "visibility": null,
            "width": null
          }
        },
        "f1d5c136f7c8472e90dc96591506c52f": {
          "model_module": "@jupyter-widgets/base",
          "model_name": "LayoutModel",
          "model_module_version": "1.2.0",
          "state": {
            "_model_module": "@jupyter-widgets/base",
            "_model_module_version": "1.2.0",
            "_model_name": "LayoutModel",
            "_view_count": null,
            "_view_module": "@jupyter-widgets/base",
            "_view_module_version": "1.2.0",
            "_view_name": "LayoutView",
            "align_content": null,
            "align_items": null,
            "align_self": null,
            "border": null,
            "bottom": null,
            "display": null,
            "flex": null,
            "flex_flow": null,
            "grid_area": null,
            "grid_auto_columns": null,
            "grid_auto_flow": null,
            "grid_auto_rows": null,
            "grid_column": null,
            "grid_gap": null,
            "grid_row": null,
            "grid_template_areas": null,
            "grid_template_columns": null,
            "grid_template_rows": null,
            "height": null,
            "justify_content": null,
            "justify_items": null,
            "left": null,
            "margin": null,
            "max_height": null,
            "max_width": null,
            "min_height": null,
            "min_width": null,
            "object_fit": null,
            "object_position": null,
            "order": null,
            "overflow": null,
            "overflow_x": null,
            "overflow_y": null,
            "padding": null,
            "right": null,
            "top": null,
            "visibility": null,
            "width": null
          }
        },
        "c1748ebaf8c4425993244b1f1a46740c": {
          "model_module": "@jupyter-widgets/controls",
          "model_name": "DescriptionStyleModel",
          "model_module_version": "1.5.0",
          "state": {
            "_model_module": "@jupyter-widgets/controls",
            "_model_module_version": "1.5.0",
            "_model_name": "DescriptionStyleModel",
            "_view_count": null,
            "_view_module": "@jupyter-widgets/base",
            "_view_module_version": "1.2.0",
            "_view_name": "StyleView",
            "description_width": ""
          }
        },
        "02ef3c9b51c94b7997f77a0f0650095c": {
          "model_module": "@jupyter-widgets/base",
          "model_name": "LayoutModel",
          "model_module_version": "1.2.0",
          "state": {
            "_model_module": "@jupyter-widgets/base",
            "_model_module_version": "1.2.0",
            "_model_name": "LayoutModel",
            "_view_count": null,
            "_view_module": "@jupyter-widgets/base",
            "_view_module_version": "1.2.0",
            "_view_name": "LayoutView",
            "align_content": null,
            "align_items": null,
            "align_self": null,
            "border": null,
            "bottom": null,
            "display": null,
            "flex": null,
            "flex_flow": null,
            "grid_area": null,
            "grid_auto_columns": null,
            "grid_auto_flow": null,
            "grid_auto_rows": null,
            "grid_column": null,
            "grid_gap": null,
            "grid_row": null,
            "grid_template_areas": null,
            "grid_template_columns": null,
            "grid_template_rows": null,
            "height": null,
            "justify_content": null,
            "justify_items": null,
            "left": null,
            "margin": null,
            "max_height": null,
            "max_width": null,
            "min_height": null,
            "min_width": null,
            "object_fit": null,
            "object_position": null,
            "order": null,
            "overflow": null,
            "overflow_x": null,
            "overflow_y": null,
            "padding": null,
            "right": null,
            "top": null,
            "visibility": null,
            "width": null
          }
        },
        "485cfae6edfa43508e184b04ab32ae17": {
          "model_module": "@jupyter-widgets/controls",
          "model_name": "ProgressStyleModel",
          "model_module_version": "1.5.0",
          "state": {
            "_model_module": "@jupyter-widgets/controls",
            "_model_module_version": "1.5.0",
            "_model_name": "ProgressStyleModel",
            "_view_count": null,
            "_view_module": "@jupyter-widgets/base",
            "_view_module_version": "1.2.0",
            "_view_name": "StyleView",
            "bar_color": null,
            "description_width": ""
          }
        },
        "52b2fc68417c419b90602d1c94456e9b": {
          "model_module": "@jupyter-widgets/base",
          "model_name": "LayoutModel",
          "model_module_version": "1.2.0",
          "state": {
            "_model_module": "@jupyter-widgets/base",
            "_model_module_version": "1.2.0",
            "_model_name": "LayoutModel",
            "_view_count": null,
            "_view_module": "@jupyter-widgets/base",
            "_view_module_version": "1.2.0",
            "_view_name": "LayoutView",
            "align_content": null,
            "align_items": null,
            "align_self": null,
            "border": null,
            "bottom": null,
            "display": null,
            "flex": null,
            "flex_flow": null,
            "grid_area": null,
            "grid_auto_columns": null,
            "grid_auto_flow": null,
            "grid_auto_rows": null,
            "grid_column": null,
            "grid_gap": null,
            "grid_row": null,
            "grid_template_areas": null,
            "grid_template_columns": null,
            "grid_template_rows": null,
            "height": null,
            "justify_content": null,
            "justify_items": null,
            "left": null,
            "margin": null,
            "max_height": null,
            "max_width": null,
            "min_height": null,
            "min_width": null,
            "object_fit": null,
            "object_position": null,
            "order": null,
            "overflow": null,
            "overflow_x": null,
            "overflow_y": null,
            "padding": null,
            "right": null,
            "top": null,
            "visibility": null,
            "width": null
          }
        },
        "157acb0dbaad464fba21078b244fbf22": {
          "model_module": "@jupyter-widgets/controls",
          "model_name": "DescriptionStyleModel",
          "model_module_version": "1.5.0",
          "state": {
            "_model_module": "@jupyter-widgets/controls",
            "_model_module_version": "1.5.0",
            "_model_name": "DescriptionStyleModel",
            "_view_count": null,
            "_view_module": "@jupyter-widgets/base",
            "_view_module_version": "1.2.0",
            "_view_name": "StyleView",
            "description_width": ""
          }
        },
        "b9b62069a0d6466a9214b23cf5daa23b": {
          "model_module": "@jupyter-widgets/controls",
          "model_name": "HBoxModel",
          "model_module_version": "1.5.0",
          "state": {
            "_dom_classes": [],
            "_model_module": "@jupyter-widgets/controls",
            "_model_module_version": "1.5.0",
            "_model_name": "HBoxModel",
            "_view_count": null,
            "_view_module": "@jupyter-widgets/controls",
            "_view_module_version": "1.5.0",
            "_view_name": "HBoxView",
            "box_style": "",
            "children": [
              "IPY_MODEL_a1ffeb9bf4e34687b182d9c92a4260f6",
              "IPY_MODEL_06eefc02a1594af39a16e62c5b186393",
              "IPY_MODEL_0718075f3b954d8fbc495fb386a85e8d"
            ],
            "layout": "IPY_MODEL_6ddcf1e09700460c8241f6a37057f4f0"
          }
        },
        "a1ffeb9bf4e34687b182d9c92a4260f6": {
          "model_module": "@jupyter-widgets/controls",
          "model_name": "HTMLModel",
          "model_module_version": "1.5.0",
          "state": {
            "_dom_classes": [],
            "_model_module": "@jupyter-widgets/controls",
            "_model_module_version": "1.5.0",
            "_model_name": "HTMLModel",
            "_view_count": null,
            "_view_module": "@jupyter-widgets/controls",
            "_view_module_version": "1.5.0",
            "_view_name": "HTMLView",
            "description": "",
            "description_tooltip": null,
            "layout": "IPY_MODEL_583d9ffa836840f3a89a31b0c281cc46",
            "placeholder": "​",
            "style": "IPY_MODEL_5370655ed30c49529bb3565763c8fb2f",
            "value": "Generating train split: 100%"
          }
        },
        "06eefc02a1594af39a16e62c5b186393": {
          "model_module": "@jupyter-widgets/controls",
          "model_name": "FloatProgressModel",
          "model_module_version": "1.5.0",
          "state": {
            "_dom_classes": [],
            "_model_module": "@jupyter-widgets/controls",
            "_model_module_version": "1.5.0",
            "_model_name": "FloatProgressModel",
            "_view_count": null,
            "_view_module": "@jupyter-widgets/controls",
            "_view_module_version": "1.5.0",
            "_view_name": "ProgressView",
            "bar_style": "success",
            "description": "",
            "description_tooltip": null,
            "layout": "IPY_MODEL_c28fbeeb40ea47ea8170a0fd6d821237",
            "max": 25000,
            "min": 0,
            "orientation": "horizontal",
            "style": "IPY_MODEL_5929684cd232476f96db4a31c748c267",
            "value": 25000
          }
        },
        "0718075f3b954d8fbc495fb386a85e8d": {
          "model_module": "@jupyter-widgets/controls",
          "model_name": "HTMLModel",
          "model_module_version": "1.5.0",
          "state": {
            "_dom_classes": [],
            "_model_module": "@jupyter-widgets/controls",
            "_model_module_version": "1.5.0",
            "_model_name": "HTMLModel",
            "_view_count": null,
            "_view_module": "@jupyter-widgets/controls",
            "_view_module_version": "1.5.0",
            "_view_name": "HTMLView",
            "description": "",
            "description_tooltip": null,
            "layout": "IPY_MODEL_1c67257088fe487c9fc009e14d5ea65d",
            "placeholder": "​",
            "style": "IPY_MODEL_7c1af3cff1344db1b65a6a88eaf646fb",
            "value": " 25000/25000 [00:00&lt;00:00, 59573.51 examples/s]"
          }
        },
        "6ddcf1e09700460c8241f6a37057f4f0": {
          "model_module": "@jupyter-widgets/base",
          "model_name": "LayoutModel",
          "model_module_version": "1.2.0",
          "state": {
            "_model_module": "@jupyter-widgets/base",
            "_model_module_version": "1.2.0",
            "_model_name": "LayoutModel",
            "_view_count": null,
            "_view_module": "@jupyter-widgets/base",
            "_view_module_version": "1.2.0",
            "_view_name": "LayoutView",
            "align_content": null,
            "align_items": null,
            "align_self": null,
            "border": null,
            "bottom": null,
            "display": null,
            "flex": null,
            "flex_flow": null,
            "grid_area": null,
            "grid_auto_columns": null,
            "grid_auto_flow": null,
            "grid_auto_rows": null,
            "grid_column": null,
            "grid_gap": null,
            "grid_row": null,
            "grid_template_areas": null,
            "grid_template_columns": null,
            "grid_template_rows": null,
            "height": null,
            "justify_content": null,
            "justify_items": null,
            "left": null,
            "margin": null,
            "max_height": null,
            "max_width": null,
            "min_height": null,
            "min_width": null,
            "object_fit": null,
            "object_position": null,
            "order": null,
            "overflow": null,
            "overflow_x": null,
            "overflow_y": null,
            "padding": null,
            "right": null,
            "top": null,
            "visibility": null,
            "width": null
          }
        },
        "583d9ffa836840f3a89a31b0c281cc46": {
          "model_module": "@jupyter-widgets/base",
          "model_name": "LayoutModel",
          "model_module_version": "1.2.0",
          "state": {
            "_model_module": "@jupyter-widgets/base",
            "_model_module_version": "1.2.0",
            "_model_name": "LayoutModel",
            "_view_count": null,
            "_view_module": "@jupyter-widgets/base",
            "_view_module_version": "1.2.0",
            "_view_name": "LayoutView",
            "align_content": null,
            "align_items": null,
            "align_self": null,
            "border": null,
            "bottom": null,
            "display": null,
            "flex": null,
            "flex_flow": null,
            "grid_area": null,
            "grid_auto_columns": null,
            "grid_auto_flow": null,
            "grid_auto_rows": null,
            "grid_column": null,
            "grid_gap": null,
            "grid_row": null,
            "grid_template_areas": null,
            "grid_template_columns": null,
            "grid_template_rows": null,
            "height": null,
            "justify_content": null,
            "justify_items": null,
            "left": null,
            "margin": null,
            "max_height": null,
            "max_width": null,
            "min_height": null,
            "min_width": null,
            "object_fit": null,
            "object_position": null,
            "order": null,
            "overflow": null,
            "overflow_x": null,
            "overflow_y": null,
            "padding": null,
            "right": null,
            "top": null,
            "visibility": null,
            "width": null
          }
        },
        "5370655ed30c49529bb3565763c8fb2f": {
          "model_module": "@jupyter-widgets/controls",
          "model_name": "DescriptionStyleModel",
          "model_module_version": "1.5.0",
          "state": {
            "_model_module": "@jupyter-widgets/controls",
            "_model_module_version": "1.5.0",
            "_model_name": "DescriptionStyleModel",
            "_view_count": null,
            "_view_module": "@jupyter-widgets/base",
            "_view_module_version": "1.2.0",
            "_view_name": "StyleView",
            "description_width": ""
          }
        },
        "c28fbeeb40ea47ea8170a0fd6d821237": {
          "model_module": "@jupyter-widgets/base",
          "model_name": "LayoutModel",
          "model_module_version": "1.2.0",
          "state": {
            "_model_module": "@jupyter-widgets/base",
            "_model_module_version": "1.2.0",
            "_model_name": "LayoutModel",
            "_view_count": null,
            "_view_module": "@jupyter-widgets/base",
            "_view_module_version": "1.2.0",
            "_view_name": "LayoutView",
            "align_content": null,
            "align_items": null,
            "align_self": null,
            "border": null,
            "bottom": null,
            "display": null,
            "flex": null,
            "flex_flow": null,
            "grid_area": null,
            "grid_auto_columns": null,
            "grid_auto_flow": null,
            "grid_auto_rows": null,
            "grid_column": null,
            "grid_gap": null,
            "grid_row": null,
            "grid_template_areas": null,
            "grid_template_columns": null,
            "grid_template_rows": null,
            "height": null,
            "justify_content": null,
            "justify_items": null,
            "left": null,
            "margin": null,
            "max_height": null,
            "max_width": null,
            "min_height": null,
            "min_width": null,
            "object_fit": null,
            "object_position": null,
            "order": null,
            "overflow": null,
            "overflow_x": null,
            "overflow_y": null,
            "padding": null,
            "right": null,
            "top": null,
            "visibility": null,
            "width": null
          }
        },
        "5929684cd232476f96db4a31c748c267": {
          "model_module": "@jupyter-widgets/controls",
          "model_name": "ProgressStyleModel",
          "model_module_version": "1.5.0",
          "state": {
            "_model_module": "@jupyter-widgets/controls",
            "_model_module_version": "1.5.0",
            "_model_name": "ProgressStyleModel",
            "_view_count": null,
            "_view_module": "@jupyter-widgets/base",
            "_view_module_version": "1.2.0",
            "_view_name": "StyleView",
            "bar_color": null,
            "description_width": ""
          }
        },
        "1c67257088fe487c9fc009e14d5ea65d": {
          "model_module": "@jupyter-widgets/base",
          "model_name": "LayoutModel",
          "model_module_version": "1.2.0",
          "state": {
            "_model_module": "@jupyter-widgets/base",
            "_model_module_version": "1.2.0",
            "_model_name": "LayoutModel",
            "_view_count": null,
            "_view_module": "@jupyter-widgets/base",
            "_view_module_version": "1.2.0",
            "_view_name": "LayoutView",
            "align_content": null,
            "align_items": null,
            "align_self": null,
            "border": null,
            "bottom": null,
            "display": null,
            "flex": null,
            "flex_flow": null,
            "grid_area": null,
            "grid_auto_columns": null,
            "grid_auto_flow": null,
            "grid_auto_rows": null,
            "grid_column": null,
            "grid_gap": null,
            "grid_row": null,
            "grid_template_areas": null,
            "grid_template_columns": null,
            "grid_template_rows": null,
            "height": null,
            "justify_content": null,
            "justify_items": null,
            "left": null,
            "margin": null,
            "max_height": null,
            "max_width": null,
            "min_height": null,
            "min_width": null,
            "object_fit": null,
            "object_position": null,
            "order": null,
            "overflow": null,
            "overflow_x": null,
            "overflow_y": null,
            "padding": null,
            "right": null,
            "top": null,
            "visibility": null,
            "width": null
          }
        },
        "7c1af3cff1344db1b65a6a88eaf646fb": {
          "model_module": "@jupyter-widgets/controls",
          "model_name": "DescriptionStyleModel",
          "model_module_version": "1.5.0",
          "state": {
            "_model_module": "@jupyter-widgets/controls",
            "_model_module_version": "1.5.0",
            "_model_name": "DescriptionStyleModel",
            "_view_count": null,
            "_view_module": "@jupyter-widgets/base",
            "_view_module_version": "1.2.0",
            "_view_name": "StyleView",
            "description_width": ""
          }
        },
        "37ebac7241ad45d8999f06398e3cab82": {
          "model_module": "@jupyter-widgets/controls",
          "model_name": "HBoxModel",
          "model_module_version": "1.5.0",
          "state": {
            "_dom_classes": [],
            "_model_module": "@jupyter-widgets/controls",
            "_model_module_version": "1.5.0",
            "_model_name": "HBoxModel",
            "_view_count": null,
            "_view_module": "@jupyter-widgets/controls",
            "_view_module_version": "1.5.0",
            "_view_name": "HBoxView",
            "box_style": "",
            "children": [
              "IPY_MODEL_60327ee5f20b4de1931835614d48d7f5",
              "IPY_MODEL_9904bfc6dfbf4c909ca5eeca069c3f19",
              "IPY_MODEL_ecd619ff4ed84208936d18e6715e05a1"
            ],
            "layout": "IPY_MODEL_936e67a1d28c4ebb8bd29148a34907d6"
          }
        },
        "60327ee5f20b4de1931835614d48d7f5": {
          "model_module": "@jupyter-widgets/controls",
          "model_name": "HTMLModel",
          "model_module_version": "1.5.0",
          "state": {
            "_dom_classes": [],
            "_model_module": "@jupyter-widgets/controls",
            "_model_module_version": "1.5.0",
            "_model_name": "HTMLModel",
            "_view_count": null,
            "_view_module": "@jupyter-widgets/controls",
            "_view_module_version": "1.5.0",
            "_view_name": "HTMLView",
            "description": "",
            "description_tooltip": null,
            "layout": "IPY_MODEL_7bbbecfd6471484db1e879ce51d0de37",
            "placeholder": "​",
            "style": "IPY_MODEL_186f5069685a4324abb0c7f88cda613a",
            "value": "Generating test split: 100%"
          }
        },
        "9904bfc6dfbf4c909ca5eeca069c3f19": {
          "model_module": "@jupyter-widgets/controls",
          "model_name": "FloatProgressModel",
          "model_module_version": "1.5.0",
          "state": {
            "_dom_classes": [],
            "_model_module": "@jupyter-widgets/controls",
            "_model_module_version": "1.5.0",
            "_model_name": "FloatProgressModel",
            "_view_count": null,
            "_view_module": "@jupyter-widgets/controls",
            "_view_module_version": "1.5.0",
            "_view_name": "ProgressView",
            "bar_style": "success",
            "description": "",
            "description_tooltip": null,
            "layout": "IPY_MODEL_ce6f9f2000254867817266cf0a1bae89",
            "max": 25000,
            "min": 0,
            "orientation": "horizontal",
            "style": "IPY_MODEL_e3f9988378584acf87fa38a6dacc3df8",
            "value": 25000
          }
        },
        "ecd619ff4ed84208936d18e6715e05a1": {
          "model_module": "@jupyter-widgets/controls",
          "model_name": "HTMLModel",
          "model_module_version": "1.5.0",
          "state": {
            "_dom_classes": [],
            "_model_module": "@jupyter-widgets/controls",
            "_model_module_version": "1.5.0",
            "_model_name": "HTMLModel",
            "_view_count": null,
            "_view_module": "@jupyter-widgets/controls",
            "_view_module_version": "1.5.0",
            "_view_name": "HTMLView",
            "description": "",
            "description_tooltip": null,
            "layout": "IPY_MODEL_7e6c3cd11faf415c921e826d4a94c22e",
            "placeholder": "​",
            "style": "IPY_MODEL_9135d104ac50433a822fc8bbc372c68e",
            "value": " 25000/25000 [00:00&lt;00:00, 34974.18 examples/s]"
          }
        },
        "936e67a1d28c4ebb8bd29148a34907d6": {
          "model_module": "@jupyter-widgets/base",
          "model_name": "LayoutModel",
          "model_module_version": "1.2.0",
          "state": {
            "_model_module": "@jupyter-widgets/base",
            "_model_module_version": "1.2.0",
            "_model_name": "LayoutModel",
            "_view_count": null,
            "_view_module": "@jupyter-widgets/base",
            "_view_module_version": "1.2.0",
            "_view_name": "LayoutView",
            "align_content": null,
            "align_items": null,
            "align_self": null,
            "border": null,
            "bottom": null,
            "display": null,
            "flex": null,
            "flex_flow": null,
            "grid_area": null,
            "grid_auto_columns": null,
            "grid_auto_flow": null,
            "grid_auto_rows": null,
            "grid_column": null,
            "grid_gap": null,
            "grid_row": null,
            "grid_template_areas": null,
            "grid_template_columns": null,
            "grid_template_rows": null,
            "height": null,
            "justify_content": null,
            "justify_items": null,
            "left": null,
            "margin": null,
            "max_height": null,
            "max_width": null,
            "min_height": null,
            "min_width": null,
            "object_fit": null,
            "object_position": null,
            "order": null,
            "overflow": null,
            "overflow_x": null,
            "overflow_y": null,
            "padding": null,
            "right": null,
            "top": null,
            "visibility": null,
            "width": null
          }
        },
        "7bbbecfd6471484db1e879ce51d0de37": {
          "model_module": "@jupyter-widgets/base",
          "model_name": "LayoutModel",
          "model_module_version": "1.2.0",
          "state": {
            "_model_module": "@jupyter-widgets/base",
            "_model_module_version": "1.2.0",
            "_model_name": "LayoutModel",
            "_view_count": null,
            "_view_module": "@jupyter-widgets/base",
            "_view_module_version": "1.2.0",
            "_view_name": "LayoutView",
            "align_content": null,
            "align_items": null,
            "align_self": null,
            "border": null,
            "bottom": null,
            "display": null,
            "flex": null,
            "flex_flow": null,
            "grid_area": null,
            "grid_auto_columns": null,
            "grid_auto_flow": null,
            "grid_auto_rows": null,
            "grid_column": null,
            "grid_gap": null,
            "grid_row": null,
            "grid_template_areas": null,
            "grid_template_columns": null,
            "grid_template_rows": null,
            "height": null,
            "justify_content": null,
            "justify_items": null,
            "left": null,
            "margin": null,
            "max_height": null,
            "max_width": null,
            "min_height": null,
            "min_width": null,
            "object_fit": null,
            "object_position": null,
            "order": null,
            "overflow": null,
            "overflow_x": null,
            "overflow_y": null,
            "padding": null,
            "right": null,
            "top": null,
            "visibility": null,
            "width": null
          }
        },
        "186f5069685a4324abb0c7f88cda613a": {
          "model_module": "@jupyter-widgets/controls",
          "model_name": "DescriptionStyleModel",
          "model_module_version": "1.5.0",
          "state": {
            "_model_module": "@jupyter-widgets/controls",
            "_model_module_version": "1.5.0",
            "_model_name": "DescriptionStyleModel",
            "_view_count": null,
            "_view_module": "@jupyter-widgets/base",
            "_view_module_version": "1.2.0",
            "_view_name": "StyleView",
            "description_width": ""
          }
        },
        "ce6f9f2000254867817266cf0a1bae89": {
          "model_module": "@jupyter-widgets/base",
          "model_name": "LayoutModel",
          "model_module_version": "1.2.0",
          "state": {
            "_model_module": "@jupyter-widgets/base",
            "_model_module_version": "1.2.0",
            "_model_name": "LayoutModel",
            "_view_count": null,
            "_view_module": "@jupyter-widgets/base",
            "_view_module_version": "1.2.0",
            "_view_name": "LayoutView",
            "align_content": null,
            "align_items": null,
            "align_self": null,
            "border": null,
            "bottom": null,
            "display": null,
            "flex": null,
            "flex_flow": null,
            "grid_area": null,
            "grid_auto_columns": null,
            "grid_auto_flow": null,
            "grid_auto_rows": null,
            "grid_column": null,
            "grid_gap": null,
            "grid_row": null,
            "grid_template_areas": null,
            "grid_template_columns": null,
            "grid_template_rows": null,
            "height": null,
            "justify_content": null,
            "justify_items": null,
            "left": null,
            "margin": null,
            "max_height": null,
            "max_width": null,
            "min_height": null,
            "min_width": null,
            "object_fit": null,
            "object_position": null,
            "order": null,
            "overflow": null,
            "overflow_x": null,
            "overflow_y": null,
            "padding": null,
            "right": null,
            "top": null,
            "visibility": null,
            "width": null
          }
        },
        "e3f9988378584acf87fa38a6dacc3df8": {
          "model_module": "@jupyter-widgets/controls",
          "model_name": "ProgressStyleModel",
          "model_module_version": "1.5.0",
          "state": {
            "_model_module": "@jupyter-widgets/controls",
            "_model_module_version": "1.5.0",
            "_model_name": "ProgressStyleModel",
            "_view_count": null,
            "_view_module": "@jupyter-widgets/base",
            "_view_module_version": "1.2.0",
            "_view_name": "StyleView",
            "bar_color": null,
            "description_width": ""
          }
        },
        "7e6c3cd11faf415c921e826d4a94c22e": {
          "model_module": "@jupyter-widgets/base",
          "model_name": "LayoutModel",
          "model_module_version": "1.2.0",
          "state": {
            "_model_module": "@jupyter-widgets/base",
            "_model_module_version": "1.2.0",
            "_model_name": "LayoutModel",
            "_view_count": null,
            "_view_module": "@jupyter-widgets/base",
            "_view_module_version": "1.2.0",
            "_view_name": "LayoutView",
            "align_content": null,
            "align_items": null,
            "align_self": null,
            "border": null,
            "bottom": null,
            "display": null,
            "flex": null,
            "flex_flow": null,
            "grid_area": null,
            "grid_auto_columns": null,
            "grid_auto_flow": null,
            "grid_auto_rows": null,
            "grid_column": null,
            "grid_gap": null,
            "grid_row": null,
            "grid_template_areas": null,
            "grid_template_columns": null,
            "grid_template_rows": null,
            "height": null,
            "justify_content": null,
            "justify_items": null,
            "left": null,
            "margin": null,
            "max_height": null,
            "max_width": null,
            "min_height": null,
            "min_width": null,
            "object_fit": null,
            "object_position": null,
            "order": null,
            "overflow": null,
            "overflow_x": null,
            "overflow_y": null,
            "padding": null,
            "right": null,
            "top": null,
            "visibility": null,
            "width": null
          }
        },
        "9135d104ac50433a822fc8bbc372c68e": {
          "model_module": "@jupyter-widgets/controls",
          "model_name": "DescriptionStyleModel",
          "model_module_version": "1.5.0",
          "state": {
            "_model_module": "@jupyter-widgets/controls",
            "_model_module_version": "1.5.0",
            "_model_name": "DescriptionStyleModel",
            "_view_count": null,
            "_view_module": "@jupyter-widgets/base",
            "_view_module_version": "1.2.0",
            "_view_name": "StyleView",
            "description_width": ""
          }
        },
        "1addb0a7d8a04cbd9a4df705e6cbf66e": {
          "model_module": "@jupyter-widgets/controls",
          "model_name": "HBoxModel",
          "model_module_version": "1.5.0",
          "state": {
            "_dom_classes": [],
            "_model_module": "@jupyter-widgets/controls",
            "_model_module_version": "1.5.0",
            "_model_name": "HBoxModel",
            "_view_count": null,
            "_view_module": "@jupyter-widgets/controls",
            "_view_module_version": "1.5.0",
            "_view_name": "HBoxView",
            "box_style": "",
            "children": [
              "IPY_MODEL_6fdb580051e84c4ca51d03dff72677a5",
              "IPY_MODEL_c2b4acf609324440a6992eb9c4b73edc",
              "IPY_MODEL_0079be53c581457eab0a967141de37bd"
            ],
            "layout": "IPY_MODEL_2057fcdfc9704228ad63e0d4979196e7"
          }
        },
        "6fdb580051e84c4ca51d03dff72677a5": {
          "model_module": "@jupyter-widgets/controls",
          "model_name": "HTMLModel",
          "model_module_version": "1.5.0",
          "state": {
            "_dom_classes": [],
            "_model_module": "@jupyter-widgets/controls",
            "_model_module_version": "1.5.0",
            "_model_name": "HTMLModel",
            "_view_count": null,
            "_view_module": "@jupyter-widgets/controls",
            "_view_module_version": "1.5.0",
            "_view_name": "HTMLView",
            "description": "",
            "description_tooltip": null,
            "layout": "IPY_MODEL_a3529b674e904166b53d718a166cccd9",
            "placeholder": "​",
            "style": "IPY_MODEL_5a18ccf4475846569b9e344b06151676",
            "value": "Generating unsupervised split: 100%"
          }
        },
        "c2b4acf609324440a6992eb9c4b73edc": {
          "model_module": "@jupyter-widgets/controls",
          "model_name": "FloatProgressModel",
          "model_module_version": "1.5.0",
          "state": {
            "_dom_classes": [],
            "_model_module": "@jupyter-widgets/controls",
            "_model_module_version": "1.5.0",
            "_model_name": "FloatProgressModel",
            "_view_count": null,
            "_view_module": "@jupyter-widgets/controls",
            "_view_module_version": "1.5.0",
            "_view_name": "ProgressView",
            "bar_style": "success",
            "description": "",
            "description_tooltip": null,
            "layout": "IPY_MODEL_4c768afd01454bcba20d5eb4eba14bd9",
            "max": 50000,
            "min": 0,
            "orientation": "horizontal",
            "style": "IPY_MODEL_330b136b507c49f3a08f00953fd98f40",
            "value": 50000
          }
        },
        "0079be53c581457eab0a967141de37bd": {
          "model_module": "@jupyter-widgets/controls",
          "model_name": "HTMLModel",
          "model_module_version": "1.5.0",
          "state": {
            "_dom_classes": [],
            "_model_module": "@jupyter-widgets/controls",
            "_model_module_version": "1.5.0",
            "_model_name": "HTMLModel",
            "_view_count": null,
            "_view_module": "@jupyter-widgets/controls",
            "_view_module_version": "1.5.0",
            "_view_name": "HTMLView",
            "description": "",
            "description_tooltip": null,
            "layout": "IPY_MODEL_3e875c8b96b14a2699dfe1192ea30eef",
            "placeholder": "​",
            "style": "IPY_MODEL_7e070483fa0545699f9de85e7c21b76e",
            "value": " 50000/50000 [00:01&lt;00:00, 41804.94 examples/s]"
          }
        },
        "2057fcdfc9704228ad63e0d4979196e7": {
          "model_module": "@jupyter-widgets/base",
          "model_name": "LayoutModel",
          "model_module_version": "1.2.0",
          "state": {
            "_model_module": "@jupyter-widgets/base",
            "_model_module_version": "1.2.0",
            "_model_name": "LayoutModel",
            "_view_count": null,
            "_view_module": "@jupyter-widgets/base",
            "_view_module_version": "1.2.0",
            "_view_name": "LayoutView",
            "align_content": null,
            "align_items": null,
            "align_self": null,
            "border": null,
            "bottom": null,
            "display": null,
            "flex": null,
            "flex_flow": null,
            "grid_area": null,
            "grid_auto_columns": null,
            "grid_auto_flow": null,
            "grid_auto_rows": null,
            "grid_column": null,
            "grid_gap": null,
            "grid_row": null,
            "grid_template_areas": null,
            "grid_template_columns": null,
            "grid_template_rows": null,
            "height": null,
            "justify_content": null,
            "justify_items": null,
            "left": null,
            "margin": null,
            "max_height": null,
            "max_width": null,
            "min_height": null,
            "min_width": null,
            "object_fit": null,
            "object_position": null,
            "order": null,
            "overflow": null,
            "overflow_x": null,
            "overflow_y": null,
            "padding": null,
            "right": null,
            "top": null,
            "visibility": null,
            "width": null
          }
        },
        "a3529b674e904166b53d718a166cccd9": {
          "model_module": "@jupyter-widgets/base",
          "model_name": "LayoutModel",
          "model_module_version": "1.2.0",
          "state": {
            "_model_module": "@jupyter-widgets/base",
            "_model_module_version": "1.2.0",
            "_model_name": "LayoutModel",
            "_view_count": null,
            "_view_module": "@jupyter-widgets/base",
            "_view_module_version": "1.2.0",
            "_view_name": "LayoutView",
            "align_content": null,
            "align_items": null,
            "align_self": null,
            "border": null,
            "bottom": null,
            "display": null,
            "flex": null,
            "flex_flow": null,
            "grid_area": null,
            "grid_auto_columns": null,
            "grid_auto_flow": null,
            "grid_auto_rows": null,
            "grid_column": null,
            "grid_gap": null,
            "grid_row": null,
            "grid_template_areas": null,
            "grid_template_columns": null,
            "grid_template_rows": null,
            "height": null,
            "justify_content": null,
            "justify_items": null,
            "left": null,
            "margin": null,
            "max_height": null,
            "max_width": null,
            "min_height": null,
            "min_width": null,
            "object_fit": null,
            "object_position": null,
            "order": null,
            "overflow": null,
            "overflow_x": null,
            "overflow_y": null,
            "padding": null,
            "right": null,
            "top": null,
            "visibility": null,
            "width": null
          }
        },
        "5a18ccf4475846569b9e344b06151676": {
          "model_module": "@jupyter-widgets/controls",
          "model_name": "DescriptionStyleModel",
          "model_module_version": "1.5.0",
          "state": {
            "_model_module": "@jupyter-widgets/controls",
            "_model_module_version": "1.5.0",
            "_model_name": "DescriptionStyleModel",
            "_view_count": null,
            "_view_module": "@jupyter-widgets/base",
            "_view_module_version": "1.2.0",
            "_view_name": "StyleView",
            "description_width": ""
          }
        },
        "4c768afd01454bcba20d5eb4eba14bd9": {
          "model_module": "@jupyter-widgets/base",
          "model_name": "LayoutModel",
          "model_module_version": "1.2.0",
          "state": {
            "_model_module": "@jupyter-widgets/base",
            "_model_module_version": "1.2.0",
            "_model_name": "LayoutModel",
            "_view_count": null,
            "_view_module": "@jupyter-widgets/base",
            "_view_module_version": "1.2.0",
            "_view_name": "LayoutView",
            "align_content": null,
            "align_items": null,
            "align_self": null,
            "border": null,
            "bottom": null,
            "display": null,
            "flex": null,
            "flex_flow": null,
            "grid_area": null,
            "grid_auto_columns": null,
            "grid_auto_flow": null,
            "grid_auto_rows": null,
            "grid_column": null,
            "grid_gap": null,
            "grid_row": null,
            "grid_template_areas": null,
            "grid_template_columns": null,
            "grid_template_rows": null,
            "height": null,
            "justify_content": null,
            "justify_items": null,
            "left": null,
            "margin": null,
            "max_height": null,
            "max_width": null,
            "min_height": null,
            "min_width": null,
            "object_fit": null,
            "object_position": null,
            "order": null,
            "overflow": null,
            "overflow_x": null,
            "overflow_y": null,
            "padding": null,
            "right": null,
            "top": null,
            "visibility": null,
            "width": null
          }
        },
        "330b136b507c49f3a08f00953fd98f40": {
          "model_module": "@jupyter-widgets/controls",
          "model_name": "ProgressStyleModel",
          "model_module_version": "1.5.0",
          "state": {
            "_model_module": "@jupyter-widgets/controls",
            "_model_module_version": "1.5.0",
            "_model_name": "ProgressStyleModel",
            "_view_count": null,
            "_view_module": "@jupyter-widgets/base",
            "_view_module_version": "1.2.0",
            "_view_name": "StyleView",
            "bar_color": null,
            "description_width": ""
          }
        },
        "3e875c8b96b14a2699dfe1192ea30eef": {
          "model_module": "@jupyter-widgets/base",
          "model_name": "LayoutModel",
          "model_module_version": "1.2.0",
          "state": {
            "_model_module": "@jupyter-widgets/base",
            "_model_module_version": "1.2.0",
            "_model_name": "LayoutModel",
            "_view_count": null,
            "_view_module": "@jupyter-widgets/base",
            "_view_module_version": "1.2.0",
            "_view_name": "LayoutView",
            "align_content": null,
            "align_items": null,
            "align_self": null,
            "border": null,
            "bottom": null,
            "display": null,
            "flex": null,
            "flex_flow": null,
            "grid_area": null,
            "grid_auto_columns": null,
            "grid_auto_flow": null,
            "grid_auto_rows": null,
            "grid_column": null,
            "grid_gap": null,
            "grid_row": null,
            "grid_template_areas": null,
            "grid_template_columns": null,
            "grid_template_rows": null,
            "height": null,
            "justify_content": null,
            "justify_items": null,
            "left": null,
            "margin": null,
            "max_height": null,
            "max_width": null,
            "min_height": null,
            "min_width": null,
            "object_fit": null,
            "object_position": null,
            "order": null,
            "overflow": null,
            "overflow_x": null,
            "overflow_y": null,
            "padding": null,
            "right": null,
            "top": null,
            "visibility": null,
            "width": null
          }
        },
        "7e070483fa0545699f9de85e7c21b76e": {
          "model_module": "@jupyter-widgets/controls",
          "model_name": "DescriptionStyleModel",
          "model_module_version": "1.5.0",
          "state": {
            "_model_module": "@jupyter-widgets/controls",
            "_model_module_version": "1.5.0",
            "_model_name": "DescriptionStyleModel",
            "_view_count": null,
            "_view_module": "@jupyter-widgets/base",
            "_view_module_version": "1.2.0",
            "_view_name": "StyleView",
            "description_width": ""
          }
        },
        "378ea523eb6c40598c44895c4014c190": {
          "model_module": "@jupyter-widgets/controls",
          "model_name": "HBoxModel",
          "model_module_version": "1.5.0",
          "state": {
            "_dom_classes": [],
            "_model_module": "@jupyter-widgets/controls",
            "_model_module_version": "1.5.0",
            "_model_name": "HBoxModel",
            "_view_count": null,
            "_view_module": "@jupyter-widgets/controls",
            "_view_module_version": "1.5.0",
            "_view_name": "HBoxView",
            "box_style": "",
            "children": [
              "IPY_MODEL_943752ca219a4553b725b1f1779ea9c1",
              "IPY_MODEL_5d54dae96b9c47b683b9ef5efe098e75",
              "IPY_MODEL_5b48f7f5036d47bcaab46aaeaa98f952"
            ],
            "layout": "IPY_MODEL_5413a301e09c4fa6bec0b381a616e327"
          }
        },
        "943752ca219a4553b725b1f1779ea9c1": {
          "model_module": "@jupyter-widgets/controls",
          "model_name": "HTMLModel",
          "model_module_version": "1.5.0",
          "state": {
            "_dom_classes": [],
            "_model_module": "@jupyter-widgets/controls",
            "_model_module_version": "1.5.0",
            "_model_name": "HTMLModel",
            "_view_count": null,
            "_view_module": "@jupyter-widgets/controls",
            "_view_module_version": "1.5.0",
            "_view_name": "HTMLView",
            "description": "",
            "description_tooltip": null,
            "layout": "IPY_MODEL_a8d4237c5e4c491596b096a80a72d023",
            "placeholder": "​",
            "style": "IPY_MODEL_57c83f51f4fc440ebde3d2254917fb35",
            "value": "Map: 100%"
          }
        },
        "5d54dae96b9c47b683b9ef5efe098e75": {
          "model_module": "@jupyter-widgets/controls",
          "model_name": "FloatProgressModel",
          "model_module_version": "1.5.0",
          "state": {
            "_dom_classes": [],
            "_model_module": "@jupyter-widgets/controls",
            "_model_module_version": "1.5.0",
            "_model_name": "FloatProgressModel",
            "_view_count": null,
            "_view_module": "@jupyter-widgets/controls",
            "_view_module_version": "1.5.0",
            "_view_name": "ProgressView",
            "bar_style": "success",
            "description": "",
            "description_tooltip": null,
            "layout": "IPY_MODEL_99eb35a984f14ad987f9ea09a194eb3f",
            "max": 25000,
            "min": 0,
            "orientation": "horizontal",
            "style": "IPY_MODEL_e16188f1536649f195bbac62c041771b",
            "value": 25000
          }
        },
        "5b48f7f5036d47bcaab46aaeaa98f952": {
          "model_module": "@jupyter-widgets/controls",
          "model_name": "HTMLModel",
          "model_module_version": "1.5.0",
          "state": {
            "_dom_classes": [],
            "_model_module": "@jupyter-widgets/controls",
            "_model_module_version": "1.5.0",
            "_model_name": "HTMLModel",
            "_view_count": null,
            "_view_module": "@jupyter-widgets/controls",
            "_view_module_version": "1.5.0",
            "_view_name": "HTMLView",
            "description": "",
            "description_tooltip": null,
            "layout": "IPY_MODEL_41e445e3ee17449e92e544134aaa7c97",
            "placeholder": "​",
            "style": "IPY_MODEL_c56baece09d54c4a92c2927f100062fc",
            "value": " 25000/25000 [03:22&lt;00:00, 133.99 examples/s]"
          }
        },
        "5413a301e09c4fa6bec0b381a616e327": {
          "model_module": "@jupyter-widgets/base",
          "model_name": "LayoutModel",
          "model_module_version": "1.2.0",
          "state": {
            "_model_module": "@jupyter-widgets/base",
            "_model_module_version": "1.2.0",
            "_model_name": "LayoutModel",
            "_view_count": null,
            "_view_module": "@jupyter-widgets/base",
            "_view_module_version": "1.2.0",
            "_view_name": "LayoutView",
            "align_content": null,
            "align_items": null,
            "align_self": null,
            "border": null,
            "bottom": null,
            "display": null,
            "flex": null,
            "flex_flow": null,
            "grid_area": null,
            "grid_auto_columns": null,
            "grid_auto_flow": null,
            "grid_auto_rows": null,
            "grid_column": null,
            "grid_gap": null,
            "grid_row": null,
            "grid_template_areas": null,
            "grid_template_columns": null,
            "grid_template_rows": null,
            "height": null,
            "justify_content": null,
            "justify_items": null,
            "left": null,
            "margin": null,
            "max_height": null,
            "max_width": null,
            "min_height": null,
            "min_width": null,
            "object_fit": null,
            "object_position": null,
            "order": null,
            "overflow": null,
            "overflow_x": null,
            "overflow_y": null,
            "padding": null,
            "right": null,
            "top": null,
            "visibility": null,
            "width": null
          }
        },
        "a8d4237c5e4c491596b096a80a72d023": {
          "model_module": "@jupyter-widgets/base",
          "model_name": "LayoutModel",
          "model_module_version": "1.2.0",
          "state": {
            "_model_module": "@jupyter-widgets/base",
            "_model_module_version": "1.2.0",
            "_model_name": "LayoutModel",
            "_view_count": null,
            "_view_module": "@jupyter-widgets/base",
            "_view_module_version": "1.2.0",
            "_view_name": "LayoutView",
            "align_content": null,
            "align_items": null,
            "align_self": null,
            "border": null,
            "bottom": null,
            "display": null,
            "flex": null,
            "flex_flow": null,
            "grid_area": null,
            "grid_auto_columns": null,
            "grid_auto_flow": null,
            "grid_auto_rows": null,
            "grid_column": null,
            "grid_gap": null,
            "grid_row": null,
            "grid_template_areas": null,
            "grid_template_columns": null,
            "grid_template_rows": null,
            "height": null,
            "justify_content": null,
            "justify_items": null,
            "left": null,
            "margin": null,
            "max_height": null,
            "max_width": null,
            "min_height": null,
            "min_width": null,
            "object_fit": null,
            "object_position": null,
            "order": null,
            "overflow": null,
            "overflow_x": null,
            "overflow_y": null,
            "padding": null,
            "right": null,
            "top": null,
            "visibility": null,
            "width": null
          }
        },
        "57c83f51f4fc440ebde3d2254917fb35": {
          "model_module": "@jupyter-widgets/controls",
          "model_name": "DescriptionStyleModel",
          "model_module_version": "1.5.0",
          "state": {
            "_model_module": "@jupyter-widgets/controls",
            "_model_module_version": "1.5.0",
            "_model_name": "DescriptionStyleModel",
            "_view_count": null,
            "_view_module": "@jupyter-widgets/base",
            "_view_module_version": "1.2.0",
            "_view_name": "StyleView",
            "description_width": ""
          }
        },
        "99eb35a984f14ad987f9ea09a194eb3f": {
          "model_module": "@jupyter-widgets/base",
          "model_name": "LayoutModel",
          "model_module_version": "1.2.0",
          "state": {
            "_model_module": "@jupyter-widgets/base",
            "_model_module_version": "1.2.0",
            "_model_name": "LayoutModel",
            "_view_count": null,
            "_view_module": "@jupyter-widgets/base",
            "_view_module_version": "1.2.0",
            "_view_name": "LayoutView",
            "align_content": null,
            "align_items": null,
            "align_self": null,
            "border": null,
            "bottom": null,
            "display": null,
            "flex": null,
            "flex_flow": null,
            "grid_area": null,
            "grid_auto_columns": null,
            "grid_auto_flow": null,
            "grid_auto_rows": null,
            "grid_column": null,
            "grid_gap": null,
            "grid_row": null,
            "grid_template_areas": null,
            "grid_template_columns": null,
            "grid_template_rows": null,
            "height": null,
            "justify_content": null,
            "justify_items": null,
            "left": null,
            "margin": null,
            "max_height": null,
            "max_width": null,
            "min_height": null,
            "min_width": null,
            "object_fit": null,
            "object_position": null,
            "order": null,
            "overflow": null,
            "overflow_x": null,
            "overflow_y": null,
            "padding": null,
            "right": null,
            "top": null,
            "visibility": null,
            "width": null
          }
        },
        "e16188f1536649f195bbac62c041771b": {
          "model_module": "@jupyter-widgets/controls",
          "model_name": "ProgressStyleModel",
          "model_module_version": "1.5.0",
          "state": {
            "_model_module": "@jupyter-widgets/controls",
            "_model_module_version": "1.5.0",
            "_model_name": "ProgressStyleModel",
            "_view_count": null,
            "_view_module": "@jupyter-widgets/base",
            "_view_module_version": "1.2.0",
            "_view_name": "StyleView",
            "bar_color": null,
            "description_width": ""
          }
        },
        "41e445e3ee17449e92e544134aaa7c97": {
          "model_module": "@jupyter-widgets/base",
          "model_name": "LayoutModel",
          "model_module_version": "1.2.0",
          "state": {
            "_model_module": "@jupyter-widgets/base",
            "_model_module_version": "1.2.0",
            "_model_name": "LayoutModel",
            "_view_count": null,
            "_view_module": "@jupyter-widgets/base",
            "_view_module_version": "1.2.0",
            "_view_name": "LayoutView",
            "align_content": null,
            "align_items": null,
            "align_self": null,
            "border": null,
            "bottom": null,
            "display": null,
            "flex": null,
            "flex_flow": null,
            "grid_area": null,
            "grid_auto_columns": null,
            "grid_auto_flow": null,
            "grid_auto_rows": null,
            "grid_column": null,
            "grid_gap": null,
            "grid_row": null,
            "grid_template_areas": null,
            "grid_template_columns": null,
            "grid_template_rows": null,
            "height": null,
            "justify_content": null,
            "justify_items": null,
            "left": null,
            "margin": null,
            "max_height": null,
            "max_width": null,
            "min_height": null,
            "min_width": null,
            "object_fit": null,
            "object_position": null,
            "order": null,
            "overflow": null,
            "overflow_x": null,
            "overflow_y": null,
            "padding": null,
            "right": null,
            "top": null,
            "visibility": null,
            "width": null
          }
        },
        "c56baece09d54c4a92c2927f100062fc": {
          "model_module": "@jupyter-widgets/controls",
          "model_name": "DescriptionStyleModel",
          "model_module_version": "1.5.0",
          "state": {
            "_model_module": "@jupyter-widgets/controls",
            "_model_module_version": "1.5.0",
            "_model_name": "DescriptionStyleModel",
            "_view_count": null,
            "_view_module": "@jupyter-widgets/base",
            "_view_module_version": "1.2.0",
            "_view_name": "StyleView",
            "description_width": ""
          }
        },
        "f061f455b1254a3aa29092de1b4a158c": {
          "model_module": "@jupyter-widgets/controls",
          "model_name": "HBoxModel",
          "model_module_version": "1.5.0",
          "state": {
            "_dom_classes": [],
            "_model_module": "@jupyter-widgets/controls",
            "_model_module_version": "1.5.0",
            "_model_name": "HBoxModel",
            "_view_count": null,
            "_view_module": "@jupyter-widgets/controls",
            "_view_module_version": "1.5.0",
            "_view_name": "HBoxView",
            "box_style": "",
            "children": [
              "IPY_MODEL_039da223709c4565a25f8bb6a83061e1",
              "IPY_MODEL_a6ebc37505fd467ebb0a05f84b45cdaa",
              "IPY_MODEL_eb78fb3a659e4fd5beff4fd7c3c91b7a"
            ],
            "layout": "IPY_MODEL_70124be438504ae38ede0bde33172309"
          }
        },
        "039da223709c4565a25f8bb6a83061e1": {
          "model_module": "@jupyter-widgets/controls",
          "model_name": "HTMLModel",
          "model_module_version": "1.5.0",
          "state": {
            "_dom_classes": [],
            "_model_module": "@jupyter-widgets/controls",
            "_model_module_version": "1.5.0",
            "_model_name": "HTMLModel",
            "_view_count": null,
            "_view_module": "@jupyter-widgets/controls",
            "_view_module_version": "1.5.0",
            "_view_name": "HTMLView",
            "description": "",
            "description_tooltip": null,
            "layout": "IPY_MODEL_3fc9eac21c72441f8da25803e19e9e49",
            "placeholder": "​",
            "style": "IPY_MODEL_224dbcc1fed441ccb26bae39ddf8240f",
            "value": "Map: 100%"
          }
        },
        "a6ebc37505fd467ebb0a05f84b45cdaa": {
          "model_module": "@jupyter-widgets/controls",
          "model_name": "FloatProgressModel",
          "model_module_version": "1.5.0",
          "state": {
            "_dom_classes": [],
            "_model_module": "@jupyter-widgets/controls",
            "_model_module_version": "1.5.0",
            "_model_name": "FloatProgressModel",
            "_view_count": null,
            "_view_module": "@jupyter-widgets/controls",
            "_view_module_version": "1.5.0",
            "_view_name": "ProgressView",
            "bar_style": "success",
            "description": "",
            "description_tooltip": null,
            "layout": "IPY_MODEL_ca572c5e1bc24e82ba8dd4419f68ac37",
            "max": 25000,
            "min": 0,
            "orientation": "horizontal",
            "style": "IPY_MODEL_3a7ecf3dcd674ce2a584c45258305489",
            "value": 25000
          }
        },
        "eb78fb3a659e4fd5beff4fd7c3c91b7a": {
          "model_module": "@jupyter-widgets/controls",
          "model_name": "HTMLModel",
          "model_module_version": "1.5.0",
          "state": {
            "_dom_classes": [],
            "_model_module": "@jupyter-widgets/controls",
            "_model_module_version": "1.5.0",
            "_model_name": "HTMLModel",
            "_view_count": null,
            "_view_module": "@jupyter-widgets/controls",
            "_view_module_version": "1.5.0",
            "_view_name": "HTMLView",
            "description": "",
            "description_tooltip": null,
            "layout": "IPY_MODEL_7c9408b5f3ec4fa59ac3d96f5e8391d3",
            "placeholder": "​",
            "style": "IPY_MODEL_1a837de34b6d49aaac73cd6106c71738",
            "value": " 25000/25000 [02:45&lt;00:00, 132.78 examples/s]"
          }
        },
        "70124be438504ae38ede0bde33172309": {
          "model_module": "@jupyter-widgets/base",
          "model_name": "LayoutModel",
          "model_module_version": "1.2.0",
          "state": {
            "_model_module": "@jupyter-widgets/base",
            "_model_module_version": "1.2.0",
            "_model_name": "LayoutModel",
            "_view_count": null,
            "_view_module": "@jupyter-widgets/base",
            "_view_module_version": "1.2.0",
            "_view_name": "LayoutView",
            "align_content": null,
            "align_items": null,
            "align_self": null,
            "border": null,
            "bottom": null,
            "display": null,
            "flex": null,
            "flex_flow": null,
            "grid_area": null,
            "grid_auto_columns": null,
            "grid_auto_flow": null,
            "grid_auto_rows": null,
            "grid_column": null,
            "grid_gap": null,
            "grid_row": null,
            "grid_template_areas": null,
            "grid_template_columns": null,
            "grid_template_rows": null,
            "height": null,
            "justify_content": null,
            "justify_items": null,
            "left": null,
            "margin": null,
            "max_height": null,
            "max_width": null,
            "min_height": null,
            "min_width": null,
            "object_fit": null,
            "object_position": null,
            "order": null,
            "overflow": null,
            "overflow_x": null,
            "overflow_y": null,
            "padding": null,
            "right": null,
            "top": null,
            "visibility": null,
            "width": null
          }
        },
        "3fc9eac21c72441f8da25803e19e9e49": {
          "model_module": "@jupyter-widgets/base",
          "model_name": "LayoutModel",
          "model_module_version": "1.2.0",
          "state": {
            "_model_module": "@jupyter-widgets/base",
            "_model_module_version": "1.2.0",
            "_model_name": "LayoutModel",
            "_view_count": null,
            "_view_module": "@jupyter-widgets/base",
            "_view_module_version": "1.2.0",
            "_view_name": "LayoutView",
            "align_content": null,
            "align_items": null,
            "align_self": null,
            "border": null,
            "bottom": null,
            "display": null,
            "flex": null,
            "flex_flow": null,
            "grid_area": null,
            "grid_auto_columns": null,
            "grid_auto_flow": null,
            "grid_auto_rows": null,
            "grid_column": null,
            "grid_gap": null,
            "grid_row": null,
            "grid_template_areas": null,
            "grid_template_columns": null,
            "grid_template_rows": null,
            "height": null,
            "justify_content": null,
            "justify_items": null,
            "left": null,
            "margin": null,
            "max_height": null,
            "max_width": null,
            "min_height": null,
            "min_width": null,
            "object_fit": null,
            "object_position": null,
            "order": null,
            "overflow": null,
            "overflow_x": null,
            "overflow_y": null,
            "padding": null,
            "right": null,
            "top": null,
            "visibility": null,
            "width": null
          }
        },
        "224dbcc1fed441ccb26bae39ddf8240f": {
          "model_module": "@jupyter-widgets/controls",
          "model_name": "DescriptionStyleModel",
          "model_module_version": "1.5.0",
          "state": {
            "_model_module": "@jupyter-widgets/controls",
            "_model_module_version": "1.5.0",
            "_model_name": "DescriptionStyleModel",
            "_view_count": null,
            "_view_module": "@jupyter-widgets/base",
            "_view_module_version": "1.2.0",
            "_view_name": "StyleView",
            "description_width": ""
          }
        },
        "ca572c5e1bc24e82ba8dd4419f68ac37": {
          "model_module": "@jupyter-widgets/base",
          "model_name": "LayoutModel",
          "model_module_version": "1.2.0",
          "state": {
            "_model_module": "@jupyter-widgets/base",
            "_model_module_version": "1.2.0",
            "_model_name": "LayoutModel",
            "_view_count": null,
            "_view_module": "@jupyter-widgets/base",
            "_view_module_version": "1.2.0",
            "_view_name": "LayoutView",
            "align_content": null,
            "align_items": null,
            "align_self": null,
            "border": null,
            "bottom": null,
            "display": null,
            "flex": null,
            "flex_flow": null,
            "grid_area": null,
            "grid_auto_columns": null,
            "grid_auto_flow": null,
            "grid_auto_rows": null,
            "grid_column": null,
            "grid_gap": null,
            "grid_row": null,
            "grid_template_areas": null,
            "grid_template_columns": null,
            "grid_template_rows": null,
            "height": null,
            "justify_content": null,
            "justify_items": null,
            "left": null,
            "margin": null,
            "max_height": null,
            "max_width": null,
            "min_height": null,
            "min_width": null,
            "object_fit": null,
            "object_position": null,
            "order": null,
            "overflow": null,
            "overflow_x": null,
            "overflow_y": null,
            "padding": null,
            "right": null,
            "top": null,
            "visibility": null,
            "width": null
          }
        },
        "3a7ecf3dcd674ce2a584c45258305489": {
          "model_module": "@jupyter-widgets/controls",
          "model_name": "ProgressStyleModel",
          "model_module_version": "1.5.0",
          "state": {
            "_model_module": "@jupyter-widgets/controls",
            "_model_module_version": "1.5.0",
            "_model_name": "ProgressStyleModel",
            "_view_count": null,
            "_view_module": "@jupyter-widgets/base",
            "_view_module_version": "1.2.0",
            "_view_name": "StyleView",
            "bar_color": null,
            "description_width": ""
          }
        },
        "7c9408b5f3ec4fa59ac3d96f5e8391d3": {
          "model_module": "@jupyter-widgets/base",
          "model_name": "LayoutModel",
          "model_module_version": "1.2.0",
          "state": {
            "_model_module": "@jupyter-widgets/base",
            "_model_module_version": "1.2.0",
            "_model_name": "LayoutModel",
            "_view_count": null,
            "_view_module": "@jupyter-widgets/base",
            "_view_module_version": "1.2.0",
            "_view_name": "LayoutView",
            "align_content": null,
            "align_items": null,
            "align_self": null,
            "border": null,
            "bottom": null,
            "display": null,
            "flex": null,
            "flex_flow": null,
            "grid_area": null,
            "grid_auto_columns": null,
            "grid_auto_flow": null,
            "grid_auto_rows": null,
            "grid_column": null,
            "grid_gap": null,
            "grid_row": null,
            "grid_template_areas": null,
            "grid_template_columns": null,
            "grid_template_rows": null,
            "height": null,
            "justify_content": null,
            "justify_items": null,
            "left": null,
            "margin": null,
            "max_height": null,
            "max_width": null,
            "min_height": null,
            "min_width": null,
            "object_fit": null,
            "object_position": null,
            "order": null,
            "overflow": null,
            "overflow_x": null,
            "overflow_y": null,
            "padding": null,
            "right": null,
            "top": null,
            "visibility": null,
            "width": null
          }
        },
        "1a837de34b6d49aaac73cd6106c71738": {
          "model_module": "@jupyter-widgets/controls",
          "model_name": "DescriptionStyleModel",
          "model_module_version": "1.5.0",
          "state": {
            "_model_module": "@jupyter-widgets/controls",
            "_model_module_version": "1.5.0",
            "_model_name": "DescriptionStyleModel",
            "_view_count": null,
            "_view_module": "@jupyter-widgets/base",
            "_view_module_version": "1.2.0",
            "_view_name": "StyleView",
            "description_width": ""
          }
        },
        "e38e34a515d5425f9ee82851dd3ef4a8": {
          "model_module": "@jupyter-widgets/controls",
          "model_name": "HBoxModel",
          "model_module_version": "1.5.0",
          "state": {
            "_dom_classes": [],
            "_model_module": "@jupyter-widgets/controls",
            "_model_module_version": "1.5.0",
            "_model_name": "HBoxModel",
            "_view_count": null,
            "_view_module": "@jupyter-widgets/controls",
            "_view_module_version": "1.5.0",
            "_view_name": "HBoxView",
            "box_style": "",
            "children": [
              "IPY_MODEL_ea7a21ea601647da87ba3a3ce3fea367",
              "IPY_MODEL_41666aa408e440c48e71e3ae122cc6f3",
              "IPY_MODEL_57da2f76cd3142d9a5543deb9fb8bcb4"
            ],
            "layout": "IPY_MODEL_a228f18435744587abc89ada208d999c"
          }
        },
        "ea7a21ea601647da87ba3a3ce3fea367": {
          "model_module": "@jupyter-widgets/controls",
          "model_name": "HTMLModel",
          "model_module_version": "1.5.0",
          "state": {
            "_dom_classes": [],
            "_model_module": "@jupyter-widgets/controls",
            "_model_module_version": "1.5.0",
            "_model_name": "HTMLModel",
            "_view_count": null,
            "_view_module": "@jupyter-widgets/controls",
            "_view_module_version": "1.5.0",
            "_view_name": "HTMLView",
            "description": "",
            "description_tooltip": null,
            "layout": "IPY_MODEL_2fe38b5c53f743d1aee2336302f388d6",
            "placeholder": "​",
            "style": "IPY_MODEL_b239bb40f32a406d9e2116afb983f045",
            "value": "Map:  16%"
          }
        },
        "41666aa408e440c48e71e3ae122cc6f3": {
          "model_module": "@jupyter-widgets/controls",
          "model_name": "FloatProgressModel",
          "model_module_version": "1.5.0",
          "state": {
            "_dom_classes": [],
            "_model_module": "@jupyter-widgets/controls",
            "_model_module_version": "1.5.0",
            "_model_name": "FloatProgressModel",
            "_view_count": null,
            "_view_module": "@jupyter-widgets/controls",
            "_view_module_version": "1.5.0",
            "_view_name": "ProgressView",
            "bar_style": "",
            "description": "",
            "description_tooltip": null,
            "layout": "IPY_MODEL_4ee5bd3a631e433c8a2b7383a3bf0293",
            "max": 50000,
            "min": 0,
            "orientation": "horizontal",
            "style": "IPY_MODEL_a0fbed3f711b4aca941fed434468bd4f",
            "value": 8000
          }
        },
        "57da2f76cd3142d9a5543deb9fb8bcb4": {
          "model_module": "@jupyter-widgets/controls",
          "model_name": "HTMLModel",
          "model_module_version": "1.5.0",
          "state": {
            "_dom_classes": [],
            "_model_module": "@jupyter-widgets/controls",
            "_model_module_version": "1.5.0",
            "_model_name": "HTMLModel",
            "_view_count": null,
            "_view_module": "@jupyter-widgets/controls",
            "_view_module_version": "1.5.0",
            "_view_name": "HTMLView",
            "description": "",
            "description_tooltip": null,
            "layout": "IPY_MODEL_eccbb26830854004a3d7b6a77c061823",
            "placeholder": "​",
            "style": "IPY_MODEL_e2bdc8a4b79a47528ff4588809020100",
            "value": " 8000/50000 [00:52&lt;04:30, 155.24 examples/s]"
          }
        },
        "a228f18435744587abc89ada208d999c": {
          "model_module": "@jupyter-widgets/base",
          "model_name": "LayoutModel",
          "model_module_version": "1.2.0",
          "state": {
            "_model_module": "@jupyter-widgets/base",
            "_model_module_version": "1.2.0",
            "_model_name": "LayoutModel",
            "_view_count": null,
            "_view_module": "@jupyter-widgets/base",
            "_view_module_version": "1.2.0",
            "_view_name": "LayoutView",
            "align_content": null,
            "align_items": null,
            "align_self": null,
            "border": null,
            "bottom": null,
            "display": null,
            "flex": null,
            "flex_flow": null,
            "grid_area": null,
            "grid_auto_columns": null,
            "grid_auto_flow": null,
            "grid_auto_rows": null,
            "grid_column": null,
            "grid_gap": null,
            "grid_row": null,
            "grid_template_areas": null,
            "grid_template_columns": null,
            "grid_template_rows": null,
            "height": null,
            "justify_content": null,
            "justify_items": null,
            "left": null,
            "margin": null,
            "max_height": null,
            "max_width": null,
            "min_height": null,
            "min_width": null,
            "object_fit": null,
            "object_position": null,
            "order": null,
            "overflow": null,
            "overflow_x": null,
            "overflow_y": null,
            "padding": null,
            "right": null,
            "top": null,
            "visibility": null,
            "width": null
          }
        },
        "2fe38b5c53f743d1aee2336302f388d6": {
          "model_module": "@jupyter-widgets/base",
          "model_name": "LayoutModel",
          "model_module_version": "1.2.0",
          "state": {
            "_model_module": "@jupyter-widgets/base",
            "_model_module_version": "1.2.0",
            "_model_name": "LayoutModel",
            "_view_count": null,
            "_view_module": "@jupyter-widgets/base",
            "_view_module_version": "1.2.0",
            "_view_name": "LayoutView",
            "align_content": null,
            "align_items": null,
            "align_self": null,
            "border": null,
            "bottom": null,
            "display": null,
            "flex": null,
            "flex_flow": null,
            "grid_area": null,
            "grid_auto_columns": null,
            "grid_auto_flow": null,
            "grid_auto_rows": null,
            "grid_column": null,
            "grid_gap": null,
            "grid_row": null,
            "grid_template_areas": null,
            "grid_template_columns": null,
            "grid_template_rows": null,
            "height": null,
            "justify_content": null,
            "justify_items": null,
            "left": null,
            "margin": null,
            "max_height": null,
            "max_width": null,
            "min_height": null,
            "min_width": null,
            "object_fit": null,
            "object_position": null,
            "order": null,
            "overflow": null,
            "overflow_x": null,
            "overflow_y": null,
            "padding": null,
            "right": null,
            "top": null,
            "visibility": null,
            "width": null
          }
        },
        "b239bb40f32a406d9e2116afb983f045": {
          "model_module": "@jupyter-widgets/controls",
          "model_name": "DescriptionStyleModel",
          "model_module_version": "1.5.0",
          "state": {
            "_model_module": "@jupyter-widgets/controls",
            "_model_module_version": "1.5.0",
            "_model_name": "DescriptionStyleModel",
            "_view_count": null,
            "_view_module": "@jupyter-widgets/base",
            "_view_module_version": "1.2.0",
            "_view_name": "StyleView",
            "description_width": ""
          }
        },
        "4ee5bd3a631e433c8a2b7383a3bf0293": {
          "model_module": "@jupyter-widgets/base",
          "model_name": "LayoutModel",
          "model_module_version": "1.2.0",
          "state": {
            "_model_module": "@jupyter-widgets/base",
            "_model_module_version": "1.2.0",
            "_model_name": "LayoutModel",
            "_view_count": null,
            "_view_module": "@jupyter-widgets/base",
            "_view_module_version": "1.2.0",
            "_view_name": "LayoutView",
            "align_content": null,
            "align_items": null,
            "align_self": null,
            "border": null,
            "bottom": null,
            "display": null,
            "flex": null,
            "flex_flow": null,
            "grid_area": null,
            "grid_auto_columns": null,
            "grid_auto_flow": null,
            "grid_auto_rows": null,
            "grid_column": null,
            "grid_gap": null,
            "grid_row": null,
            "grid_template_areas": null,
            "grid_template_columns": null,
            "grid_template_rows": null,
            "height": null,
            "justify_content": null,
            "justify_items": null,
            "left": null,
            "margin": null,
            "max_height": null,
            "max_width": null,
            "min_height": null,
            "min_width": null,
            "object_fit": null,
            "object_position": null,
            "order": null,
            "overflow": null,
            "overflow_x": null,
            "overflow_y": null,
            "padding": null,
            "right": null,
            "top": null,
            "visibility": null,
            "width": null
          }
        },
        "a0fbed3f711b4aca941fed434468bd4f": {
          "model_module": "@jupyter-widgets/controls",
          "model_name": "ProgressStyleModel",
          "model_module_version": "1.5.0",
          "state": {
            "_model_module": "@jupyter-widgets/controls",
            "_model_module_version": "1.5.0",
            "_model_name": "ProgressStyleModel",
            "_view_count": null,
            "_view_module": "@jupyter-widgets/base",
            "_view_module_version": "1.2.0",
            "_view_name": "StyleView",
            "bar_color": null,
            "description_width": ""
          }
        },
        "eccbb26830854004a3d7b6a77c061823": {
          "model_module": "@jupyter-widgets/base",
          "model_name": "LayoutModel",
          "model_module_version": "1.2.0",
          "state": {
            "_model_module": "@jupyter-widgets/base",
            "_model_module_version": "1.2.0",
            "_model_name": "LayoutModel",
            "_view_count": null,
            "_view_module": "@jupyter-widgets/base",
            "_view_module_version": "1.2.0",
            "_view_name": "LayoutView",
            "align_content": null,
            "align_items": null,
            "align_self": null,
            "border": null,
            "bottom": null,
            "display": null,
            "flex": null,
            "flex_flow": null,
            "grid_area": null,
            "grid_auto_columns": null,
            "grid_auto_flow": null,
            "grid_auto_rows": null,
            "grid_column": null,
            "grid_gap": null,
            "grid_row": null,
            "grid_template_areas": null,
            "grid_template_columns": null,
            "grid_template_rows": null,
            "height": null,
            "justify_content": null,
            "justify_items": null,
            "left": null,
            "margin": null,
            "max_height": null,
            "max_width": null,
            "min_height": null,
            "min_width": null,
            "object_fit": null,
            "object_position": null,
            "order": null,
            "overflow": null,
            "overflow_x": null,
            "overflow_y": null,
            "padding": null,
            "right": null,
            "top": null,
            "visibility": null,
            "width": null
          }
        },
        "e2bdc8a4b79a47528ff4588809020100": {
          "model_module": "@jupyter-widgets/controls",
          "model_name": "DescriptionStyleModel",
          "model_module_version": "1.5.0",
          "state": {
            "_model_module": "@jupyter-widgets/controls",
            "_model_module_version": "1.5.0",
            "_model_name": "DescriptionStyleModel",
            "_view_count": null,
            "_view_module": "@jupyter-widgets/base",
            "_view_module_version": "1.2.0",
            "_view_name": "StyleView",
            "description_width": ""
          }
        }
      }
    }
  },
  "cells": [
    {
      "cell_type": "markdown",
      "metadata": {
        "id": "view-in-github",
        "colab_type": "text"
      },
      "source": [
        "<a href=\"https://colab.research.google.com/github/theaiacademy1/NLP-with-Transformer/blob/main/NLPwithtransformerV1.ipynb\" target=\"_parent\"><img src=\"https://colab.research.google.com/assets/colab-badge.svg\" alt=\"Open In Colab\"/></a>"
      ]
    },
    {
      "cell_type": "markdown",
      "source": [
        "****\n",
        "**The Ai Academy**\n",
        "****"
      ],
      "metadata": {
        "id": "sAnNtcvKx-0I"
      }
    },
    {
      "cell_type": "markdown",
      "source": [
        "### Natural language processing with Transformers - Hugging Face"
      ],
      "metadata": {
        "id": "9_DWcX5eyDqW"
      }
    },
    {
      "cell_type": "markdown",
      "source": [
        "#### What is Transformer.\n",
        "* The transformers have revolutionized NLP by providing a powerful and flexible model architecture that has outperformed previous models on many tasks. Introduced in the seminal paper \"Attention is All You Need\" by Vaswani et al., the Transformer model discards the recurrence found in traditional models like RNNs and instead relies entirely on a mechanism known as self-attention. The Key Characteristics of Transformer Architecture are, The Encoder-Decoder Framework which consists of two main components: the encoder and the decoder.\n",
        "  - **Encoder**: Converts an input sequence of tokens into a sequence of continuous representations.\n",
        "  - **Decoder**: Takes the output of the encoder and generates an output sequence, one token at a time.\n",
        "- **Self-Attention Mechanism**: Allows the model to weigh the importance of different tokens in the input sequence, enabling it to capture long-range dependencies more effectively than RNNs.\n",
        "- **Positional Encodings**: Since Transformers do not inherently capture the order of tokens, positional encodings are added to the input embeddings to provide information about the token positions in the sequence.\n",
        "- **Parallelization**: Unlike RNNs, Transformers allow for much greater parallelization, making training more efficient.\n"
      ],
      "metadata": {
        "id": "okO1B9ifyHcz"
      }
    },
    {
      "cell_type": "markdown",
      "source": [
        "****\n",
        "### History and Evolution of Transformers in NLP\n",
        "\n",
        "Before Transformers, NLP models were primarily based on recurrent neural networks (RNNs) and convolutional neural networks (CNNs). While these models achieved significant milestones, they had limitations in handling long-range dependencies and parallelization.\n",
        "\n",
        "#### Evolutionary Milestones\n",
        "\n",
        "1. **RNNs and LSTMs**: Introduced the concept of sequential processing, but struggled with long-term dependencies due to gradient vanishing/exploding problems.\n",
        "2. **Attention Mechanisms**: Enhanced RNNs by allowing the model to focus on different parts of the input sequence, but were still constrained by sequential processing.\n",
        "3. **Transformers**: Introduced by Vaswani et al. in 2017, eliminated the recurrence by relying entirely on self-attention mechanisms, enabling better handling of long-range dependencies and parallelization.\n",
        "\n",
        "#### Impact on NLP\n",
        "\n",
        "Transformers have set new state-of-the-art results across a wide range of NLP tasks, including machine translation, text classification, and language modeling. Notable models based on Transformer architecture include:\n",
        "- **BERT (Bidirectional Encoder Representations from Transformers)**: Utilizes a bidirectional approach to pre-training, capturing context from both directions.\n",
        "- **GPT (Generative Pre-trained Transformer)**: Focuses on autoregressive language modeling, generating coherent text by predicting the next word in a sequence.\n",
        "- **T5 (Text-to-Text Transfer Transformer)**: Frames all NLP tasks as a text-to-text problem, simplifying the process of applying the model to different tasks.\n"
      ],
      "metadata": {
        "id": "oAIU_Qb7yL2D"
      }
    },
    {
      "cell_type": "markdown",
      "source": [
        "*****\n",
        "### Key Concepts of the Transformer\n",
        "##### Self-Attention Mechanism:\n",
        "* At the heart of the Transformer is the self-attention mechanism, which allows the model to weigh the importance of different words in a sentence when encoding or decoding sequences. This mechanism captures the dependencies between words regardless of their distance in the sequence, making it highly effective for understanding the context.\n",
        "##### Encoder-Decoder Architecture:\n",
        "The original Transformer model consists of an encoder and a decoder.\n",
        "* **Encoder:** The encoder reads the input sequence and transforms it into a set of continuous representations. It is composed of multiple layers, each containing two sub-layers: a multi-head self-attention mechanism and a position-wise fully connected feed-forward network.\n",
        "* **Decoder:** The decoder generates the output sequence. Like the encoder, it is composed of multiple layers. Each layer has three sub-layers: a multi-head self-attention mechanism, an encoder-decoder attention mechanism, and a position-wise fully connected feed-forward network. The encoder-decoder attention mechanism allows the decoder to focus on relevant parts of the input sequence during generation.\n",
        "##### Positional Encoding:\n",
        "* Since Transformers do not inherently understand the order of the sequence, positional encodings are added to the input embeddings to provide information about the relative positions of the tokens in the sequence.\n",
        "##### Multi-Head Attention:\n",
        "* This mechanism allows the model to focus on different parts of the input sequence simultaneously, providing multiple attention scores for each token. It improves the ability of the model to capture various aspects of the relationships between words.\n",
        "#### Detailed Components\n",
        "* **Attention Mechanisms:** Attention mechanisms are crucial for the functionality of Transformers. They allow the model to dynamically focus on different parts of the input sequence. The self-attention mechanism computes a representation of each token by considering the entire sequence using three matrices: Query (Q), Key (K), and Value (V).\n",
        "* **Feed-Forward Networks:** These are applied independently to each position in the sequence. They consist of two linear transformations with a ReLU activation in between, allowing the model to learn complex transformations of the input features.\n",
        "* **Layer Normalization:** Applied to each sub-layer, it stabilizes and accelerates the training process by normalizing the input across the features for each layer.\n",
        "#### Advantages of Transformers\n",
        "* **Parallelization:** Unlike RNNs, which process tokens sequentially, Transformers can process tokens in parallel, significantly speeding up training and inference.\n",
        "* **Long-Range Dependencies:** Transformers can effectively capture long-range dependencies in sequences, which is a limitation in traditional RNNs and LSTMs.\n",
        "* **Scalability:** Transformers scale well with large datasets and models, enabling them to learn from vast amounts of data and improve their performance on various tasks.\n",
        "#### Applications of Transformers\n",
        "* **Language Translation:** The initial application of Transformers, where they significantly improved the quality and efficiency of machine translation systems.\n",
        "* **Text Summarization:** Generating concise summaries of longer texts.\n",
        "* **Question Answering:** Providing precise answers to questions based on input text.\n",
        "* **Text Generation:** Creating coherent and contextually relevant text based on given prompts.\n"
      ],
      "metadata": {
        "id": "OrUAsDJ1yQdu"
      }
    },
    {
      "cell_type": "markdown",
      "source": [
        "### Overview of Hugging Face Transformers Library and Ecosystem\n",
        "\n",
        "Hugging Face has developed a comprehensive ecosystem that simplifies the use of Transformer models in Natural Language Processing (NLP). This ecosystem includes several powerful tools and libraries designed to make it easier for researchers and developers to access, fine-tune, and deploy state-of-the-art models for a wide range of NLP tasks.\n",
        "\n",
        "#### Hugging Face Transformers Library\n",
        "\n",
        "The Hugging Face Transformers library is the centerpiece of the ecosystem. It provides an easy-to-use interface for accessing a variety of pre-trained Transformer models and fine-tuning them on custom datasets. Here are some key features of the library:\n",
        "\n",
        "- **Model Hub**: A vast repository of pre-trained models covering a wide range of NLP tasks. Users can easily search, download, and integrate these models into their applications. The Model Hub supports multiple model architectures, such as BERT, GPT-2, RoBERTa, T5, and many others.\n",
        "  \n",
        "- **Tokenizers**: The library offers efficient and versatile tokenizers that support various tokenization strategies. Tokenization is the process of converting text into numerical tokens that the models can process. Hugging Face provides tokenizers for word, subword, and character tokenization, which are optimized for speed and compatibility with different model architectures.\n",
        "\n",
        "- **Trainer API**: A high-level interface that simplifies the process of training and evaluating models. The Trainer API abstracts away much of the boilerplate code required for training models, allowing users to focus on their specific tasks. It supports features such as distributed training, mixed precision, and hyperparameter tuning.\n",
        "\n",
        "#### Hugging Face Model Hub\n",
        "\n",
        "The Model Hub is an integral part of the Hugging Face ecosystem. It hosts thousands of pre-trained models that can be used for various NLP tasks such as text classification, named entity recognition, question answering, text generation, and more. The Model Hub offers the following features:\n",
        "\n",
        "- **Search and Filter**: Users can search for models based on specific criteria such as task, architecture, dataset, language, and more. This makes it easy to find the most suitable model for a particular use case.\n",
        "  \n",
        "- **Community Contributions**: The Model Hub encourages contributions from the community. Researchers and developers can upload their pre-trained models, making them available to others. This collaborative approach fosters innovation and accelerates the adoption of new techniques.\n",
        "\n",
        "- **Documentation and Examples**: Each model on the Model Hub comes with detailed documentation and usage examples, which help users understand how to effectively utilize the models in their projects.\n",
        "\n",
        "#### Additional Libraries\n",
        "\n",
        "In addition to the Transformers library, Hugging Face provides several other libraries that enhance the overall ecosystem:\n",
        "\n",
        "- **Datasets**: This library offers a seamless way to access and preprocess datasets. It integrates with popular frameworks like Pandas and NumPy, making it easy to manipulate and transform data. The Datasets library supports a wide range of datasets and includes tools for data loading, preprocessing, and augmentation.\n",
        "\n",
        "- **Accelerate**: The Accelerate library provides tools for optimizing the training process. It includes features such as distributed training, mixed precision training, and gradient accumulation, which help to speed up training and reduce resource usage. Accelerate is designed to work seamlessly with the Transformers library, allowing users to scale their training workflows efficiently.\n",
        "\n",
        "### Detailed Components\n",
        "\n",
        "#### Model Hub\n",
        "\n",
        "The Hugging Face Model Hub is a centralized repository that hosts a wide array of pre-trained models. It provides a user-friendly interface for browsing and accessing models. Here are some specific features and benefits:\n",
        "\n",
        "- **Diverse Model Selection**: The Model Hub includes models trained on various tasks such as language translation, summarization, text generation, and more. Users can find models tailored to specific languages, domains, or datasets.\n",
        "  \n",
        "- **Versioning and Updates**: Models on the Hub are versioned, ensuring that users can access previous versions if needed. Authors of models can update their models and provide release notes, making it clear what changes or improvements have been made.\n",
        "\n",
        "- **Integration with Transformers Library**: Models from the Hub can be easily loaded using the Transformers library. This integration simplifies the process of deploying pre-trained models in applications.\n"
      ],
      "metadata": {
        "id": "3zP218RVyuSy"
      }
    },
    {
      "cell_type": "code",
      "execution_count": 1,
      "metadata": {
        "colab": {
          "base_uri": "https://localhost:8080/"
        },
        "id": "sOk2Nr8-xrpw",
        "outputId": "019a80f0-6c15-42a2-f31c-fdce63e8a188"
      },
      "outputs": [
        {
          "output_type": "stream",
          "name": "stderr",
          "text": [
            "/usr/local/lib/python3.10/dist-packages/huggingface_hub/utils/_token.py:89: UserWarning: \n",
            "The secret `HF_TOKEN` does not exist in your Colab secrets.\n",
            "To authenticate with the Hugging Face Hub, create a token in your settings tab (https://huggingface.co/settings/tokens), set it as secret in your Google Colab and restart your session.\n",
            "You will be able to reuse this secret in all of your notebooks.\n",
            "Please note that authentication is recommended but still optional to access public models or datasets.\n",
            "  warnings.warn(\n"
          ]
        },
        {
          "output_type": "stream",
          "name": "stdout",
          "text": [
            "[{'label': 'POSITIVE', 'score': 0.9971315860748291}]\n"
          ]
        }
      ],
      "source": [
        "from transformers import pipeline\n",
        "\n",
        "# Load a specific pre-trained model from the Model Hub for sentiment analysis\n",
        "model_name = \"distilbert-base-uncased-finetuned-sst-2-english\"\n",
        "classifier = pipeline('sentiment-analysis', model=model_name)\n",
        "\n",
        "# Use the model to analyze sentiment\n",
        "result = classifier(\"I love using Hugging Face transformers!\")\n",
        "print(result)\n"
      ]
    },
    {
      "cell_type": "markdown",
      "source": [
        "#### Tokenizers\n",
        "\n",
        "Tokenization is a crucial step in preparing text data for input into Transformer models. The Hugging Face tokenizers library provides efficient and flexible tokenization methods. Key features include:\n",
        "\n",
        "- **Fast and Efficient**: Tokenizers are written in Rust and provide bindings for Python, ensuring they are both fast and efficient. This is particularly important when dealing with large datasets.\n",
        "  \n",
        "- **Support for Multiple Tokenization Strategies**: The library supports various tokenization methods, including byte-pair encoding (BPE), WordPiece, and sentencepiece. This flexibility allows users to choose the best method for their specific use case.\n",
        "\n",
        "- **Custom Tokenization**: Users can create custom tokenizers tailored to their specific needs, such as adding special tokens or modifying tokenization rules."
      ],
      "metadata": {
        "id": "YWPuGBp5zKXD"
      }
    },
    {
      "cell_type": "code",
      "source": [
        "from transformers import BertTokenizer\n",
        "\n",
        "# Load a pre-trained tokenizer\n",
        "tokenizer = BertTokenizer.from_pretrained('bert-base-uncased')\n",
        "\n",
        "# Tokenize input text\n",
        "inputs = tokenizer(\"Hello, how are you?\", return_tensors=\"pt\")\n",
        "print(inputs)"
      ],
      "metadata": {
        "colab": {
          "base_uri": "https://localhost:8080/"
        },
        "id": "FLAiXeK_y0Ft",
        "outputId": "b313c290-2da5-4d94-c868-0b720edd6e94"
      },
      "execution_count": 2,
      "outputs": [
        {
          "output_type": "stream",
          "name": "stdout",
          "text": [
            "{'input_ids': tensor([[ 101, 7592, 1010, 2129, 2024, 2017, 1029,  102]]), 'token_type_ids': tensor([[0, 0, 0, 0, 0, 0, 0, 0]]), 'attention_mask': tensor([[1, 1, 1, 1, 1, 1, 1, 1]])}\n"
          ]
        }
      ]
    },
    {
      "cell_type": "markdown",
      "source": [
        "#### Trainer API\n",
        "\n",
        "The Trainer API in the Transformers library provides a high-level abstraction for training and evaluating models. It simplifies the training process by handling common tasks such as data loading, optimization, and evaluation. Key features include:\n",
        "\n",
        "- **Ease of Use**: The Trainer API reduces the amount of code needed to set up and train models, making it accessible to users with varying levels of expertise.\n",
        "  \n",
        "- **Advanced Features**: The API supports advanced training features such as distributed training across multiple GPUs, mixed precision training for faster computation, and hyperparameter tuning.\n",
        "\n",
        "- **Flexible Configuration**: Users can customize various aspects of the training process, including learning rates, batch sizes, and evaluation metrics."
      ],
      "metadata": {
        "id": "0m6jH9MmzUTZ"
      }
    },
    {
      "cell_type": "code",
      "source": [
        "pip install transformers[torch] accelerate"
      ],
      "metadata": {
        "colab": {
          "base_uri": "https://localhost:8080/"
        },
        "id": "8qvsYNeTzxLg",
        "outputId": "ae0e77c5-5b4e-4de1-821d-58f99cad2c2e"
      },
      "execution_count": 3,
      "outputs": [
        {
          "output_type": "stream",
          "name": "stdout",
          "text": [
            "Requirement already satisfied: transformers[torch] in /usr/local/lib/python3.10/dist-packages (4.42.4)\n",
            "Requirement already satisfied: accelerate in /usr/local/lib/python3.10/dist-packages (0.33.0)\n",
            "Requirement already satisfied: filelock in /usr/local/lib/python3.10/dist-packages (from transformers[torch]) (3.15.4)\n",
            "Requirement already satisfied: huggingface-hub<1.0,>=0.23.2 in /usr/local/lib/python3.10/dist-packages (from transformers[torch]) (0.23.5)\n",
            "Requirement already satisfied: numpy<2.0,>=1.17 in /usr/local/lib/python3.10/dist-packages (from transformers[torch]) (1.25.2)\n",
            "Requirement already satisfied: packaging>=20.0 in /usr/local/lib/python3.10/dist-packages (from transformers[torch]) (24.1)\n",
            "Requirement already satisfied: pyyaml>=5.1 in /usr/local/lib/python3.10/dist-packages (from transformers[torch]) (6.0.1)\n",
            "Requirement already satisfied: regex!=2019.12.17 in /usr/local/lib/python3.10/dist-packages (from transformers[torch]) (2024.5.15)\n",
            "Requirement already satisfied: requests in /usr/local/lib/python3.10/dist-packages (from transformers[torch]) (2.32.3)\n",
            "Requirement already satisfied: safetensors>=0.4.1 in /usr/local/lib/python3.10/dist-packages (from transformers[torch]) (0.4.3)\n",
            "Requirement already satisfied: tokenizers<0.20,>=0.19 in /usr/local/lib/python3.10/dist-packages (from transformers[torch]) (0.19.1)\n",
            "Requirement already satisfied: tqdm>=4.27 in /usr/local/lib/python3.10/dist-packages (from transformers[torch]) (4.66.4)\n",
            "Requirement already satisfied: torch in /usr/local/lib/python3.10/dist-packages (from transformers[torch]) (2.3.1+cu121)\n",
            "Requirement already satisfied: psutil in /usr/local/lib/python3.10/dist-packages (from accelerate) (5.9.5)\n",
            "Requirement already satisfied: fsspec>=2023.5.0 in /usr/local/lib/python3.10/dist-packages (from huggingface-hub<1.0,>=0.23.2->transformers[torch]) (2023.6.0)\n",
            "Requirement already satisfied: typing-extensions>=3.7.4.3 in /usr/local/lib/python3.10/dist-packages (from huggingface-hub<1.0,>=0.23.2->transformers[torch]) (4.12.2)\n",
            "Requirement already satisfied: sympy in /usr/local/lib/python3.10/dist-packages (from torch->transformers[torch]) (1.13.0)\n",
            "Requirement already satisfied: networkx in /usr/local/lib/python3.10/dist-packages (from torch->transformers[torch]) (3.3)\n",
            "Requirement already satisfied: jinja2 in /usr/local/lib/python3.10/dist-packages (from torch->transformers[torch]) (3.1.4)\n",
            "Requirement already satisfied: nvidia-cuda-nvrtc-cu12==12.1.105 in /usr/local/lib/python3.10/dist-packages (from torch->transformers[torch]) (12.1.105)\n",
            "Requirement already satisfied: nvidia-cuda-runtime-cu12==12.1.105 in /usr/local/lib/python3.10/dist-packages (from torch->transformers[torch]) (12.1.105)\n",
            "Requirement already satisfied: nvidia-cuda-cupti-cu12==12.1.105 in /usr/local/lib/python3.10/dist-packages (from torch->transformers[torch]) (12.1.105)\n",
            "Requirement already satisfied: nvidia-cudnn-cu12==8.9.2.26 in /usr/local/lib/python3.10/dist-packages (from torch->transformers[torch]) (8.9.2.26)\n",
            "Requirement already satisfied: nvidia-cublas-cu12==12.1.3.1 in /usr/local/lib/python3.10/dist-packages (from torch->transformers[torch]) (12.1.3.1)\n",
            "Requirement already satisfied: nvidia-cufft-cu12==11.0.2.54 in /usr/local/lib/python3.10/dist-packages (from torch->transformers[torch]) (11.0.2.54)\n",
            "Requirement already satisfied: nvidia-curand-cu12==10.3.2.106 in /usr/local/lib/python3.10/dist-packages (from torch->transformers[torch]) (10.3.2.106)\n",
            "Requirement already satisfied: nvidia-cusolver-cu12==11.4.5.107 in /usr/local/lib/python3.10/dist-packages (from torch->transformers[torch]) (11.4.5.107)\n",
            "Requirement already satisfied: nvidia-cusparse-cu12==12.1.0.106 in /usr/local/lib/python3.10/dist-packages (from torch->transformers[torch]) (12.1.0.106)\n",
            "Requirement already satisfied: nvidia-nccl-cu12==2.20.5 in /usr/local/lib/python3.10/dist-packages (from torch->transformers[torch]) (2.20.5)\n",
            "Requirement already satisfied: nvidia-nvtx-cu12==12.1.105 in /usr/local/lib/python3.10/dist-packages (from torch->transformers[torch]) (12.1.105)\n",
            "Requirement already satisfied: triton==2.3.1 in /usr/local/lib/python3.10/dist-packages (from torch->transformers[torch]) (2.3.1)\n",
            "Requirement already satisfied: nvidia-nvjitlink-cu12 in /usr/local/lib/python3.10/dist-packages (from nvidia-cusolver-cu12==11.4.5.107->torch->transformers[torch]) (12.5.82)\n",
            "Requirement already satisfied: charset-normalizer<4,>=2 in /usr/local/lib/python3.10/dist-packages (from requests->transformers[torch]) (3.3.2)\n",
            "Requirement already satisfied: idna<4,>=2.5 in /usr/local/lib/python3.10/dist-packages (from requests->transformers[torch]) (3.7)\n",
            "Requirement already satisfied: urllib3<3,>=1.21.1 in /usr/local/lib/python3.10/dist-packages (from requests->transformers[torch]) (2.0.7)\n",
            "Requirement already satisfied: certifi>=2017.4.17 in /usr/local/lib/python3.10/dist-packages (from requests->transformers[torch]) (2024.7.4)\n",
            "Requirement already satisfied: MarkupSafe>=2.0 in /usr/local/lib/python3.10/dist-packages (from jinja2->torch->transformers[torch]) (2.1.5)\n",
            "Requirement already satisfied: mpmath<1.4,>=1.1.0 in /usr/local/lib/python3.10/dist-packages (from sympy->torch->transformers[torch]) (1.3.0)\n"
          ]
        }
      ]
    },
    {
      "cell_type": "code",
      "source": [
        "pip install accelerate -U"
      ],
      "metadata": {
        "colab": {
          "base_uri": "https://localhost:8080/"
        },
        "id": "37S-346810pM",
        "outputId": "27237fad-74f3-4ef4-bd8a-fe8c62ea4fa4"
      },
      "execution_count": 4,
      "outputs": [
        {
          "output_type": "stream",
          "name": "stdout",
          "text": [
            "Requirement already satisfied: accelerate in /usr/local/lib/python3.10/dist-packages (0.33.0)\n",
            "Requirement already satisfied: numpy<2.0.0,>=1.17 in /usr/local/lib/python3.10/dist-packages (from accelerate) (1.25.2)\n",
            "Requirement already satisfied: packaging>=20.0 in /usr/local/lib/python3.10/dist-packages (from accelerate) (24.1)\n",
            "Requirement already satisfied: psutil in /usr/local/lib/python3.10/dist-packages (from accelerate) (5.9.5)\n",
            "Requirement already satisfied: pyyaml in /usr/local/lib/python3.10/dist-packages (from accelerate) (6.0.1)\n",
            "Requirement already satisfied: torch>=1.10.0 in /usr/local/lib/python3.10/dist-packages (from accelerate) (2.3.1+cu121)\n",
            "Requirement already satisfied: huggingface-hub>=0.21.0 in /usr/local/lib/python3.10/dist-packages (from accelerate) (0.23.5)\n",
            "Requirement already satisfied: safetensors>=0.3.1 in /usr/local/lib/python3.10/dist-packages (from accelerate) (0.4.3)\n",
            "Requirement already satisfied: filelock in /usr/local/lib/python3.10/dist-packages (from huggingface-hub>=0.21.0->accelerate) (3.15.4)\n",
            "Requirement already satisfied: fsspec>=2023.5.0 in /usr/local/lib/python3.10/dist-packages (from huggingface-hub>=0.21.0->accelerate) (2023.6.0)\n",
            "Requirement already satisfied: requests in /usr/local/lib/python3.10/dist-packages (from huggingface-hub>=0.21.0->accelerate) (2.32.3)\n",
            "Requirement already satisfied: tqdm>=4.42.1 in /usr/local/lib/python3.10/dist-packages (from huggingface-hub>=0.21.0->accelerate) (4.66.4)\n",
            "Requirement already satisfied: typing-extensions>=3.7.4.3 in /usr/local/lib/python3.10/dist-packages (from huggingface-hub>=0.21.0->accelerate) (4.12.2)\n",
            "Requirement already satisfied: sympy in /usr/local/lib/python3.10/dist-packages (from torch>=1.10.0->accelerate) (1.13.0)\n",
            "Requirement already satisfied: networkx in /usr/local/lib/python3.10/dist-packages (from torch>=1.10.0->accelerate) (3.3)\n",
            "Requirement already satisfied: jinja2 in /usr/local/lib/python3.10/dist-packages (from torch>=1.10.0->accelerate) (3.1.4)\n",
            "Requirement already satisfied: nvidia-cuda-nvrtc-cu12==12.1.105 in /usr/local/lib/python3.10/dist-packages (from torch>=1.10.0->accelerate) (12.1.105)\n",
            "Requirement already satisfied: nvidia-cuda-runtime-cu12==12.1.105 in /usr/local/lib/python3.10/dist-packages (from torch>=1.10.0->accelerate) (12.1.105)\n",
            "Requirement already satisfied: nvidia-cuda-cupti-cu12==12.1.105 in /usr/local/lib/python3.10/dist-packages (from torch>=1.10.0->accelerate) (12.1.105)\n",
            "Requirement already satisfied: nvidia-cudnn-cu12==8.9.2.26 in /usr/local/lib/python3.10/dist-packages (from torch>=1.10.0->accelerate) (8.9.2.26)\n",
            "Requirement already satisfied: nvidia-cublas-cu12==12.1.3.1 in /usr/local/lib/python3.10/dist-packages (from torch>=1.10.0->accelerate) (12.1.3.1)\n",
            "Requirement already satisfied: nvidia-cufft-cu12==11.0.2.54 in /usr/local/lib/python3.10/dist-packages (from torch>=1.10.0->accelerate) (11.0.2.54)\n",
            "Requirement already satisfied: nvidia-curand-cu12==10.3.2.106 in /usr/local/lib/python3.10/dist-packages (from torch>=1.10.0->accelerate) (10.3.2.106)\n",
            "Requirement already satisfied: nvidia-cusolver-cu12==11.4.5.107 in /usr/local/lib/python3.10/dist-packages (from torch>=1.10.0->accelerate) (11.4.5.107)\n",
            "Requirement already satisfied: nvidia-cusparse-cu12==12.1.0.106 in /usr/local/lib/python3.10/dist-packages (from torch>=1.10.0->accelerate) (12.1.0.106)\n",
            "Requirement already satisfied: nvidia-nccl-cu12==2.20.5 in /usr/local/lib/python3.10/dist-packages (from torch>=1.10.0->accelerate) (2.20.5)\n",
            "Requirement already satisfied: nvidia-nvtx-cu12==12.1.105 in /usr/local/lib/python3.10/dist-packages (from torch>=1.10.0->accelerate) (12.1.105)\n",
            "Requirement already satisfied: triton==2.3.1 in /usr/local/lib/python3.10/dist-packages (from torch>=1.10.0->accelerate) (2.3.1)\n",
            "Requirement already satisfied: nvidia-nvjitlink-cu12 in /usr/local/lib/python3.10/dist-packages (from nvidia-cusolver-cu12==11.4.5.107->torch>=1.10.0->accelerate) (12.5.82)\n",
            "Requirement already satisfied: MarkupSafe>=2.0 in /usr/local/lib/python3.10/dist-packages (from jinja2->torch>=1.10.0->accelerate) (2.1.5)\n",
            "Requirement already satisfied: charset-normalizer<4,>=2 in /usr/local/lib/python3.10/dist-packages (from requests->huggingface-hub>=0.21.0->accelerate) (3.3.2)\n",
            "Requirement already satisfied: idna<4,>=2.5 in /usr/local/lib/python3.10/dist-packages (from requests->huggingface-hub>=0.21.0->accelerate) (3.7)\n",
            "Requirement already satisfied: urllib3<3,>=1.21.1 in /usr/local/lib/python3.10/dist-packages (from requests->huggingface-hub>=0.21.0->accelerate) (2.0.7)\n",
            "Requirement already satisfied: certifi>=2017.4.17 in /usr/local/lib/python3.10/dist-packages (from requests->huggingface-hub>=0.21.0->accelerate) (2024.7.4)\n",
            "Requirement already satisfied: mpmath<1.4,>=1.1.0 in /usr/local/lib/python3.10/dist-packages (from sympy->torch>=1.10.0->accelerate) (1.3.0)\n"
          ]
        }
      ]
    },
    {
      "cell_type": "code",
      "source": [
        "from transformers import Trainer, TrainingArguments, BertForSequenceClassification\n",
        "import torch\n",
        "from torch.optim import AdamW\n",
        "from torch.utils.data import Dataset\n",
        "\n",
        "# Custom dataset to ensure __len__ is implemented\n",
        "class MyDataset(Dataset):\n",
        "    def __init__(self, data):\n",
        "        self.data = data\n",
        "\n",
        "    def __len__(self):\n",
        "        return len(self.data)\n",
        "\n",
        "    def __getitem__(self, idx):\n",
        "        return self.data[idx]\n",
        "\n",
        "# Assume these datasets are lists of dictionaries\n",
        "train_data = [\n",
        "    {\"input_ids\": torch.tensor([101, 7592, 1010, 2129, 2024, 2017, 1029, 102]), \"attention_mask\": torch.tensor([1, 1, 1, 1, 1, 1, 1, 1]), \"labels\": torch.tensor(1)}\n",
        "] # Your training data here\n",
        "eval_data = [\n",
        "    {\"input_ids\": torch.tensor([101, 7592, 1010, 2129, 2024, 2017, 1029, 102]), \"attention_mask\": torch.tensor([1, 1, 1, 1, 1, 1, 1, 1]), \"labels\": torch.tensor(0)}\n",
        "]   # Your evaluation data here\n",
        "\n",
        "# Wrap datasets\n",
        "train_dataset = MyDataset(train_data)\n",
        "eval_dataset = MyDataset(eval_data)\n",
        "\n",
        "# Define training arguments\n",
        "training_args = TrainingArguments(\n",
        "    output_dir='./results',\n",
        "    num_train_epochs=3,\n",
        "    per_device_train_batch_size=16,\n",
        "    eval_strategy=\"epoch\",\n",
        "    report_to=\"none\"  # Disable the reporting warning\n",
        ")\n",
        "\n",
        "# Load a pre-trained model\n",
        "model = BertForSequenceClassification.from_pretrained('bert-base-uncased')\n",
        "\n",
        "# Create a Trainer instance with custom optimizer\n",
        "trainer = Trainer(\n",
        "    model=model,\n",
        "    args=training_args,\n",
        "    train_dataset=train_dataset,\n",
        "    eval_dataset=eval_dataset,\n",
        "    optimizers=(AdamW(model.parameters(), lr=5e-5), None)  # Using PyTorch's AdamW optimizer\n",
        ")\n",
        "\n",
        "# Train the model\n",
        "trainer.train()\n"
      ],
      "metadata": {
        "colab": {
          "base_uri": "https://localhost:8080/",
          "height": 259
        },
        "id": "QMBPwXa4zNs-",
        "outputId": "9e5b6b8f-09f8-4ac4-b0e2-d2cea082a3a3"
      },
      "execution_count": 5,
      "outputs": [
        {
          "output_type": "stream",
          "name": "stderr",
          "text": [
            "Some weights of BertForSequenceClassification were not initialized from the model checkpoint at bert-base-uncased and are newly initialized: ['classifier.bias', 'classifier.weight']\n",
            "You should probably TRAIN this model on a down-stream task to be able to use it for predictions and inference.\n"
          ]
        },
        {
          "output_type": "display_data",
          "data": {
            "text/plain": [
              "<IPython.core.display.HTML object>"
            ],
            "text/html": [
              "\n",
              "    <div>\n",
              "      \n",
              "      <progress value='3' max='3' style='width:300px; height:20px; vertical-align: middle;'></progress>\n",
              "      [3/3 00:16, Epoch 3/3]\n",
              "    </div>\n",
              "    <table border=\"1\" class=\"dataframe\">\n",
              "  <thead>\n",
              " <tr style=\"text-align: left;\">\n",
              "      <th>Epoch</th>\n",
              "      <th>Training Loss</th>\n",
              "      <th>Validation Loss</th>\n",
              "    </tr>\n",
              "  </thead>\n",
              "  <tbody>\n",
              "    <tr>\n",
              "      <td>1</td>\n",
              "      <td>No log</td>\n",
              "      <td>0.972004</td>\n",
              "    </tr>\n",
              "    <tr>\n",
              "      <td>2</td>\n",
              "      <td>No log</td>\n",
              "      <td>1.062979</td>\n",
              "    </tr>\n",
              "    <tr>\n",
              "      <td>3</td>\n",
              "      <td>No log</td>\n",
              "      <td>1.127805</td>\n",
              "    </tr>\n",
              "  </tbody>\n",
              "</table><p>"
            ]
          },
          "metadata": {}
        },
        {
          "output_type": "execute_result",
          "data": {
            "text/plain": [
              "TrainOutput(global_step=3, training_loss=0.586620012919108, metrics={'train_runtime': 19.6017, 'train_samples_per_second': 0.153, 'train_steps_per_second': 0.153, 'total_flos': 12333330720.0, 'train_loss': 0.586620012919108, 'epoch': 3.0})"
            ]
          },
          "metadata": {},
          "execution_count": 5
        }
      ]
    },
    {
      "cell_type": "markdown",
      "source": [
        "****\n",
        "**The Ai Academy**\n",
        "****"
      ],
      "metadata": {
        "id": "IaY34HUS2pD6"
      }
    },
    {
      "cell_type": "markdown",
      "source": [
        "### Overview of Text Classification\n",
        "\n",
        "**Definition and Importance**\n",
        "\n",
        "Text classification is a method in natural language processing (NLP) where we categorize text into predefined classes or labels. Think of it like sorting mail into different boxes: each piece of mail (text) gets put into the box (class) it best fits into. This task is crucial because it helps computers understand, organize, and respond to human language in a structured way.\n",
        "\n",
        "Why is it important? Well, the sheer volume of text data generated daily—from emails, social media posts, customer reviews, and more—requires automated systems to process and make sense of it. Manually sorting through this data is impractical, if not impossible. That's where text classification comes in. By automating this process, we can quickly and accurately categorize large amounts of text, making it easier to manage and analyze.\n",
        "\n",
        "**Applications in NLP**\n",
        "\n",
        "Text classification has a wide range of applications in NLP. Here are a few key examples:\n",
        "\n",
        "1. **Spam Detection:**\n",
        "   - **Scenario:** You're checking your email, and thankfully, most of the junk mail is filtered into the spam folder.\n",
        "   - **How It Works:** Text classification algorithms are trained to recognize patterns and keywords that are typical in spam emails versus legitimate ones. This helps keep your inbox clean and manageable.\n",
        "\n",
        "2. **Sentiment Analysis:**\n",
        "   - **Scenario:** A company wants to know how customers feel about their latest product.\n",
        "   - **How It Works:** Sentiment analysis classifies text into categories like positive, negative, or neutral. By analyzing customer reviews or social media posts, companies can gauge public opinion and make informed decisions. For example, if many reviews are negative, they might need to address specific issues.\n",
        "\n",
        "3. **Topic Categorization:**\n",
        "   - **Scenario:** A news website wants to organize articles into different sections like sports, politics, technology, etc.\n",
        "   - **How It Works:** Text classification can automatically sort articles into the correct categories based on their content, making it easier for readers to find what they're interested in.\n",
        "\n",
        "4. **Language Detection:**\n",
        "   - **Scenario:** A social media platform needs to understand the languages in which users are posting to provide appropriate content or support.\n",
        "   - **How It Works:** Text classification models can identify the language of a given text, allowing the platform to offer language-specific services.\n",
        "\n",
        "5. **Document Organization:**\n",
        "   - **Scenario:** A legal firm wants to organize thousands of legal documents by their type (e.g., contracts, case studies, legal opinions).\n",
        "   - **How It Works:** Text classification can sort these documents into predefined categories, making retrieval and management much more efficient.\n",
        "\n",
        "6. **Customer Support:**\n",
        "   - **Scenario:** A company wants to automate the sorting of customer service tickets to direct them to the appropriate department.\n",
        "   - **How It Works:** Text classification can route tickets based on their content—billing issues to the finance team, technical problems to the IT support, and so on.\n"
      ],
      "metadata": {
        "id": "LigRoczP25HB"
      }
    },
    {
      "cell_type": "markdown",
      "source": [
        "### Introduction to Transformers in Text Classification\n",
        "\n",
        "**Evolution of NLP Models**\n",
        "\n",
        "To appreciate the significance of transformers in text classification, it's helpful to understand how NLP models have evolved over time. Let's take a brief journey through this evolution:\n",
        "\n",
        "1. **Rule-Based Systems:**\n",
        "   - **Early Days:** NLP initially relied on rule-based systems, where experts manually created rules to process and understand text. These systems were rigid and couldn't handle the complexity and variability of human language very well.\n",
        "   - **Limitations:** Rule-based systems struggled with ambiguity and context, making them impractical for many real-world applications.\n",
        "\n",
        "2. **Statistical Models:**\n",
        "   - **Introduction:** With the advent of machine learning, statistical models like Naive Bayes and logistic regression became popular. These models used statistical methods to make predictions based on the probabilities of word occurrences.\n",
        "   - **Advancements:** These models improved performance but still had limitations in understanding context and handling long-range dependencies in text.\n",
        "\n",
        "3. **Neural Networks and Word Embeddings:**\n",
        "   - **Breakthrough:** The introduction of neural networks and word embeddings (like Word2Vec and GloVe) marked a significant advancement. Word embeddings represented words as dense vectors in continuous space, capturing semantic relationships between words.\n",
        "   - **RNNs and LSTMs:** Recurrent Neural Networks (RNNs) and Long Short-Term Memory networks (LSTMs) further improved NLP by introducing the ability to capture context and dependencies in sequences of text. However, RNNs and LSTMs had limitations in handling long sequences and parallelization.\n",
        "\n",
        "4. **Attention Mechanisms:**\n",
        "   - **Innovation:** The introduction of attention mechanisms addressed some of the limitations of RNNs and LSTMs. Attention allowed models to focus on relevant parts of the input sequence, improving performance in tasks like machine translation.\n",
        "   - **Significance:** Attention mechanisms paved the way for the development of transformer models.\n",
        "\n",
        "5. **Transformers:**\n",
        "   - **Game Changer:** In 2017, the transformer model, introduced by Vaswani et al. in the paper \"Attention Is All You Need,\" revolutionized NLP. Transformers rely entirely on attention mechanisms, dispensing with recurrence altogether.\n",
        "   - **Parallelization:** The transformer architecture allows for efficient parallelization, making it faster to train on large datasets. This was a significant advantage over RNNs and LSTMs.\n",
        "\n",
        "**Benefits of Using Transformers**\n",
        "\n",
        "Transformers have brought about several benefits in text classification and NLP in general:\n",
        "\n",
        "1. **Handling Long-Range Dependencies:**\n",
        "   - **Capability:** Transformers can capture long-range dependencies in text better than RNNs and LSTMs. This is crucial for understanding context and relationships between distant words in a sentence.\n",
        "   - **Example:** In a long sentence, the transformer can effectively understand the relationship between the subject at the beginning and the predicate at the end, improving classification accuracy.\n",
        "\n",
        "2. **Parallelization and Speed:**\n",
        "   - **Efficiency:** Transformers allow for parallel processing of input sequences, making training faster and more efficient. This is a significant advantage when dealing with large datasets.\n",
        "   - **Scalability:** The ability to scale training to multiple GPUs or TPUs enables the handling of massive amounts of data, leading to better model performance.\n",
        "\n",
        "3. **Pretrained Models:**\n",
        "   - **Transfer Learning:** One of the most impactful benefits of transformers is the availability of pretrained models like BERT, GPT, and RoBERTa. These models are trained on vast amounts of data and can be fine-tuned for specific tasks with relatively small labeled datasets.\n",
        "   - **Accessibility:** Pretrained models make state-of-the-art NLP accessible to practitioners without requiring extensive computational resources or expertise in training large models from scratch.\n",
        "\n",
        "4. **Flexibility and Versatility:**\n",
        "   - **Range of Tasks:** Transformers are versatile and can be applied to a wide range of NLP tasks beyond text classification, including named entity recognition, question answering, text generation, and more.\n",
        "   - **Adaptability:** The same transformer model can be adapted for different tasks with minimal modifications, making it a flexible tool for various NLP applications.\n",
        "\n",
        "5. **Improved Performance:**\n",
        "   - **Accuracy:** Transformers have consistently outperformed previous models in benchmarks across various NLP tasks. Their ability to understand context, handle long sequences, and leverage large amounts of data contributes to superior performance.\n",
        "   - **Real-World Impact:** The improved accuracy and performance of transformers translate to better user experiences in applications like chatbots, search engines, and recommendation systems.\n"
      ],
      "metadata": {
        "id": "poX_0lQs0e2l"
      }
    },
    {
      "cell_type": "markdown",
      "source": [
        "#### Introduction to the Dataset\n",
        "\n",
        "For our text classification task, we will use the \"Emotion\" dataset, which is a collection of English Twitter messages labeled with six emotions: anger, disgust, fear, joy, sadness, and surprise. This dataset is particularly useful for training models to recognize and categorize emotions in text, which has applications in sentiment analysis, customer feedback analysis, and more.\n",
        "\n",
        "The dataset is organized into three splits:\n",
        "- **Train:** Used for training the model.\n",
        "- **Validation:** Used for tuning the model hyperparameters.\n",
        "- **Test:** Used for evaluating the final performance of the model.\n",
        "\n",
        "Each example in the dataset consists of a tweet and its corresponding emotion label.\n"
      ],
      "metadata": {
        "id": "QiEH-jRR0hq6"
      }
    },
    {
      "cell_type": "markdown",
      "source": [
        "#### Loading the Dataset with Hugging Face Datasets Library\n",
        "\n",
        "The Hugging Face Datasets library provides an easy and efficient way to load and work with datasets. Here’s how we can load the Emotion dataset:\n",
        "\n",
        "**Install the Hugging Face Datasets Library**\n",
        "\n",
        "   Before we begin, make sure you have the Hugging Face Datasets library installed. You can install it using pip\n"
      ],
      "metadata": {
        "id": "OOBJl-MB0kIY"
      }
    },
    {
      "cell_type": "code",
      "source": [
        "pip install transformers datasets scikit-learn"
      ],
      "metadata": {
        "colab": {
          "base_uri": "https://localhost:8080/"
        },
        "id": "KDDNOal32yfb",
        "outputId": "49271246-145e-4b5c-c0f5-df352a6e96d4"
      },
      "execution_count": 6,
      "outputs": [
        {
          "output_type": "stream",
          "name": "stdout",
          "text": [
            "Requirement already satisfied: transformers in /usr/local/lib/python3.10/dist-packages (4.42.4)\n",
            "Requirement already satisfied: datasets in /usr/local/lib/python3.10/dist-packages (2.20.0)\n",
            "Requirement already satisfied: scikit-learn in /usr/local/lib/python3.10/dist-packages (1.2.2)\n",
            "Requirement already satisfied: filelock in /usr/local/lib/python3.10/dist-packages (from transformers) (3.15.4)\n",
            "Requirement already satisfied: huggingface-hub<1.0,>=0.23.2 in /usr/local/lib/python3.10/dist-packages (from transformers) (0.23.5)\n",
            "Requirement already satisfied: numpy<2.0,>=1.17 in /usr/local/lib/python3.10/dist-packages (from transformers) (1.25.2)\n",
            "Requirement already satisfied: packaging>=20.0 in /usr/local/lib/python3.10/dist-packages (from transformers) (24.1)\n",
            "Requirement already satisfied: pyyaml>=5.1 in /usr/local/lib/python3.10/dist-packages (from transformers) (6.0.1)\n",
            "Requirement already satisfied: regex!=2019.12.17 in /usr/local/lib/python3.10/dist-packages (from transformers) (2024.5.15)\n",
            "Requirement already satisfied: requests in /usr/local/lib/python3.10/dist-packages (from transformers) (2.32.3)\n",
            "Requirement already satisfied: safetensors>=0.4.1 in /usr/local/lib/python3.10/dist-packages (from transformers) (0.4.3)\n",
            "Requirement already satisfied: tokenizers<0.20,>=0.19 in /usr/local/lib/python3.10/dist-packages (from transformers) (0.19.1)\n",
            "Requirement already satisfied: tqdm>=4.27 in /usr/local/lib/python3.10/dist-packages (from transformers) (4.66.4)\n",
            "Requirement already satisfied: pyarrow>=15.0.0 in /usr/local/lib/python3.10/dist-packages (from datasets) (17.0.0)\n",
            "Requirement already satisfied: pyarrow-hotfix in /usr/local/lib/python3.10/dist-packages (from datasets) (0.6)\n",
            "Requirement already satisfied: dill<0.3.9,>=0.3.0 in /usr/local/lib/python3.10/dist-packages (from datasets) (0.3.8)\n",
            "Requirement already satisfied: pandas in /usr/local/lib/python3.10/dist-packages (from datasets) (2.0.3)\n",
            "Requirement already satisfied: xxhash in /usr/local/lib/python3.10/dist-packages (from datasets) (3.4.1)\n",
            "Requirement already satisfied: multiprocess in /usr/local/lib/python3.10/dist-packages (from datasets) (0.70.16)\n",
            "Requirement already satisfied: fsspec[http]<=2024.5.0,>=2023.1.0 in /usr/local/lib/python3.10/dist-packages (from datasets) (2023.6.0)\n",
            "Requirement already satisfied: aiohttp in /usr/local/lib/python3.10/dist-packages (from datasets) (3.9.5)\n",
            "Requirement already satisfied: scipy>=1.3.2 in /usr/local/lib/python3.10/dist-packages (from scikit-learn) (1.11.4)\n",
            "Requirement already satisfied: joblib>=1.1.1 in /usr/local/lib/python3.10/dist-packages (from scikit-learn) (1.4.2)\n",
            "Requirement already satisfied: threadpoolctl>=2.0.0 in /usr/local/lib/python3.10/dist-packages (from scikit-learn) (3.5.0)\n",
            "Requirement already satisfied: aiosignal>=1.1.2 in /usr/local/lib/python3.10/dist-packages (from aiohttp->datasets) (1.3.1)\n",
            "Requirement already satisfied: attrs>=17.3.0 in /usr/local/lib/python3.10/dist-packages (from aiohttp->datasets) (23.2.0)\n",
            "Requirement already satisfied: frozenlist>=1.1.1 in /usr/local/lib/python3.10/dist-packages (from aiohttp->datasets) (1.4.1)\n",
            "Requirement already satisfied: multidict<7.0,>=4.5 in /usr/local/lib/python3.10/dist-packages (from aiohttp->datasets) (6.0.5)\n",
            "Requirement already satisfied: yarl<2.0,>=1.0 in /usr/local/lib/python3.10/dist-packages (from aiohttp->datasets) (1.9.4)\n",
            "Requirement already satisfied: async-timeout<5.0,>=4.0 in /usr/local/lib/python3.10/dist-packages (from aiohttp->datasets) (4.0.3)\n",
            "Requirement already satisfied: typing-extensions>=3.7.4.3 in /usr/local/lib/python3.10/dist-packages (from huggingface-hub<1.0,>=0.23.2->transformers) (4.12.2)\n",
            "Requirement already satisfied: charset-normalizer<4,>=2 in /usr/local/lib/python3.10/dist-packages (from requests->transformers) (3.3.2)\n",
            "Requirement already satisfied: idna<4,>=2.5 in /usr/local/lib/python3.10/dist-packages (from requests->transformers) (3.7)\n",
            "Requirement already satisfied: urllib3<3,>=1.21.1 in /usr/local/lib/python3.10/dist-packages (from requests->transformers) (2.0.7)\n",
            "Requirement already satisfied: certifi>=2017.4.17 in /usr/local/lib/python3.10/dist-packages (from requests->transformers) (2024.7.4)\n",
            "Requirement already satisfied: python-dateutil>=2.8.2 in /usr/local/lib/python3.10/dist-packages (from pandas->datasets) (2.8.2)\n",
            "Requirement already satisfied: pytz>=2020.1 in /usr/local/lib/python3.10/dist-packages (from pandas->datasets) (2023.4)\n",
            "Requirement already satisfied: tzdata>=2022.1 in /usr/local/lib/python3.10/dist-packages (from pandas->datasets) (2024.1)\n",
            "Requirement already satisfied: six>=1.5 in /usr/local/lib/python3.10/dist-packages (from python-dateutil>=2.8.2->pandas->datasets) (1.16.0)\n"
          ]
        }
      ]
    },
    {
      "cell_type": "code",
      "source": [
        "#Load the dataset\n",
        "from datasets import load_dataset\n",
        "\n",
        "# Load the dataset\n",
        "emotions = load_dataset(\"emotion\", trust_remote_code=True)\n",
        "print(emotions)"
      ],
      "metadata": {
        "colab": {
          "base_uri": "https://localhost:8080/"
        },
        "id": "zFZy1t330pu6",
        "outputId": "dd6b6211-b2c2-4843-b3a4-c78d10f11cb6"
      },
      "execution_count": 7,
      "outputs": [
        {
          "output_type": "stream",
          "name": "stdout",
          "text": [
            "DatasetDict({\n",
            "    train: Dataset({\n",
            "        features: ['text', 'label'],\n",
            "        num_rows: 16000\n",
            "    })\n",
            "    validation: Dataset({\n",
            "        features: ['text', 'label'],\n",
            "        num_rows: 2000\n",
            "    })\n",
            "    test: Dataset({\n",
            "        features: ['text', 'label'],\n",
            "        num_rows: 2000\n",
            "    })\n",
            "})\n"
          ]
        }
      ]
    },
    {
      "cell_type": "code",
      "source": [
        "# Display the first few examples from the training set\n",
        "print(emotions[\"train\"][:5])"
      ],
      "metadata": {
        "colab": {
          "base_uri": "https://localhost:8080/"
        },
        "id": "AkQpqlSO1N8X",
        "outputId": "b9bd966e-a1b3-4b0d-96d3-a3a46537cf88"
      },
      "execution_count": 8,
      "outputs": [
        {
          "output_type": "stream",
          "name": "stdout",
          "text": [
            "{'text': ['i didnt feel humiliated', 'i can go from feeling so hopeless to so damned hopeful just from being around someone who cares and is awake', 'im grabbing a minute to post i feel greedy wrong', 'i am ever feeling nostalgic about the fireplace i will know that it is still on the property', 'i am feeling grouchy'], 'label': [0, 0, 3, 2, 3]}\n"
          ]
        }
      ]
    },
    {
      "cell_type": "code",
      "source": [
        "#Convert the Dataset to Pandas DataFrame\n",
        "import pandas as pd\n",
        "\n",
        "# Convert to DataFrame\n",
        "emotions.set_format(type=\"pandas\")\n",
        "df = emotions[\"train\"][:]\n",
        "print(df.head())"
      ],
      "metadata": {
        "colab": {
          "base_uri": "https://localhost:8080/"
        },
        "id": "ZOxFp8h51U1Y",
        "outputId": "c649cb1a-5226-4806-90d7-2ce0686e390b"
      },
      "execution_count": 9,
      "outputs": [
        {
          "output_type": "stream",
          "name": "stdout",
          "text": [
            "                                                text  label\n",
            "0                            i didnt feel humiliated      0\n",
            "1  i can go from feeling so hopeless to so damned...      0\n",
            "2   im grabbing a minute to post i feel greedy wrong      3\n",
            "3  i am ever feeling nostalgic about the fireplac...      2\n",
            "4                               i am feeling grouchy      3\n"
          ]
        }
      ]
    },
    {
      "cell_type": "code",
      "source": [
        "#Visualize the data\n",
        "import matplotlib.pyplot as plt\n",
        "\n",
        "# Plot the distribution of emotion labels\n",
        "df[\"label\"].value_counts().plot(kind='bar', color='black')\n",
        "plt.title(\"Frequency of Emotion Labels\")\n",
        "plt.xlabel(\"Emotion\")\n",
        "plt.ylabel(\"Frequency\")\n",
        "plt.show()"
      ],
      "metadata": {
        "colab": {
          "base_uri": "https://localhost:8080/",
          "height": 467
        },
        "id": "K7ViS2sA1dZA",
        "outputId": "13b2cd0b-cf5c-4876-bb35-46ecf8dc06bb"
      },
      "execution_count": 10,
      "outputs": [
        {
          "output_type": "display_data",
          "data": {
            "text/plain": [
              "<Figure size 640x480 with 1 Axes>"
            ],
            "image/png": "[encoded data removed]"
          },
          "metadata": {}
        }
      ]
    },
    {
      "cell_type": "markdown",
      "source": [
        "Analyzing Tweet Lengths\n",
        "The length of the tweets can also influence the model's performance. Tweets that are too short or too long might require different handling"
      ],
      "metadata": {
        "id": "BFw7hCbh1jCq"
      }
    },
    {
      "cell_type": "code",
      "source": [
        "# Calculate tweet lengths\n",
        "df['length'] = df['text'].apply(len)\n",
        "\n",
        "# Plot the distribution of tweet lengths\n",
        "plt.hist(df['length'], bins=30, color='red', edgecolor='black')\n",
        "plt.title(\"Distribution of Tweet Lengths\")\n",
        "plt.xlabel(\"Length of Tweets\")\n",
        "plt.ylabel(\"Number of Tweets\")\n",
        "plt.show()"
      ],
      "metadata": {
        "colab": {
          "base_uri": "https://localhost:8080/",
          "height": 472
        },
        "id": "LqBjKmaX1gDh",
        "outputId": "107ec356-6909-4abc-a4e6-6e99c30d4faa"
      },
      "execution_count": 11,
      "outputs": [
        {
          "output_type": "display_data",
          "data": {
            "text/plain": [
              "<Figure size 640x480 with 1 Axes>"
            ],
            "image/png": "[encoded data removed]"
          },
          "metadata": {}
        }
      ]
    },
    {
      "cell_type": "markdown",
      "source": [
        "#### Importance of Tokenization in NLP\n",
        "\n",
        "Tokenization is a fundamental step in natural language processing (NLP). It involves breaking down a text into smaller units called tokens. These tokens can be words, subwords, or characters. Tokenization is crucial because it converts raw text into a format that models can process. Effective tokenization preserves the semantic meaning of the text while enabling efficient analysis and processing.\n",
        "\n",
        "#### Different Tokenization Strategies\n",
        "\n",
        "There are several strategies for tokenization, each with its own advantages and use cases. The main strategies include:\n",
        "\n",
        "1. **Character Tokenization**\n",
        "2. **Word Tokenization**\n",
        "3. **Subword Tokenization (WordPiece)**\n"
      ],
      "metadata": {
        "id": "R3SY81Sd1pDN"
      }
    },
    {
      "cell_type": "markdown",
      "source": [
        "#### Character Tokenization\n",
        "\n",
        "**Definition:**\n",
        "Character tokenization breaks down text into individual characters. For example, the sentence \"Hello World!\" would be tokenized as [\"H\", \"e\", \"l\", \"l\", \"o\", \" \", \"W\", \"o\", \"r\", \"l\", \"d\", \"!\"].\n",
        "\n",
        "**Advantages:**\n",
        "- Handles unknown words and typos gracefully since each character is treated separately.\n",
        "- Useful for languages with a large set of characters or complex morphology, such as Chinese.\n",
        "\n",
        "**Disadvantages:**\n",
        "- Results in a large number of tokens, which can lead to longer sequences and increased computational cost.\n",
        "- Loses word-level semantic information.\n"
      ],
      "metadata": {
        "id": "dVauQqnF1r_f"
      }
    },
    {
      "cell_type": "code",
      "source": [
        "#Character tokenization Example\n",
        "text = 'Hello World'\n",
        "char_tokens = list(text)\n",
        "print(char_tokens)"
      ],
      "metadata": {
        "colab": {
          "base_uri": "https://localhost:8080/"
        },
        "id": "yhThl9dr1lSI",
        "outputId": "a3553c02-ecfc-42c2-db66-cde88abfd103"
      },
      "execution_count": 12,
      "outputs": [
        {
          "output_type": "stream",
          "name": "stdout",
          "text": [
            "['H', 'e', 'l', 'l', 'o', ' ', 'W', 'o', 'r', 'l', 'd']\n"
          ]
        }
      ]
    },
    {
      "cell_type": "markdown",
      "source": [
        "****\n",
        "#### Word Tokenization\n",
        "\n",
        "**Definition:**\n",
        "Word tokenization splits text into individual words based on spaces and punctuation. For example, the sentence \"Hello World!\" would be tokenized as [\"Hello\", \"World\", \"!\"].\n",
        "\n",
        "**Advantages:**\n",
        "- Preserves word-level semantics.\n",
        "- Simple and intuitive.\n",
        "\n",
        "**Disadvantages:**\n",
        "- Struggles with out-of-vocabulary (OOV) words and typos.\n",
        "- Inefficient for morphologically rich languages where words can have many forms.\n"
      ],
      "metadata": {
        "id": "DRey9lYG1x-A"
      }
    },
    {
      "cell_type": "code",
      "source": [
        "#Example of word tokenization\n",
        "import nltk\n",
        "nltk.download('punkt')\n",
        "from nltk.tokenize import word_tokenize\n",
        "text = ' Hello World!'\n",
        "word_tokens = word_tokenize(text)\n",
        "print(word_tokens)"
      ],
      "metadata": {
        "colab": {
          "base_uri": "https://localhost:8080/"
        },
        "id": "ZwID4KF61upF",
        "outputId": "92add0b9-9481-4c60-bdec-80028d3f98fc"
      },
      "execution_count": 13,
      "outputs": [
        {
          "output_type": "stream",
          "name": "stdout",
          "text": [
            "['Hello', 'World', '!']\n"
          ]
        },
        {
          "output_type": "stream",
          "name": "stderr",
          "text": [
            "[nltk_data] Downloading package punkt to /root/nltk_data...\n",
            "[nltk_data]   Package punkt is already up-to-date!\n"
          ]
        }
      ]
    },
    {
      "cell_type": "markdown",
      "source": [
        "****\n",
        "#### Subword Tokenization (WordPiece)\n",
        "\n",
        "**Definition:**\n",
        "Subword tokenization, such as the WordPiece algorithm, splits text into subword units. It balances between character and word tokenization by breaking words into smaller, meaningful chunks. For example, \"unhappiness\" might be tokenized as [\"un\", \"##happiness\"], where \"##\" indicates a subword token.\n",
        "\n",
        "**Advantages:**\n",
        "- Handles OOV words by breaking them into known subwords.\n",
        "- Reduces the vocabulary size while maintaining meaningful units.\n",
        "- Effective for morphologically rich languages.\n",
        "\n",
        "**Disadvantages:**\n",
        "- Requires more complex preprocessing and training of tokenization models.\n",
        "- Subword units might not always align with intuitive word boundaries.\n"
      ],
      "metadata": {
        "id": "y8jdNXNG2IJD"
      }
    },
    {
      "cell_type": "code",
      "source": [
        "#Example of subword tokenization\n",
        "from transformers import AutoTokenizer #import the tokenizer\n",
        "tokenizer = AutoTokenizer.from_pretrained('bert-base-uncased', force_download=True) #Load the tokenizer\n",
        "# Tokenize sample text\n",
        "text = \"unhappiness\"\n",
        "subword_tokens = tokenizer.tokenize(text)\n",
        "print(subword_tokens)"
      ],
      "metadata": {
        "colab": {
          "base_uri": "https://localhost:8080/",
          "height": 226,
          "referenced_widgets": [
            "5744af6a28034a2d9caaa7bbe17e4479",
            "07373bb1edfe4144b3d6355170a77efd",
            "7dc1247d68a042c1b95f87d57ace7832",
            "f31aa1c75016412d9bd730e33607d32d",
            "dd9399290d1e4412b6e249d4ba429548",
            "0da4e9bf34254b4b89873d1801e5728a",
            "631b0584ab0e43709b40fcb2fed2eda5",
            "a4f17bc3ee8746b89fa0f33e6f8da8c8",
            "c348077daa9940fa8724cea39a2b64cf",
            "53bf53aeea0c41769b63cbc18b79bd33",
            "72005a84856a40e68e821a8c50f3e9f1",
            "eca346a5389743828d738ab4b42c3329",
            "bb3b95eaeb154cd0bd5e6a783dd3b4a7",
            "8b32892a1e5a4527bd07fdf041f55db0",
            "c407cc2672f344389ab20f697c22cf3d",
            "b6dfc7684c80410487c026b2f232284b",
            "53183ee602434125bb485e637e452a9f",
            "c97f0c14a8414319a7492a9da47ebe92",
            "62df0dc1c0024178ac6bf747dfc44dbb",
            "c8a3c3bb1c534afca9ca1243364a31af",
            "969f3febfcfd44e98803d5a77856bc07",
            "dcfea3748b2942d0858d29ba12f234e5",
            "5ca40693401449caba0ca83ecc908d2b",
            "9747796ed29549d3a7b51640be220fa8",
            "9fa6b2b3cb6247bb94972357cd5c8b79",
            "37f53e2ef6d2401db84b24a38dbea4c2",
            "334aaf39fcfc4ed6b01dec19089cf69b",
            "a880af74de9c4da19074b6ba6d76ac43",
            "13392a5877d74d179aa40e4c70988143",
            "b615daf5328342ba934e88d80c98032a",
            "440bae90328e4d70bf03be2b11d8b165",
            "4b5d8fdedf404ef4b013d46ff901e445",
            "382b1f1060b24c909a83ccb2195972b5",
            "5a4a2f845d6f4c8bb488a01a0b0f80f5",
            "c3a3fd115a89452fa63c68b840de1a77",
            "427f2b4a70da4ec1a10be6add88c9e29",
            "488b3c3c85fe4091acdcf926fadb2b99",
            "1e8bb21c62484b599fe61dd5556c0dd2",
            "ca3a3d5e9556406c9a3993bc17b35613",
            "b7afd44bce6a4ee0a80e228a88e45ab6",
            "337a7557b6d2457fb039b5e74ca36fbf",
            "2b26c44c5fa647f4ae14389e19e75320",
            "e8884ae8018b420fac0c54bca3aa4bee",
            "ed5c294d41f0463084b079c211f671f8",
            "91109c34a57e415abb3cd2045c2ae408",
            "54c10a4c28704c118548e1ad763e4c3b",
            "abbe9a7d51a442a383a310722fd90a8d",
            "eee3153df266477ca6891f0c6083c59d",
            "ea66cea9f35d41bbb3cd957729ff015f",
            "e75b486969864b2ba6d2743aba689982",
            "1ad2794778ea473e96bea75fddc781a3",
            "a0c7542c909646df8e43b25770ba1768",
            "78101390dfa44d01be468aa07beb5265",
            "99b21d8a41f441d29dfe22db35031135",
            "deb10725a32540a7a2b0f15fce5c730d",
            "4c248629cb2f42ab9b2826a9c283e34e",
            "224847da0f674dce933768a367936919",
            "31097593d908495c8055246e6d7e8616",
            "94ce3cf07f4e43f28bc559e4efd7814c",
            "7e6bc5c6f3b04d729578d8edd49dba90",
            "fa4d8d1e25fc47ae827db68a1cc739f4",
            "03ef3dd275994718a743bf711244feed",
            "6ff005bfc6a74698a7daeaafea2d21ef",
            "bec3bb933d6e4e59a16a66ad52dd91cf",
            "6d373cf978e9433cbab734f0bd86a1c2",
            "ebe062fefe4d47cfa71a3b5c48f9a0f2"
          ]
        },
        "id": "w8ZCe5nu2Etf",
        "outputId": "3fac78f2-105d-481d-8166-f28e96cd05ee"
      },
      "execution_count": 14,
      "outputs": [
        {
          "output_type": "display_data",
          "data": {
            "text/plain": [
              "tokenizer_config.json:   0%|          | 0.00/48.0 [00:00<?, ?B/s]"
            ],
            "application/vnd.jupyter.widget-view+json": {
              "version_major": 2,
              "version_minor": 0,
              "model_id": "5744af6a28034a2d9caaa7bbe17e4479"
            }
          },
          "metadata": {}
        },
        {
          "output_type": "display_data",
          "data": {
            "text/plain": [
              "config.json:   0%|          | 0.00/570 [00:00<?, ?B/s]"
            ],
            "application/vnd.jupyter.widget-view+json": {
              "version_major": 2,
              "version_minor": 0,
              "model_id": "eca346a5389743828d738ab4b42c3329"
            }
          },
          "metadata": {}
        },
        {
          "output_type": "display_data",
          "data": {
            "text/plain": [
              "tokenizer_config.json:   0%|          | 0.00/48.0 [00:00<?, ?B/s]"
            ],
            "application/vnd.jupyter.widget-view+json": {
              "version_major": 2,
              "version_minor": 0,
              "model_id": "5ca40693401449caba0ca83ecc908d2b"
            }
          },
          "metadata": {}
        },
        {
          "output_type": "display_data",
          "data": {
            "text/plain": [
              "vocab.txt:   0%|          | 0.00/232k [00:00<?, ?B/s]"
            ],
            "application/vnd.jupyter.widget-view+json": {
              "version_major": 2,
              "version_minor": 0,
              "model_id": "5a4a2f845d6f4c8bb488a01a0b0f80f5"
            }
          },
          "metadata": {}
        },
        {
          "output_type": "display_data",
          "data": {
            "text/plain": [
              "tokenizer.json:   0%|          | 0.00/466k [00:00<?, ?B/s]"
            ],
            "application/vnd.jupyter.widget-view+json": {
              "version_major": 2,
              "version_minor": 0,
              "model_id": "91109c34a57e415abb3cd2045c2ae408"
            }
          },
          "metadata": {}
        },
        {
          "output_type": "display_data",
          "data": {
            "text/plain": [
              "tokenizer_config.json:   0%|          | 0.00/48.0 [00:00<?, ?B/s]"
            ],
            "application/vnd.jupyter.widget-view+json": {
              "version_major": 2,
              "version_minor": 0,
              "model_id": "4c248629cb2f42ab9b2826a9c283e34e"
            }
          },
          "metadata": {}
        },
        {
          "output_type": "stream",
          "name": "stdout",
          "text": [
            "['un', '##ha', '##pp', '##iness']\n"
          ]
        }
      ]
    },
    {
      "cell_type": "markdown",
      "source": [
        "****\n",
        "#### Data Processing\n",
        "\n",
        "The Data preprocessing is a crucial step in preparing text data for model training. It involves converting text into a format that can be fed into machine learning models. In this section, we will cover three main preprocessing steps: converting text to tokens, padding and truncation, and tokenizing the entire dataset.\n",
        "\n",
        "#### Converting Text to Tokens\n",
        "\n",
        "To convert text into tokens, we use a tokenizer. The tokenizer is responsible for breaking down the text into smaller units (tokens) that the model can understand. Here, we use a tokenizer from the Hugging Face Transformers library.\n",
        "\n"
      ],
      "metadata": {
        "id": "j27EpYXh2jG2"
      }
    },
    {
      "cell_type": "code",
      "source": [
        "#example of converting text into tokens\n",
        "from transformers import AutoTokenizer\n",
        "#Load the toeknizer\n",
        "tokenizer = AutoTokenizer.from_pretrained('bert-base-uncased')\n",
        "text = \"Hello, how are you doing today?\"\n",
        "tokens = tokenizer.tokenize(text)\n",
        "print(tokens)"
      ],
      "metadata": {
        "colab": {
          "base_uri": "https://localhost:8080/"
        },
        "id": "Wp6F52Ke2LD2",
        "outputId": "6699b941-4cd3-42b4-d671-70a6b8c2b130"
      },
      "execution_count": 15,
      "outputs": [
        {
          "output_type": "stream",
          "name": "stdout",
          "text": [
            "['hello', ',', 'how', 'are', 'you', 'doing', 'today', '?']\n"
          ]
        }
      ]
    },
    {
      "cell_type": "markdown",
      "source": [
        "**Convert Tokens to Input IDs:**\n",
        "\n",
        "   The tokenizer also converts tokens into input IDs, which are numerical representations of the tokens."
      ],
      "metadata": {
        "id": "uDO6EBJf2pNc"
      }
    },
    {
      "cell_type": "code",
      "source": [
        "#example of converting token to Ids\n",
        "input_ids = tokenizer.convert_tokens_to_ids(tokens)\n",
        "print(input_ids)"
      ],
      "metadata": {
        "colab": {
          "base_uri": "https://localhost:8080/"
        },
        "id": "22c2jLLd2l7U",
        "outputId": "7a57ba24-512f-4a96-9051-b2d091fe9752"
      },
      "execution_count": 16,
      "outputs": [
        {
          "output_type": "stream",
          "name": "stdout",
          "text": [
            "[7592, 1010, 2129, 2024, 2017, 2725, 2651, 1029]\n"
          ]
        }
      ]
    },
    {
      "cell_type": "markdown",
      "source": [
        "#### Padding and Truncation\n",
        "\n",
        "When working with batches of text data, it's important to ensure that all sequences have the same length. This is achieved through padding (adding extra tokens to shorter sequences) and truncation (cutting off longer sequences).\n",
        "\n",
        "* **Padding:**\n",
        "\n",
        "   Padding involves adding special tokens (usually zeros) to the end of shorter sequences to make them the same length as the longest sequence in the batch.\n",
        "\n",
        "* **Truncation:**\n",
        "\n",
        "   Truncation involves cutting off the end of sequences that are longer than the specified maximum length.\n",
        "\n"
      ],
      "metadata": {
        "id": "o9EYUU8g3Fv1"
      }
    },
    {
      "cell_type": "code",
      "source": [
        "#example of Tokenize with Padding and Truncation\n",
        "sentences = [\"Hello, how are you?\", \"I am fine, thank you!\", \"What about you?\"]\n",
        "encoding = tokenizer(sentences, padding=True, truncation=True, return_tensors='pt')\n",
        "print(encoding)"
      ],
      "metadata": {
        "colab": {
          "base_uri": "https://localhost:8080/"
        },
        "id": "9tO50Vta2r0f",
        "outputId": "de895a93-3571-40ea-c37e-f1fab2877f54"
      },
      "execution_count": 17,
      "outputs": [
        {
          "output_type": "stream",
          "name": "stdout",
          "text": [
            "{'input_ids': tensor([[ 101, 7592, 1010, 2129, 2024, 2017, 1029,  102,    0],\n",
            "        [ 101, 1045, 2572, 2986, 1010, 4067, 2017,  999,  102],\n",
            "        [ 101, 2054, 2055, 2017, 1029,  102,    0,    0,    0]]), 'token_type_ids': tensor([[0, 0, 0, 0, 0, 0, 0, 0, 0],\n",
            "        [0, 0, 0, 0, 0, 0, 0, 0, 0],\n",
            "        [0, 0, 0, 0, 0, 0, 0, 0, 0]]), 'attention_mask': tensor([[1, 1, 1, 1, 1, 1, 1, 1, 0],\n",
            "        [1, 1, 1, 1, 1, 1, 1, 1, 1],\n",
            "        [1, 1, 1, 1, 1, 1, 0, 0, 0]])}\n"
          ]
        }
      ]
    },
    {
      "cell_type": "markdown",
      "source": [
        "#### Tokenizing the Entire Dataset\n",
        "\n",
        "Finally, we need to tokenize the entire dataset. This involves applying the tokenizer to every example in the dataset and ensuring that all sequences are padded and truncated appropriately."
      ],
      "metadata": {
        "id": "oangfM913QGI"
      }
    },
    {
      "cell_type": "code",
      "source": [
        "#Define a Tokenization Function\n",
        "def tokenize(batch):\n",
        "       return tokenizer(batch['text'], padding=True, truncation=True)\n",
        "#Apply the Tokenization Function to the Dataset\n",
        "from datasets import load_dataset\n",
        "# Load the dataset\n",
        "emotions = load_dataset(\"emotion\")\n",
        "# Tokenize the dataset\n",
        "emotions_encoded = emotions.map(tokenize, batched=True)\n",
        "print(emotions_encoded['train'][0])"
      ],
      "metadata": {
        "colab": {
          "base_uri": "https://localhost:8080/"
        },
        "id": "54NSSP8n3ODb",
        "outputId": "63c04ef2-6d38-4992-cb21-be59ba7cb898"
      },
      "execution_count": 18,
      "outputs": [
        {
          "output_type": "stream",
          "name": "stdout",
          "text": [
            "{'text': 'i didnt feel humiliated', 'label': 0, 'input_ids': [101, 1045, 2134, 2102, 2514, 26608, 102, 0, 0, 0, 0, 0, 0, 0, 0, 0, 0, 0, 0, 0, 0, 0, 0, 0, 0, 0, 0, 0, 0, 0, 0, 0, 0, 0, 0, 0, 0, 0, 0, 0, 0, 0, 0, 0, 0, 0, 0, 0, 0, 0, 0, 0, 0, 0, 0, 0, 0, 0, 0, 0, 0, 0, 0, 0, 0, 0, 0, 0, 0, 0], 'token_type_ids': [0, 0, 0, 0, 0, 0, 0, 0, 0, 0, 0, 0, 0, 0, 0, 0, 0, 0, 0, 0, 0, 0, 0, 0, 0, 0, 0, 0, 0, 0, 0, 0, 0, 0, 0, 0, 0, 0, 0, 0, 0, 0, 0, 0, 0, 0, 0, 0, 0, 0, 0, 0, 0, 0, 0, 0, 0, 0, 0, 0, 0, 0, 0, 0, 0, 0, 0, 0, 0, 0], 'attention_mask': [1, 1, 1, 1, 1, 1, 1, 0, 0, 0, 0, 0, 0, 0, 0, 0, 0, 0, 0, 0, 0, 0, 0, 0, 0, 0, 0, 0, 0, 0, 0, 0, 0, 0, 0, 0, 0, 0, 0, 0, 0, 0, 0, 0, 0, 0, 0, 0, 0, 0, 0, 0, 0, 0, 0, 0, 0, 0, 0, 0, 0, 0, 0, 0, 0, 0, 0, 0, 0, 0]}\n"
          ]
        }
      ]
    },
    {
      "cell_type": "markdown",
      "source": [
        "*****\n",
        "#### Feature Extraction vs. Fine-Tuning\n",
        "\n",
        "**Feature Extraction:**\n",
        "- **Definition:** In this approach, we use a pre-trained transformer model to extract fixed features from the text data. These features are then fed into a separate classifier (e.g., logistic regression, SVM) to perform the classification task.\n",
        "- **Advantages:**\n",
        "  - Faster training since only the classifier is trained, not the entire model.\n",
        "  - Useful when computational resources are limited.\n",
        "- **Disadvantages:**\n",
        "  - May not achieve as high accuracy as fine-tuning because the transformer weights are not optimized for the specific task.\n",
        "\n",
        "**Fine-Tuning:**\n",
        "- **Definition:** In this approach, we fine-tune the entire pre-trained transformer model on the specific classification task. This means updating the weights of the entire model, including the transformer layers.\n",
        "- **Advantages:**\n",
        "  - Typically achieves higher accuracy as the model is tailored to the specific task.\n",
        "  - Takes full advantage of the pre-trained model’s capabilities.\n",
        "- **Disadvantages:**\n",
        "  - Requires more computational resources and time for training.\n"
      ],
      "metadata": {
        "id": "I2meMZ_iuQkr"
      }
    },
    {
      "cell_type": "code",
      "source": [
        "!pip install datasets transformers"
      ],
      "metadata": {
        "colab": {
          "base_uri": "https://localhost:8080/"
        },
        "id": "voPxIS_p1IIM",
        "outputId": "3483898c-5637-4e67-b11c-231504162d45"
      },
      "execution_count": 19,
      "outputs": [
        {
          "output_type": "stream",
          "name": "stdout",
          "text": [
            "Requirement already satisfied: datasets in /usr/local/lib/python3.10/dist-packages (2.20.0)\n",
            "Requirement already satisfied: transformers in /usr/local/lib/python3.10/dist-packages (4.42.4)\n",
            "Requirement already satisfied: filelock in /usr/local/lib/python3.10/dist-packages (from datasets) (3.15.4)\n",
            "Requirement already satisfied: numpy>=1.17 in /usr/local/lib/python3.10/dist-packages (from datasets) (1.25.2)\n",
            "Requirement already satisfied: pyarrow>=15.0.0 in /usr/local/lib/python3.10/dist-packages (from datasets) (17.0.0)\n",
            "Requirement already satisfied: pyarrow-hotfix in /usr/local/lib/python3.10/dist-packages (from datasets) (0.6)\n",
            "Requirement already satisfied: dill<0.3.9,>=0.3.0 in /usr/local/lib/python3.10/dist-packages (from datasets) (0.3.8)\n",
            "Requirement already satisfied: pandas in /usr/local/lib/python3.10/dist-packages (from datasets) (2.0.3)\n",
            "Requirement already satisfied: requests>=2.32.2 in /usr/local/lib/python3.10/dist-packages (from datasets) (2.32.3)\n",
            "Requirement already satisfied: tqdm>=4.66.3 in /usr/local/lib/python3.10/dist-packages (from datasets) (4.66.4)\n",
            "Requirement already satisfied: xxhash in /usr/local/lib/python3.10/dist-packages (from datasets) (3.4.1)\n",
            "Requirement already satisfied: multiprocess in /usr/local/lib/python3.10/dist-packages (from datasets) (0.70.16)\n",
            "Requirement already satisfied: fsspec[http]<=2024.5.0,>=2023.1.0 in /usr/local/lib/python3.10/dist-packages (from datasets) (2023.6.0)\n",
            "Requirement already satisfied: aiohttp in /usr/local/lib/python3.10/dist-packages (from datasets) (3.9.5)\n",
            "Requirement already satisfied: huggingface-hub>=0.21.2 in /usr/local/lib/python3.10/dist-packages (from datasets) (0.23.5)\n",
            "Requirement already satisfied: packaging in /usr/local/lib/python3.10/dist-packages (from datasets) (24.1)\n",
            "Requirement already satisfied: pyyaml>=5.1 in /usr/local/lib/python3.10/dist-packages (from datasets) (6.0.1)\n",
            "Requirement already satisfied: regex!=2019.12.17 in /usr/local/lib/python3.10/dist-packages (from transformers) (2024.5.15)\n",
            "Requirement already satisfied: safetensors>=0.4.1 in /usr/local/lib/python3.10/dist-packages (from transformers) (0.4.3)\n",
            "Requirement already satisfied: tokenizers<0.20,>=0.19 in /usr/local/lib/python3.10/dist-packages (from transformers) (0.19.1)\n",
            "Requirement already satisfied: aiosignal>=1.1.2 in /usr/local/lib/python3.10/dist-packages (from aiohttp->datasets) (1.3.1)\n",
            "Requirement already satisfied: attrs>=17.3.0 in /usr/local/lib/python3.10/dist-packages (from aiohttp->datasets) (23.2.0)\n",
            "Requirement already satisfied: frozenlist>=1.1.1 in /usr/local/lib/python3.10/dist-packages (from aiohttp->datasets) (1.4.1)\n",
            "Requirement already satisfied: multidict<7.0,>=4.5 in /usr/local/lib/python3.10/dist-packages (from aiohttp->datasets) (6.0.5)\n",
            "Requirement already satisfied: yarl<2.0,>=1.0 in /usr/local/lib/python3.10/dist-packages (from aiohttp->datasets) (1.9.4)\n",
            "Requirement already satisfied: async-timeout<5.0,>=4.0 in /usr/local/lib/python3.10/dist-packages (from aiohttp->datasets) (4.0.3)\n",
            "Requirement already satisfied: typing-extensions>=3.7.4.3 in /usr/local/lib/python3.10/dist-packages (from huggingface-hub>=0.21.2->datasets) (4.12.2)\n",
            "Requirement already satisfied: charset-normalizer<4,>=2 in /usr/local/lib/python3.10/dist-packages (from requests>=2.32.2->datasets) (3.3.2)\n",
            "Requirement already satisfied: idna<4,>=2.5 in /usr/local/lib/python3.10/dist-packages (from requests>=2.32.2->datasets) (3.7)\n",
            "Requirement already satisfied: urllib3<3,>=1.21.1 in /usr/local/lib/python3.10/dist-packages (from requests>=2.32.2->datasets) (2.0.7)\n",
            "Requirement already satisfied: certifi>=2017.4.17 in /usr/local/lib/python3.10/dist-packages (from requests>=2.32.2->datasets) (2024.7.4)\n",
            "Requirement already satisfied: python-dateutil>=2.8.2 in /usr/local/lib/python3.10/dist-packages (from pandas->datasets) (2.8.2)\n",
            "Requirement already satisfied: pytz>=2020.1 in /usr/local/lib/python3.10/dist-packages (from pandas->datasets) (2023.4)\n",
            "Requirement already satisfied: tzdata>=2022.1 in /usr/local/lib/python3.10/dist-packages (from pandas->datasets) (2024.1)\n",
            "Requirement already satisfied: six>=1.5 in /usr/local/lib/python3.10/dist-packages (from python-dateutil>=2.8.2->pandas->datasets) (1.16.0)\n"
          ]
        }
      ]
    },
    {
      "cell_type": "code",
      "source": [
        "# Example of using Transformers as Feature Extractors\n",
        "import torch\n",
        "from transformers import AutoTokenizer, AutoModel  # Load the pre-trained transformer model\n",
        "\n",
        "# Load the tokenizer and model\n",
        "tokenizer = AutoTokenizer.from_pretrained('bert-base-uncased')\n",
        "model = AutoModel.from_pretrained('bert-base-uncased')  # Corrected the model name\n",
        "\n",
        "# Define the function\n",
        "def extract_features(text):\n",
        "    inputs = tokenizer(text, return_tensors='pt', truncation=True, padding=True)\n",
        "    outputs = model(**inputs)\n",
        "    hidden_states = outputs.last_hidden_state\n",
        "    # Use the [CLS] token hidden state as the feature representation\n",
        "    cls_hidden_state = hidden_states[:, 0, :]\n",
        "    return cls_hidden_state.detach().numpy()\n",
        "\n",
        "# Example\n",
        "text = \"Hello, how are you?\"\n",
        "features = extract_features(text)\n",
        "print(features.shape)\n"
      ],
      "metadata": {
        "colab": {
          "base_uri": "https://localhost:8080/"
        },
        "id": "vmim_H3pztOM",
        "outputId": "7c6e58c3-ebc1-4f1f-b0fe-3a94f58e37af"
      },
      "execution_count": 20,
      "outputs": [
        {
          "output_type": "stream",
          "name": "stdout",
          "text": [
            "(1, 768)\n"
          ]
        }
      ]
    },
    {
      "cell_type": "code",
      "source": [
        "from datasets import load_dataset\n",
        "from transformers import AutoTokenizer, AutoModel\n",
        "import torch\n",
        "import numpy as np\n",
        "from sklearn.linear_model import LogisticRegression\n",
        "from sklearn.model_selection import train_test_split\n",
        "from sklearn.metrics import accuracy_score\n",
        "\n",
        "# Load the dataset\n",
        "emotions = load_dataset(\"emotion\")\n",
        "\n",
        "# Select a smaller subset for training and validation\n",
        "small_train_dataset = emotions['train'].select(range(512))  # Select first 512 samples for training\n",
        "small_val_dataset = emotions['validation'].select(range(100))  # Select first 100 samples for validation\n",
        "\n",
        "# Load the tokenizer and model\n",
        "tokenizer = AutoTokenizer.from_pretrained('bert-base-uncased')\n",
        "model = AutoModel.from_pretrained('bert-base-uncased')\n",
        "\n",
        "# Move model to CPU to manage memory better\n",
        "device = torch.device(\"cpu\")\n",
        "model.to(device)\n",
        "\n",
        "# Define the feature extraction function with torch.no_grad() to save memory\n",
        "def extract_features(texts):\n",
        "    with torch.no_grad():\n",
        "        inputs = tokenizer(texts, return_tensors='pt', truncation=True, padding=True, max_length=128).to(device)\n",
        "        outputs = model(**inputs)\n",
        "        hidden_states = outputs.last_hidden_state\n",
        "        cls_hidden_state = hidden_states[:, 0, :]\n",
        "        return cls_hidden_state.cpu().numpy()\n",
        "\n",
        "# Generator function to process data in smaller batches\n",
        "def batch_generator(dataset, batch_size=16):\n",
        "    dataset_size = len(dataset)\n",
        "    for i in range(0, dataset_size, batch_size):\n",
        "        # Ensure the batch size does not exceed the dataset size\n",
        "        end_index = min(i + batch_size, dataset_size)\n",
        "        batch = dataset.select(range(i, end_index))\n",
        "        batch_texts = batch['text']\n",
        "        batch_labels = batch['label']\n",
        "        batch_features = extract_features(batch_texts)\n",
        "        yield batch_features, batch_labels\n",
        "\n",
        "# Function to collect batches\n",
        "def collect_batches(generator):\n",
        "    features = []\n",
        "    labels = []\n",
        "    for batch_features, batch_labels in generator:\n",
        "        features.append(batch_features)\n",
        "        labels.extend(batch_labels)\n",
        "    return np.vstack(features), np.array(labels)\n",
        "\n",
        "# Process the smaller dataset using the batch generator\n",
        "train_generator = batch_generator(small_train_dataset, batch_size=16)\n",
        "X_train, y_train = collect_batches(train_generator)\n",
        "\n",
        "val_generator = batch_generator(small_val_dataset, batch_size=16)\n",
        "X_val, y_val = collect_batches(val_generator)"
      ],
      "metadata": {
        "id": "BCkCCxXEuNX-"
      },
      "execution_count": 21,
      "outputs": []
    },
    {
      "cell_type": "code",
      "source": [
        "# Train the classifier\n",
        "clf = LogisticRegression(max_iter=3000)\n",
        "clf.fit(X_train, y_train)\n",
        "\n",
        "# Evaluate the classifier\n",
        "y_pred = clf.predict(X_val)\n",
        "accuracy = accuracy_score(y_val, y_pred)\n",
        "print(f\"Validation Accuracy: {accuracy}\")"
      ],
      "metadata": {
        "colab": {
          "base_uri": "https://localhost:8080/"
        },
        "id": "Pj138nrSuc4h",
        "outputId": "fcc1d881-5f9d-4567-c43c-a0501cfafbc6"
      },
      "execution_count": 22,
      "outputs": [
        {
          "output_type": "stream",
          "name": "stdout",
          "text": [
            "Validation Accuracy: 0.47\n"
          ]
        }
      ]
    },
    {
      "cell_type": "markdown",
      "source": [
        "*****\n",
        "#####Fine-Tuning Transformers for Classification"
      ],
      "metadata": {
        "id": "oEtYBBWYsWSa"
      }
    },
    {
      "cell_type": "code",
      "source": [
        "# Install required libraries\n",
        "!pip install datasets transformers accelerate accelerate -U"
      ],
      "metadata": {
        "colab": {
          "base_uri": "https://localhost:8080/",
          "height": 1000
        },
        "id": "clFZOCXlJdzs",
        "outputId": "3eefe0cf-e2c8-41d3-fa82-06d7b8e932a2"
      },
      "execution_count": 23,
      "outputs": [
        {
          "output_type": "stream",
          "name": "stdout",
          "text": [
            "Requirement already satisfied: datasets in /usr/local/lib/python3.10/dist-packages (2.20.0)\n",
            "Requirement already satisfied: transformers in /usr/local/lib/python3.10/dist-packages (4.42.4)\n",
            "Collecting transformers\n",
            "  Downloading transformers-4.43.1-py3-none-any.whl (9.4 MB)\n",
            "\u001b[2K     \u001b[90m━━━━━━━━━━━━━━━━━━━━━━━━━━━━━━━━━━━━━━━━\u001b[0m \u001b[32m9.4/9.4 MB\u001b[0m \u001b[31m20.3 MB/s\u001b[0m eta \u001b[36m0:00:00\u001b[0m\n",
            "\u001b[?25hRequirement already satisfied: accelerate in /usr/local/lib/python3.10/dist-packages (0.33.0)\n",
            "Requirement already satisfied: filelock in /usr/local/lib/python3.10/dist-packages (from datasets) (3.15.4)\n",
            "Requirement already satisfied: numpy>=1.17 in /usr/local/lib/python3.10/dist-packages (from datasets) (1.25.2)\n",
            "Requirement already satisfied: pyarrow>=15.0.0 in /usr/local/lib/python3.10/dist-packages (from datasets) (17.0.0)\n",
            "Requirement already satisfied: pyarrow-hotfix in /usr/local/lib/python3.10/dist-packages (from datasets) (0.6)\n",
            "Requirement already satisfied: dill<0.3.9,>=0.3.0 in /usr/local/lib/python3.10/dist-packages (from datasets) (0.3.8)\n",
            "Requirement already satisfied: pandas in /usr/local/lib/python3.10/dist-packages (from datasets) (2.0.3)\n",
            "Requirement already satisfied: requests>=2.32.2 in /usr/local/lib/python3.10/dist-packages (from datasets) (2.32.3)\n",
            "Requirement already satisfied: tqdm>=4.66.3 in /usr/local/lib/python3.10/dist-packages (from datasets) (4.66.4)\n",
            "Requirement already satisfied: xxhash in /usr/local/lib/python3.10/dist-packages (from datasets) (3.4.1)\n",
            "Requirement already satisfied: multiprocess in /usr/local/lib/python3.10/dist-packages (from datasets) (0.70.16)\n",
            "Requirement already satisfied: fsspec[http]<=2024.5.0,>=2023.1.0 in /usr/local/lib/python3.10/dist-packages (from datasets) (2023.6.0)\n",
            "Requirement already satisfied: aiohttp in /usr/local/lib/python3.10/dist-packages (from datasets) (3.9.5)\n",
            "Requirement already satisfied: huggingface-hub>=0.21.2 in /usr/local/lib/python3.10/dist-packages (from datasets) (0.23.5)\n",
            "Requirement already satisfied: packaging in /usr/local/lib/python3.10/dist-packages (from datasets) (24.1)\n",
            "Requirement already satisfied: pyyaml>=5.1 in /usr/local/lib/python3.10/dist-packages (from datasets) (6.0.1)\n",
            "Requirement already satisfied: regex!=2019.12.17 in /usr/local/lib/python3.10/dist-packages (from transformers) (2024.5.15)\n",
            "Requirement already satisfied: tokenizers<0.20,>=0.19 in /usr/local/lib/python3.10/dist-packages (from transformers) (0.19.1)\n",
            "Requirement already satisfied: safetensors>=0.4.1 in /usr/local/lib/python3.10/dist-packages (from transformers) (0.4.3)\n",
            "Requirement already satisfied: psutil in /usr/local/lib/python3.10/dist-packages (from accelerate) (5.9.5)\n",
            "Requirement already satisfied: torch>=1.10.0 in /usr/local/lib/python3.10/dist-packages (from accelerate) (2.3.1+cu121)\n",
            "Requirement already satisfied: aiosignal>=1.1.2 in /usr/local/lib/python3.10/dist-packages (from aiohttp->datasets) (1.3.1)\n",
            "Requirement already satisfied: attrs>=17.3.0 in /usr/local/lib/python3.10/dist-packages (from aiohttp->datasets) (23.2.0)\n",
            "Requirement already satisfied: frozenlist>=1.1.1 in /usr/local/lib/python3.10/dist-packages (from aiohttp->datasets) (1.4.1)\n",
            "Requirement already satisfied: multidict<7.0,>=4.5 in /usr/local/lib/python3.10/dist-packages (from aiohttp->datasets) (6.0.5)\n",
            "Requirement already satisfied: yarl<2.0,>=1.0 in /usr/local/lib/python3.10/dist-packages (from aiohttp->datasets) (1.9.4)\n",
            "Requirement already satisfied: async-timeout<5.0,>=4.0 in /usr/local/lib/python3.10/dist-packages (from aiohttp->datasets) (4.0.3)\n",
            "Requirement already satisfied: typing-extensions>=3.7.4.3 in /usr/local/lib/python3.10/dist-packages (from huggingface-hub>=0.21.2->datasets) (4.12.2)\n",
            "Requirement already satisfied: charset-normalizer<4,>=2 in /usr/local/lib/python3.10/dist-packages (from requests>=2.32.2->datasets) (3.3.2)\n",
            "Requirement already satisfied: idna<4,>=2.5 in /usr/local/lib/python3.10/dist-packages (from requests>=2.32.2->datasets) (3.7)\n",
            "Requirement already satisfied: urllib3<3,>=1.21.1 in /usr/local/lib/python3.10/dist-packages (from requests>=2.32.2->datasets) (2.0.7)\n",
            "Requirement already satisfied: certifi>=2017.4.17 in /usr/local/lib/python3.10/dist-packages (from requests>=2.32.2->datasets) (2024.7.4)\n",
            "Requirement already satisfied: sympy in /usr/local/lib/python3.10/dist-packages (from torch>=1.10.0->accelerate) (1.13.0)\n",
            "Requirement already satisfied: networkx in /usr/local/lib/python3.10/dist-packages (from torch>=1.10.0->accelerate) (3.3)\n",
            "Requirement already satisfied: jinja2 in /usr/local/lib/python3.10/dist-packages (from torch>=1.10.0->accelerate) (3.1.4)\n",
            "Requirement already satisfied: nvidia-cuda-nvrtc-cu12==12.1.105 in /usr/local/lib/python3.10/dist-packages (from torch>=1.10.0->accelerate) (12.1.105)\n",
            "Requirement already satisfied: nvidia-cuda-runtime-cu12==12.1.105 in /usr/local/lib/python3.10/dist-packages (from torch>=1.10.0->accelerate) (12.1.105)\n",
            "Requirement already satisfied: nvidia-cuda-cupti-cu12==12.1.105 in /usr/local/lib/python3.10/dist-packages (from torch>=1.10.0->accelerate) (12.1.105)\n",
            "Requirement already satisfied: nvidia-cudnn-cu12==8.9.2.26 in /usr/local/lib/python3.10/dist-packages (from torch>=1.10.0->accelerate) (8.9.2.26)\n",
            "Requirement already satisfied: nvidia-cublas-cu12==12.1.3.1 in /usr/local/lib/python3.10/dist-packages (from torch>=1.10.0->accelerate) (12.1.3.1)\n",
            "Requirement already satisfied: nvidia-cufft-cu12==11.0.2.54 in /usr/local/lib/python3.10/dist-packages (from torch>=1.10.0->accelerate) (11.0.2.54)\n",
            "Requirement already satisfied: nvidia-curand-cu12==10.3.2.106 in /usr/local/lib/python3.10/dist-packages (from torch>=1.10.0->accelerate) (10.3.2.106)\n",
            "Requirement already satisfied: nvidia-cusolver-cu12==11.4.5.107 in /usr/local/lib/python3.10/dist-packages (from torch>=1.10.0->accelerate) (11.4.5.107)\n",
            "Requirement already satisfied: nvidia-cusparse-cu12==12.1.0.106 in /usr/local/lib/python3.10/dist-packages (from torch>=1.10.0->accelerate) (12.1.0.106)\n",
            "Requirement already satisfied: nvidia-nccl-cu12==2.20.5 in /usr/local/lib/python3.10/dist-packages (from torch>=1.10.0->accelerate) (2.20.5)\n",
            "Requirement already satisfied: nvidia-nvtx-cu12==12.1.105 in /usr/local/lib/python3.10/dist-packages (from torch>=1.10.0->accelerate) (12.1.105)\n",
            "Requirement already satisfied: triton==2.3.1 in /usr/local/lib/python3.10/dist-packages (from torch>=1.10.0->accelerate) (2.3.1)\n",
            "Requirement already satisfied: nvidia-nvjitlink-cu12 in /usr/local/lib/python3.10/dist-packages (from nvidia-cusolver-cu12==11.4.5.107->torch>=1.10.0->accelerate) (12.5.82)\n",
            "Requirement already satisfied: python-dateutil>=2.8.2 in /usr/local/lib/python3.10/dist-packages (from pandas->datasets) (2.8.2)\n",
            "Requirement already satisfied: pytz>=2020.1 in /usr/local/lib/python3.10/dist-packages (from pandas->datasets) (2023.4)\n",
            "Requirement already satisfied: tzdata>=2022.1 in /usr/local/lib/python3.10/dist-packages (from pandas->datasets) (2024.1)\n",
            "Requirement already satisfied: six>=1.5 in /usr/local/lib/python3.10/dist-packages (from python-dateutil>=2.8.2->pandas->datasets) (1.16.0)\n",
            "Requirement already satisfied: MarkupSafe>=2.0 in /usr/local/lib/python3.10/dist-packages (from jinja2->torch>=1.10.0->accelerate) (2.1.5)\n",
            "Requirement already satisfied: mpmath<1.4,>=1.1.0 in /usr/local/lib/python3.10/dist-packages (from sympy->torch>=1.10.0->accelerate) (1.3.0)\n",
            "Installing collected packages: transformers\n",
            "  Attempting uninstall: transformers\n",
            "    Found existing installation: transformers 4.42.4\n",
            "    Uninstalling transformers-4.42.4:\n",
            "      Successfully uninstalled transformers-4.42.4\n",
            "Successfully installed transformers-4.43.1\n"
          ]
        },
        {
          "output_type": "display_data",
          "data": {
            "application/vnd.colab-display-data+json": {
              "pip_warning": {
                "packages": [
                  "transformers"
                ]
              },
              "id": "8697df91d17e4440a18e5e79a5c8197a"
            }
          },
          "metadata": {}
        }
      ]
    },
    {
      "cell_type": "code",
      "source": [
        "from transformers import AutoModelForSequenceClassification, AutoTokenizer, Trainer, TrainingArguments\n",
        "from datasets import load_dataset\n",
        "\n",
        "# Load the pre-trained model with a classification head\n",
        "model = AutoModelForSequenceClassification.from_pretrained(\"bert-base-uncased\", num_labels=6)\n",
        "\n",
        "# Load the dataset\n",
        "emotions = load_dataset(\"emotion\")\n",
        "\n",
        "# Load the tokenizer\n",
        "tokenizer = AutoTokenizer.from_pretrained(\"bert-base-uncased\")\n",
        "\n",
        "# Tokenize the dataset\n",
        "def tokenize(batch):\n",
        "    return tokenizer(batch['text'], padding='max_length', truncation=True, max_length=128)\n",
        "\n",
        "emotions_encoded = emotions.map(tokenize, batched=True)\n",
        "\n",
        "# Select a smaller subset for initial testing\n",
        "train_dataset = emotions_encoded[\"train\"].select(range(32))\n",
        "val_dataset = emotions_encoded[\"validation\"].select(range(16))\n",
        "\n",
        "# Remove unnecessary columns\n",
        "train_dataset = train_dataset.remove_columns([\"text\"])\n",
        "val_dataset = val_dataset.remove_columns([\"text\"])\n",
        "\n",
        "# Set the format to PyTorch tensors\n",
        "train_dataset.set_format(\"torch\")\n",
        "val_dataset.set_format(\"torch\")\n"
      ],
      "metadata": {
        "id": "h9FyIJW8s1Mf"
      },
      "execution_count": null,
      "outputs": []
    },
    {
      "cell_type": "code",
      "source": [
        "training_args = TrainingArguments(\n",
        "    output_dir=\"./results\",\n",
        "    eval_strategy=\"epoch\",\n",
        "    per_device_train_batch_size=4,  # Reduced batch size for initial testing\n",
        "    per_device_eval_batch_size=4,   # Reduced batch size for initial testing\n",
        "    num_train_epochs=1,             # Only 1 epoch for initial testing\n",
        "    weight_decay=0.01,\n",
        "    logging_dir=\"./logs\",           # Directory for storing logs\n",
        "    logging_steps=10,               # Log every 10 steps\n",
        ")\n"
      ],
      "metadata": {
        "id": "Fncfumlu4sRv"
      },
      "execution_count": 25,
      "outputs": []
    },
    {
      "cell_type": "code",
      "source": [
        "from transformers import Trainer\n",
        "\n",
        "# Initialize the Trainer\n",
        "trainer = Trainer(\n",
        "    model=model,\n",
        "    args=training_args,\n",
        "    train_dataset=train_dataset,\n",
        "    eval_dataset=val_dataset,\n",
        ")\n",
        "\n",
        "# Train the model with progress tracking\n",
        "print(\"Starting training...\")\n",
        "trainer.train()\n",
        "print(\"Training completed.\")\n",
        "\n",
        "# Evaluate the model\n",
        "eval_results = trainer.evaluate()\n",
        "print(f\"Evaluation results: {eval_results}\")\n"
      ],
      "metadata": {
        "colab": {
          "base_uri": "https://localhost:8080/",
          "height": 198
        },
        "id": "_QZYw8mkOoqZ",
        "outputId": "9f929143-f1b6-4157-f3ae-71a5038ae3a2"
      },
      "execution_count": 26,
      "outputs": [
        {
          "output_type": "stream",
          "name": "stdout",
          "text": [
            "Starting training...\n"
          ]
        },
        {
          "output_type": "display_data",
          "data": {
            "text/plain": [
              "<IPython.core.display.HTML object>"
            ],
            "text/html": [
              "\n",
              "    <div>\n",
              "      \n",
              "      <progress value='8' max='8' style='width:300px; height:20px; vertical-align: middle;'></progress>\n",
              "      [8/8 01:37, Epoch 1/1]\n",
              "    </div>\n",
              "    <table border=\"1\" class=\"dataframe\">\n",
              "  <thead>\n",
              " <tr style=\"text-align: left;\">\n",
              "      <th>Epoch</th>\n",
              "      <th>Training Loss</th>\n",
              "      <th>Validation Loss</th>\n",
              "    </tr>\n",
              "  </thead>\n",
              "  <tbody>\n",
              "    <tr>\n",
              "      <td>1</td>\n",
              "      <td>No log</td>\n",
              "      <td>1.740912</td>\n",
              "    </tr>\n",
              "  </tbody>\n",
              "</table><p>"
            ]
          },
          "metadata": {}
        },
        {
          "output_type": "stream",
          "name": "stdout",
          "text": [
            "Training completed.\n"
          ]
        },
        {
          "output_type": "display_data",
          "data": {
            "text/plain": [
              "<IPython.core.display.HTML object>"
            ],
            "text/html": [
              "\n",
              "    <div>\n",
              "      \n",
              "      <progress value='4' max='4' style='width:300px; height:20px; vertical-align: middle;'></progress>\n",
              "      [4/4 00:04]\n",
              "    </div>\n",
              "    "
            ]
          },
          "metadata": {}
        },
        {
          "output_type": "stream",
          "name": "stdout",
          "text": [
            "Evaluation results: {'eval_loss': 1.7409123182296753, 'eval_runtime': 6.408, 'eval_samples_per_second': 2.497, 'eval_steps_per_second': 0.624, 'epoch': 1.0}\n"
          ]
        }
      ]
    },
    {
      "cell_type": "markdown",
      "source": [
        "### Evaluation and Performance Metrics\n",
        "\n",
        "Evaluating the performance of a text classification model is crucial to understand how well the model is performing and to identify areas for improvement. In this section, we will cover evaluation techniques, methods to compare model performance, and strategies to address class imbalance.\n",
        "\n",
        "#### Evaluation Techniques\n",
        "\n",
        "1. **Accuracy:**\n",
        "   - **Definition:** The ratio of correctly predicted instances to the total instances.\n",
        "   - **Use Case:** Simple to calculate and interpret but may not be the best metric for imbalanced datasets.\n"
      ],
      "metadata": {
        "id": "w5QQGQ9FgWPJ"
      }
    },
    {
      "cell_type": "code",
      "source": [
        "# Predict on the validation dataset\n",
        "predictions = trainer.predict(val_dataset)\n",
        "y_pred = predictions.predictions.argmax(axis=1)\n",
        "y_val = predictions.label_ids\n",
        "\n",
        "# Compute accuracy\n",
        "accuracy = accuracy_score(y_val, y_pred)\n",
        "print(f\"Accuracy: {accuracy}\")"
      ],
      "metadata": {
        "colab": {
          "base_uri": "https://localhost:8080/",
          "height": 34
        },
        "id": "DBTgZEXQOq_S",
        "outputId": "a5190c6a-02c2-4dc8-fd60-e246f9ecfe13"
      },
      "execution_count": 27,
      "outputs": [
        {
          "output_type": "display_data",
          "data": {
            "text/plain": [
              "<IPython.core.display.HTML object>"
            ],
            "text/html": []
          },
          "metadata": {}
        },
        {
          "output_type": "stream",
          "name": "stdout",
          "text": [
            "Accuracy: 0.375\n"
          ]
        }
      ]
    },
    {
      "cell_type": "markdown",
      "source": [
        "*****\n",
        "2. **Precision, Recall, and F1-Score:**\n",
        "   - **Precision:** The ratio of correctly predicted positive observations to the total predicted positives.\n",
        "   - **Recall:** The ratio of correctly predicted positive observations to all observations in the actual class.\n",
        "   - **F1-Score:** The weighted average of Precision and Recall.\n"
      ],
      "metadata": {
        "id": "dLcYNgWWr2sy"
      }
    },
    {
      "cell_type": "code",
      "source": [
        "from sklearn.metrics import precision_recall_fscore_support\n",
        "\n",
        "precision, recall, f1, _ = precision_recall_fscore_support(y_val, y_pred, average='weighted')\n",
        "print(f\"Precision: {precision}\")\n",
        "print(f\"Recall: {recall}\")\n",
        "print(f\"F1-Score: {f1}\")\n"
      ],
      "metadata": {
        "colab": {
          "base_uri": "https://localhost:8080/"
        },
        "id": "Na3lGu5UgZ6P",
        "outputId": "3692c8c5-2124-490b-fdc3-ab9bd87ec439"
      },
      "execution_count": 28,
      "outputs": [
        {
          "output_type": "stream",
          "name": "stdout",
          "text": [
            "Precision: 0.140625\n",
            "Recall: 0.375\n",
            "F1-Score: 0.20454545454545453\n"
          ]
        },
        {
          "output_type": "stream",
          "name": "stderr",
          "text": [
            "/usr/local/lib/python3.10/dist-packages/sklearn/metrics/_classification.py:1344: UndefinedMetricWarning: Precision and F-score are ill-defined and being set to 0.0 in labels with no predicted samples. Use `zero_division` parameter to control this behavior.\n",
            "  _warn_prf(average, modifier, msg_start, len(result))\n"
          ]
        }
      ]
    },
    {
      "cell_type": "markdown",
      "source": [
        "****\n",
        "3. **Confusion Matrix:**\n",
        "   - **Definition:** A matrix that shows the number of correct and incorrect predictions made by the model compared to the actual classifications.\n"
      ],
      "metadata": {
        "id": "hGFmzQRdxl-w"
      }
    },
    {
      "cell_type": "code",
      "source": [
        "from sklearn.metrics import confusion_matrix\n",
        "import seaborn as sns\n",
        "import matplotlib.pyplot as plt\n",
        "plt.figure(figsize=(8, 4))\n",
        "cm = confusion_matrix(y_val, y_pred)\n",
        "sns.heatmap(cm, annot=True, fmt='d', cmap='Blues')\n",
        "plt.xlabel('Predicted')\n",
        "plt.ylabel('Actual')\n",
        "plt.title('Confusion Matrix')\n",
        "plt.show()\n"
      ],
      "metadata": {
        "colab": {
          "base_uri": "https://localhost:8080/",
          "height": 410
        },
        "id": "VtylLy2HsAtt",
        "outputId": "1d5687c7-4ad0-4001-ba86-2ee52c1c9c8d"
      },
      "execution_count": 29,
      "outputs": [
        {
          "output_type": "display_data",
          "data": {
            "text/plain": [
              "<Figure size 800x400 with 2 Axes>"
            ],
            "image/png": "[encoded data removed]"
          },
          "metadata": {}
        }
      ]
    },
    {
      "cell_type": "markdown",
      "source": [
        "***\n",
        "**The Ai Academy**\n",
        "***"
      ],
      "metadata": {
        "id": "YJRa2-HpRGeN"
      }
    },
    {
      "cell_type": "markdown",
      "source": [
        "#### **Anatomy of Transformers**\n",
        "\n",
        "**History of neural network architectures in natural language processing (NLP):**\n",
        "\n",
        "Before transformers, the NLP landscape was dominated by Recurrent Neural Networks (RNNs) and their variants, like Long Short-Term Memory (LSTM) and Gated Recurrent Unit (GRU) networks.\n",
        "\n",
        "These models were groundbreaking because they could handle sequential data and capture dependencies over time. However, they had significant limitations. RNNs process sequences step-by-step, which makes training slow and computationally expensive. They also struggled with long-range dependencies, where the relevant information was far back in the sequence.\n",
        "\n",
        "In 2017, the landscape of NLP changed dramatically with the introduction of the transformer model by Vaswani et al. in their paper, \"Attention is All You Need.\" This new architecture discarded recurrence entirely and relied solely on a mechanism called \"attention.\" This shift allowed for parallel processing of sequence data, leading to significant improvements in training efficiency and performance on various NLP tasks."
      ],
      "metadata": {
        "id": "MiLBeeCDRMAT"
      }
    },
    {
      "cell_type": "markdown",
      "source": [
        "#### **Key Differences Between Transformers and Previous Architectures**\n",
        "\n",
        "The key differences between transformers and the previous architectures like RNNs and Convolutional Neural Networks (CNNs):\n",
        "\n",
        "1. **Parallel Processing vs. Sequential Processing**:\n",
        "   - **RNNs**: They process data sequentially, one step at a time, which means they can't take full advantage of modern hardware optimized for parallel processing. This makes training slower.\n",
        "   - **Transformers**: They process all words in a sequence simultaneously, thanks to the self-attention mechanism. This parallel processing speeds up training significantly.\n",
        "\n",
        "2. **Handling Long-Range Dependencies**:\n",
        "   - **RNNs**: Struggle with capturing dependencies when the relevant information is far apart in the sequence. This is due to the vanishing gradient problem.\n",
        "   - **Transformers**: Use self-attention to directly connect every word in a sequence to every other word, regardless of their distance. This allows them to capture long-range dependencies more effectively.\n",
        "\n",
        "3. **Model Complexity**:\n",
        "   - **RNNs**: Have a simpler architecture with a focus on sequential data, but they require mechanisms like LSTM and GRU units to handle long-term dependencies.\n",
        "   - **Transformers**: Have a more complex architecture with multiple layers of self-attention and feed-forward networks. This complexity allows them to learn more nuanced representations of the data.\n",
        "\n",
        "4. **Attention Mechanism**:\n",
        "   - **RNNs**: Often incorporate attention mechanisms as an add-on to improve performance.\n",
        "   - **Transformers**: Place attention at the core of their architecture. The self-attention mechanism is the fundamental building block, enabling the model to weigh the importance of different words in a sequence.\n"
      ],
      "metadata": {
        "id": "wwxhOUQaRv4j"
      }
    },
    {
      "cell_type": "markdown",
      "source": [
        "#### **Importance and Impact of Transformers in NLP**\n",
        "\n",
        "The introduction of transformers has had a profound impact on the field of NLP. Here's why they are so important:\n",
        "\n",
        "1. **State-of-the-Art Performance**:\n",
        "   - Transformers have set new benchmarks for a wide range of NLP tasks, including translation, summarization, question answering, and text classification. Models like BERT, GPT, and T5, built on transformer architecture, consistently achieve state-of-the-art results.\n",
        "\n",
        "2. **Transfer Learning**:\n",
        "   - Transformers have popularized the use of transfer learning in NLP. Pre-trained models like BERT and GPT-3 can be fine-tuned on specific tasks with relatively small amounts of data, making it easier to develop high-performing NLP applications.\n",
        "\n",
        "3. **Versatility**:\n",
        "   - The flexibility of transformers allows them to be applied to various tasks beyond traditional NLP, such as image processing (e.g., Vision Transformers or ViTs), speech recognition, and even game playing.\n",
        "\n",
        "4. **Efficiency**:\n",
        "   - By enabling parallel processing and reducing the need for sequential operations, transformers have made it feasible to train very large models on massive datasets. This efficiency is crucial for handling the growing scale of data in today's AI applications.\n",
        "\n",
        "5. **Innovation and Research**:\n",
        "   - The transformer architecture has sparked a wave of innovation and research. Variants and improvements, such as BERT for masked language modeling and GPT for autoregressive generation, have led to continuous advancements in the field.\n"
      ],
      "metadata": {
        "id": "A4EcDMDsR8cn"
      }
    },
    {
      "cell_type": "markdown",
      "source": [
        "### **Basic Structure of a Transformer**\n",
        "\n",
        "#### **Understanding the Encoder-Decoder Architecture**\n",
        "Transformers follow an encoder-decoder structure, which is a powerful framework for many NLP tasks, such as translation, summarization, and more. Here's a breakdown:\n",
        "\n",
        "- **Encoder**: The encoder's job is to process the input data (e.g., a sentence in English) and transform it into a set of continuous representations. It consists of multiple layers, each containing two main sub-layers: a multi-head self-attention mechanism and a position-wise fully connected feed-forward network. The encoder processes the input data in parallel and outputs a sequence of vectors.\n",
        "\n",
        "- **Decoder**: The decoder's role is to take the encoder's output and generate the desired output (e.g., a sentence in French). Similar to the encoder, the decoder has multiple layers with two main sub-layers: a multi-head self-attention mechanism and a feed-forward network. Additionally, each decoder layer has a third sub-layer that performs multi-head attention over the encoder's output. The decoder's self-attention sub-layer is masked to ensure that the prediction for a particular position depends only on the known outputs at positions before it.\n",
        "\n",
        "#### **Components of the Transformer Model**\n",
        "\n",
        "1. **Multi-Head Self-Attention Mechanism**:\n",
        "   - **Self-Attention**: This mechanism allows the model to weigh the importance of different words in a sequence relative to each other. It computes attention scores for each pair of words, producing a weighted sum of the values. This helps the model focus on relevant parts of the input sequence.\n",
        "   - **Multi-Head Attention**: Instead of performing a single attention function, the transformer uses multiple attention heads. Each head independently learns different attention patterns, providing multiple perspectives and enhancing the model's ability to capture complex relationships.\n",
        "\n",
        "2. **Feed-Forward Networks**:\n",
        "   - Each layer in the encoder and decoder has a fully connected feed-forward network applied to each position separately and identically. These networks consist of two linear transformations with a ReLU activation in between. They help in transforming the attention outputs into more useful representations.\n",
        "\n",
        "3. **Positional Encoding**:\n",
        "   - Since transformers do not have a built-in sense of the order of the words (like RNNs do), they use positional encodings to incorporate the order information. These encodings are added to the input embeddings at the bottoms of the encoder and decoder stacks. They use sine and cosine functions of different frequencies.\n",
        "\n",
        "4. **Layer Normalization and Residual Connections**:\n",
        "   - To stabilize and accelerate training, transformers use layer normalization and residual connections around each sub-layer. This means the input to each sub-layer is added to its output, and then the result is normalized. This helps in preventing vanishing or exploding gradients.\n"
      ],
      "metadata": {
        "id": "7UtH2sHO05He"
      }
    },
    {
      "cell_type": "markdown",
      "source": [
        "#### **High-Level Workflow of Transformers**\n",
        "\n",
        "1. **Input Embedding and Positional Encoding**:\n",
        "   - The input text is tokenized and converted into embeddings, which are continuous vector representations. Positional encodings are added to these embeddings to provide information about the position of each token in the sequence.\n",
        "\n",
        "2. **Passing Through Encoder Layers**:\n",
        "   - The embedded input with positional encoding is fed into the encoder. Each encoder layer processes the input through the multi-head self-attention mechanism and the feed-forward network, with residual connections and layer normalization applied at each step. The output of each layer serves as the input to the next layer.\n",
        "\n",
        "3. **Generating Encoder Outputs**:\n",
        "   - After passing through all encoder layers, the final output is a set of encoded vectors, which contain contextualized representations of the input sequence.\n",
        "\n",
        "4. **Passing Through Decoder Layers**:\n",
        "   - The decoder takes the target sequence (shifted right to prevent seeing future tokens) and processes it through its layers. Each layer performs masked multi-head self-attention on the target sequence, multi-head attention on the encoder outputs, and feed-forward operations. Residual connections and layer normalization are applied at each step.\n",
        "\n",
        "5. **Producing the Output Sequence**:\n",
        "   - The final output of the decoder is passed through a linear layer followed by a softmax function to generate probabilities for the next token in the sequence. This process is repeated for each position in the output sequence until the entire output is generated.\n",
        "\n",
        "6. **Training and Inference**:\n",
        "   - During training, the model learns to minimize the difference between the predicted and actual outputs using techniques like backpropagation and gradient descent. During inference, the model generates outputs sequentially, using the already predicted tokens as input for predicting the next token.\n",
        "   \n",
        "   In summary, the transformer model's encoder-decoder architecture, with its multi-head self-attention mechanisms, feed-forward networks, and positional encodings, provides a robust and efficient way to process and generate sequences. This structure allows transformers to excel in various NLP tasks by effectively capturing complex relationships and dependencies within the data.\n"
      ],
      "metadata": {
        "id": "SrTnhk5S3b0l"
      }
    },
    {
      "cell_type": "markdown",
      "source": [
        "### **The Encoder**\n",
        "\n",
        "#### **Detailed Anatomy of the Encoder**\n",
        "\n",
        "The encoder in a transformer model is a sophisticated component designed to process the input sequence and transform it into a rich set of continuous representations.\n",
        "\n",
        "1. **Input Embedding and Positional Encoding**:\n",
        "   - Each word or token in the input sequence is first converted into an embedding, a dense vector representation that captures its meaning.\n",
        "   - Positional encodings are then added to these embeddings to incorporate the position of each token in the sequence, allowing the model to understand the order of the words.\n",
        "\n",
        "2. **Stack of Encoder Layers**:\n",
        "   - The encoder consists of a stack of identical layers, typically 6 to 12 layers, each comprising two main sub-layers: a multi-head self-attention mechanism and a position-wise feed-forward network.\n",
        "\n",
        "#### **Multi-Head Self-Attention Mechanism**\n",
        "\n",
        "The multi-head self-attention mechanism is a core component of the encoder. Here’s how it works:\n",
        "\n",
        "1. **Self-Attention**:\n",
        "   - Self-attention allows the model to weigh the importance of different words in a sequence relative to each other. For each word, it computes a weighted sum of the other words, focusing on the relevant ones.\n",
        "   - This is achieved by creating three vectors from each input embedding: a Query vector (Q), a Key vector (K), and a Value vector (V). These vectors are generated through learned linear transformations.\n",
        "\n",
        "2. **Calculating Attention Scores**:\n",
        "   - The attention score between two words is calculated using the dot product of their Query and Key vectors, scaled by the square root of the dimension of the Key vectors. This score indicates how much focus one word should have on another.\n",
        "\n",
        "3. **Softmax Operation**:\n",
        "   - The attention scores are passed through a softmax function to normalize them into probabilities, ensuring they sum up to one.\n",
        "\n",
        "4. **Weighted Sum of Values**:\n",
        "   - Each word's final representation is computed as the weighted sum of the Value vectors, using the attention probabilities as weights. This allows the model to emphasize the most relevant words in the context of each word.\n",
        "\n",
        "5. **Multi-Head Attention**:\n",
        "   - Instead of performing a single attention operation, the transformer uses multiple heads (e.g., 8 or 12 heads). Each head independently learns different attention patterns, providing multiple perspectives.\n",
        "   - The outputs of all heads are concatenated and linearly transformed to form the final representation.\n"
      ],
      "metadata": {
        "id": "a2Mqcpcq4aVp"
      }
    },
    {
      "cell_type": "markdown",
      "source": [
        "#### **Position-wise Feed-Forward Networks**\n",
        "\n",
        "After the multi-head self-attention sub-layer, the output is passed through a position-wise feed-forward network, which is the second sub-layer in each encoder layer. Here’s how it functions:\n",
        "\n",
        "1. **Two Linear Transformations**:\n",
        "   - The feed-forward network consists of two fully connected linear layers with a ReLU activation function in between. The first linear layer projects the input to a higher-dimensional space, while the second linear layer projects it back to the original dimension.\n",
        "\n",
        "2. **Element-wise Operations**:\n",
        "   - These transformations are applied to each position in the sequence independently and identically. This means the same feed-forward network is used for each word, allowing for consistent transformations.\n"
      ],
      "metadata": {
        "id": "OUyQIacC8O33"
      }
    },
    {
      "cell_type": "markdown",
      "source": [
        "#### **Layer Normalization and Residual Connections**\n",
        "\n",
        "To ensure stable and efficient training, each sub-layer in the encoder layer includes residual connections and layer normalization:\n",
        "\n",
        "1. **Residual Connections**:\n",
        "   - A residual connection, also known as a skip connection, adds the input of a sub-layer to its output. This helps in preserving the original information and aids in backpropagation, preventing the vanishing gradient problem.\n",
        "\n",
        "2. **Layer Normalization**:\n",
        "   - After the residual connection, layer normalization is applied to the output. This normalizes the activations, ensuring that they have a mean of zero and a variance of one. This step is crucial for stable training and faster convergence.\n",
        "\n",
        "In summary, the encoder in a transformer model is a powerful and complex structure designed to process and understand the input sequence. Its combination of multi-head self-attention mechanisms, position-wise feed-forward networks, residual connections, and layer normalization allows it to capture intricate relationships and dependencies within the data. This makes the encoder an essential component for transforming input data into meaningful representations that can be used for various NLP tasks."
      ],
      "metadata": {
        "id": "buEvt6sU-dX_"
      }
    },
    {
      "cell_type": "markdown",
      "source": [
        "### **The Decoder**\n",
        "\n",
        "#### **Detailed Anatomy of the Decoder**\n",
        "\n",
        "The decoder in a transformer model is designed to generate the output sequence from the encoded input sequence. It mirrors the encoder in many ways but has additional mechanisms to handle the generation task. Let's break down its structure:\n",
        "\n",
        "1. **Input Embedding and Positional Encoding**:\n",
        "   - Like the encoder, the decoder begins by converting each token in the target sequence into embeddings and adding positional encodings to capture the order of the tokens.\n",
        "\n",
        "2. **Stack of Decoder Layers**:\n",
        "   - The decoder consists of a stack of identical layers, typically 6 to 12, each comprising three main sub-layers: a masked multi-head self-attention mechanism, an encoder-decoder attention mechanism, and a position-wise feed-forward network.\n",
        "\n",
        "#### **Masked Multi-Head Self-Attention Mechanism**\n",
        "\n",
        "The masked multi-head self-attention mechanism is crucial for autoregressive generation tasks, ensuring that the model only attends to past tokens when predicting the next one.\n",
        "\n",
        "1. **Self-Attention with Masking**:\n",
        "   - In the decoder, self-attention is masked to prevent the model from \"seeing\" future tokens in the sequence. This is achieved by applying a mask to the attention scores, setting the scores of future tokens to negative infinity before the softmax operation. This ensures that the prediction for a specific position depends only on the known outputs up to that position.\n",
        "\n",
        "2. **Multi-Head Attention**:\n",
        "   - As with the encoder, the decoder uses multiple attention heads to learn different representations and attention patterns. The outputs of all heads are concatenated and linearly transformed to form the final representation for each position.\n",
        "\n",
        "#### **Encoder-Decoder Attention Mechanism**\n",
        "\n",
        "The encoder-decoder attention mechanism allows the decoder to focus on relevant parts of the input sequence (encoded by the encoder) while generating the output sequence.\n",
        "\n",
        "1. **Cross-Attention**:\n",
        "   - Each decoder layer includes an encoder-decoder attention sub-layer. This sub-layer performs multi-head attention over the encoder’s output, using it as the key and value while the decoder's previous layer output serves as the query.\n",
        "   - This mechanism enables the decoder to align the generated tokens with the input sequence, effectively learning which parts of the input are important for producing each token in the output.\n",
        "\n",
        "2. **Multi-Head Cross-Attention**:\n",
        "   - Similar to other attention mechanisms, multiple heads are used here to capture various alignment patterns between the input and output sequences. The outputs from all heads are concatenated and linearly transformed.\n",
        "\n",
        "#### **Position-wise Feed-Forward Networks**\n",
        "\n",
        "After the attention mechanisms, the output is processed through position-wise feed-forward networks, identical to those in the encoder:\n",
        "\n",
        "1. **Two Linear Transformations**:\n",
        "   - The feed-forward network consists of two fully connected linear layers with a ReLU activation in between. The first layer projects the input to a higher-dimensional space, and the second layer projects it back to the original dimension.\n",
        "\n",
        "2. **Element-wise Operations**:\n",
        "   - These operations are applied independently and identically to each position in the sequence, allowing for consistent transformations across all positions.\n",
        "\n",
        "#### **Layer Normalization and Residual Connections**\n",
        "\n",
        "To ensure stable and efficient training, each sub-layer in the decoder layer includes residual connections and layer normalization:\n",
        "\n",
        "1. **Residual Connections**:\n",
        "   - Residual connections, or skip connections, add the input of a sub-layer to its output. This helps preserve the original information and aids in backpropagation, preventing the vanishing gradient problem.\n",
        "\n",
        "2. **Layer Normalization**:\n",
        "   - Layer normalization is applied after the residual connection. This normalizes the activations to have a mean of zero and a variance of one, ensuring stable training and faster convergence.\n"
      ],
      "metadata": {
        "id": "rHnYJ5EG_hYV"
      }
    },
    {
      "cell_type": "markdown",
      "source": [
        "### **Understanding Self-Attention**\n",
        "#### **Concept and Intuition Behind Self-Attention**\n",
        "To grasp the power of transformers, it's essential to understand the concept of self-attention. Self-attention is a mechanism that enables the model to weigh the importance of different words in a sentence relative to each other. Let's break it down:\n",
        "\n",
        "- **Attention Mechanism**: Imagine you’re reading a sentence and you want to understand the meaning of a particular word. Naturally, you look at other words in the sentence to gather context. Self-attention mimics this behavior by allowing the model to focus on different parts of the input sentence when processing each word.\n",
        "\n",
        "- **Contextual Understanding**: In traditional models like RNNs, each word's representation primarily depends on the previous words in the sequence. However, self-attention allows each word to be directly connected to every other word, regardless of their position. This direct connection enables the model to better capture relationships and dependencies in the data, even if they are far apart in the sequence.\n",
        "\n",
        "#### **Calculating Self-Attention Scores**\n",
        "\n",
        "The self-attention mechanism involves several steps to calculate how much focus one word should have on another. Here’s a detailed breakdown:\n",
        "\n",
        "1. **Creating Queries, Keys, and Values**:\n",
        "   - For each word in the input sequence, we create three vectors: a Query vector (Q), a Key vector (K), and a Value vector (V). These vectors are obtained by multiplying the input embedding by learned weight matrices. The Query and Key vectors help determine the attention scores, while the Value vectors contribute to the final output.\n",
        "\n",
        "2. **Calculating Attention Scores**:\n",
        "   - The attention score between two words is calculated using the dot product of their Query and Key vectors. This score represents how much attention one word should pay to another.\n",
        "\n",
        "3. **Scaling**:\n",
        "   - To ensure the dot products don’t get too large, especially when the dimensionality of the vectors is high, we scale the scores by the square root of the dimension of the Key vectors, \\(d_k\\). This scaling step helps stabilize the gradients during training.\n",
        "\n",
        "4. **Softmax Operation**:\n",
        "   - The scaled attention scores are then passed through a softmax function to convert them into probabilities. This ensures that the attention weights for each word sum up to one.\n",
        "\n",
        "  - The softmax function highlights the most relevant words by assigning them higher probabilities.\n",
        "\n",
        "\n",
        "\n"
      ],
      "metadata": {
        "id": "ofUoX3JAAtTY"
      }
    },
    {
      "cell_type": "markdown",
      "source": [
        "5. **Weighted Sum of Values**:\n",
        "   - The final output for each word is computed as the weighted sum of the Value vectors, using the attention weights as weights.\n"
      ],
      "metadata": {
        "id": "-P90AsRvH_n-"
      }
    },
    {
      "cell_type": "markdown",
      "source": [
        "#### **Scaling and Softmax Operations**\n",
        "\n",
        "\n",
        "1. **Scaling**:\n",
        "   - The scaling factor is crucial because the dot product of high-dimensional vectors can result in very large values, leading to extremely small gradients during backpropagation. By scaling the scores, we keep the values in a manageable range, facilitating stable training.\n",
        "\n",
        "2. **Softmax**:\n",
        "   - The softmax function transforms the scaled scores into a probability distribution. This normalization ensures that the sum of the attention weights for each word equals one, making it easier for the model to focus on the most relevant parts of the sequence.\n",
        "   "
      ],
      "metadata": {
        "id": "e8SvK9UBJw9L"
      }
    },
    {
      "cell_type": "markdown",
      "source": [
        "###  Multi-Head Self-Attention\n",
        "\n",
        "#### **Purpose and Benefits of Multi-Head Attention**\n",
        "\n",
        "To understand why multi-head attention is a key component of the transformer model, let's break down its purpose and benefits:\n",
        "\n",
        "1. **Purpose**:\n",
        "   - **Learning Diverse Representations**: Multi-head attention allows the model to focus on different parts of the input sequence simultaneously. Each attention head can learn to capture different types of relationships and patterns in the data.\n",
        "   - **Improving Model Capacity**: By having multiple heads, the model increases its capacity to represent the data. This helps in capturing more nuanced and complex features that a single-head attention mechanism might miss.\n",
        "   - **Parallel Processing**: Multi-head attention facilitates parallel processing, which is crucial for leveraging modern hardware and improving computational efficiency.\n",
        "\n",
        "2. **Benefits**:\n",
        "   - **Enhanced Expressiveness**: With multiple heads, the model can learn various aspects of the data, such as syntactic structure, semantic meaning, and long-range dependencies, all at the same time.\n",
        "   - **Robust Learning**: Different heads can focus on different parts of the sequence, making the model more robust to noise and variations in the data.\n",
        "   - **Better Generalization**: By capturing diverse patterns, multi-head attention helps the model generalize better to unseen data, improving overall performance on various NLP tasks.\n"
      ],
      "metadata": {
        "id": "N_Bm_Y-RK1iB"
      }
    },
    {
      "cell_type": "markdown",
      "source": [
        "###Main operations of the multi-headed attention:\n",
        "* Splitting the Queries, Keys, and Values, In the multi-head attention mechanism, each attention head operates on a subset of the input data. Here’s how the splitting process works:\n",
        "\n",
        "* The Initial Linear Transformations, in which the input embeddings for each word in the sequence are first transformed using learned weight matrices to generate the Query (Q), Key (K), and Value (V) vectors.\n",
        "\n",
        "* Next the Query, Key, and Value vectors are then split into multiple smaller vectors, one for each attention head.  This splitting allows each head to operate on a reduced-dimensional subspace, ensuring that different heads can focus on different aspects of the data.\n",
        "\n",
        "Each head performs the attention mechanism independently on its subset of Query, Key, and Value vectors. This involves calculating attention scores, scaling, applying the softmax function, and computing the weighted sum of values for each head.\n"
      ],
      "metadata": {
        "id": "p6WCOSzoaktm"
      }
    },
    {
      "cell_type": "markdown",
      "source": [
        "###Concatenation and Projection:\n",
        "In Multi-Head Attention, after each attention head has processed its subset of the data, the outputs need to be combined to form the final multi-head attention output. Here's how this is done:\n",
        "\n",
        "* The Concatenation, imagine you have multiple teams working on different parts of a project. Each team produces a part of the final report (output). When all teams are done, you gather their individual reports and put them together into one big report. This step of gathering and combining the individual reports is called concatenation.\n",
        "\n",
        "* Linear Projection, after concatenation, the combined report needs to be polished and refined into a final format. This step involves passing the combined report through a linear transformation using a learned weight matrix. Think of this as a final editing process that ensures the report is well-organized and in the right format. This transformation helps in combining the information from all teams into a cohesive and well-structured final report that is ready for the next stages of processing in the transformer model.\n",
        "\n",
        "In summary, multi-head attention enhances the transformer model's ability to learn diverse and complex representations by allowing multiple attention mechanisms to operate in parallel on different subsets of the data. The process involves, Splitting the Query, Key, and Value vectors. And independently calculating attention for each head. Concatenating the outputs from all heads.  And projecting the concatenated output back to the original input dimension. This multi-faceted approach provides a robust and expressive mechanism for capturing intricate patterns and dependencies within the input sequence, contributing to the transformer’s success in various NLP tasks.\n"
      ],
      "metadata": {
        "id": "2Q-bWDKpbbx1"
      }
    },
    {
      "cell_type": "markdown",
      "source": [
        "###Role of Positional Encoding in Transformers:\n",
        "The transformers revolutionized NLP by leveraging self-attention mechanisms, which excel at capturing relationships between words in a sequence.\n",
        "\n",
        "However, one critical challenge with self-attention is that it treats the input sequence as a bag of words, ignoring the order of the words. This is where positional encoding comes into play.\n",
        "\n",
        "Incorporating the Sequence Order, Unlike RNNs, which inherently process sequences in order, transformers process all tokens simultaneously. Positional encoding provides the model with information about the order of tokens in the sequence.\n",
        "\n",
        "Understanding the order is essential for capturing the syntactic and semantic structure of the language.\n",
        "\n",
        "For example, in the sentence the cat sat on the mat, the positions of cat and mat determine the meaning.\n",
        "\n",
        "The Positional encodings are added to the input embeddings to give the model a sense of position. These encodings are vectors of the same dimension as the embeddings, ensuring that the positional information is integrated seamlessly with the token representations.\n",
        "\n",
        "This integration allows the model to distinguish between different positional contexts, enabling it to understand dependencies and relationships based on word order.\n",
        "\n",
        "#### **Difference Between Learned and Fixed Positional Encodings:**\n",
        "There are two primary approaches to incorporating positional information into the transformer model: learned positional encodings and fixed positional encodings. Let's explore the differences between them:\n",
        "\n",
        "* In the Fixed Positional Encodings, the Fixed positional encodings are generated using sinusoidal functions of different frequencies. The idea is to create a unique encoding for each position in the sequence. They do not require learning parameters, reducing the model's complexity.\n",
        "\n",
        "* The same positional encoding is used across different sequences and models, providing a consistent method for encoding positional information. The use of sinusoidal functions allows the model to potentially generalize to longer sequences than those seen during training.\n",
        "\n",
        "* Whereas in the Learned Positional Encodings, the positional encodings are treated as learnable parameters. Each position in the sequence has an associated vector that is learned during the training process. These positional embeddings are optimized along with other parameters in the model, adapting to the specific characteristics of the training data.\n",
        "\n",
        "* The model can learn to encode positional information in a way that is most beneficial for the task at hand, potentially capturing more complex positional dependencies. Since the positional encodings are learned, they can adapt to the specific structure and patterns of the training data, potentially improving performance on the given task.\n",
        "\n",
        "In summary, positional encoding is a crucial component in transformers, enabling the model to capture the order of words in a sequence, which is vital for understanding context and meaning. Fixed positional encodings, based on sinusoidal functions, offer a predefined and consistent way to incorporate positional information, while learned positional encodings provide flexibility and adaptability by learning from the data. Both approaches have their advantages, and the choice between them can depend on the specific requirements and characteristics of the NLP task at hand.\n"
      ],
      "metadata": {
        "id": "2d4NRD_Kb1DI"
      }
    },
    {
      "cell_type": "code",
      "source": [
        "import numpy as np\n",
        "\n",
        "def get_positional_encodings(seq_len, d_model):\n",
        "    # Initialize the positional encoding matrix with zeros\n",
        "    pos_enc = np.zeros((seq_len, d_model))\n",
        "\n",
        "    # Compute the positional encodings\n",
        "    for pos in range(seq_len):\n",
        "        for i in range(0, d_model, 2):\n",
        "            pos_enc[pos, i] = np.sin(pos / (10000 ** ((2 * i) / d_model)))\n",
        "            pos_enc[pos, i + 1] = np.cos(pos / (10000 ** ((2 * i) / d_model)))\n",
        "\n",
        "    return pos_enc\n",
        "\n",
        "# Example usage\n",
        "seq_len = 10  # Length of the input sequence\n",
        "d_model = 16  # Dimensionality of the model (embedding dimension)\n",
        "positional_encodings = get_positional_encodings(seq_len, d_model)\n",
        "print(positional_encodings)\n"
      ],
      "metadata": {
        "colab": {
          "base_uri": "https://localhost:8080/"
        },
        "id": "fH3PhTZud5Nv",
        "outputId": "bd9e958a-53b6-4820-e17a-0b9ae3bea1e7"
      },
      "execution_count": 30,
      "outputs": [
        {
          "output_type": "stream",
          "name": "stdout",
          "text": [
            "[[ 0.00000000e+00  1.00000000e+00  0.00000000e+00  1.00000000e+00\n",
            "   0.00000000e+00  1.00000000e+00  0.00000000e+00  1.00000000e+00\n",
            "   0.00000000e+00  1.00000000e+00  0.00000000e+00  1.00000000e+00\n",
            "   0.00000000e+00  1.00000000e+00  0.00000000e+00  1.00000000e+00]\n",
            " [ 8.41470985e-01  5.40302306e-01  9.98334166e-02  9.95004165e-01\n",
            "   9.99983333e-03  9.99950000e-01  9.99999833e-04  9.99999500e-01\n",
            "   9.99999998e-05  9.99999995e-01  1.00000000e-05  1.00000000e+00\n",
            "   1.00000000e-06  1.00000000e+00  1.00000000e-07  1.00000000e+00]\n",
            " [ 9.09297427e-01 -4.16146837e-01  1.98669331e-01  9.80066578e-01\n",
            "   1.99986667e-02  9.99800007e-01  1.99999867e-03  9.99998000e-01\n",
            "   1.99999999e-04  9.99999980e-01  2.00000000e-05  1.00000000e+00\n",
            "   2.00000000e-06  1.00000000e+00  2.00000000e-07  1.00000000e+00]\n",
            " [ 1.41120008e-01 -9.89992497e-01  2.95520207e-01  9.55336489e-01\n",
            "   2.99955002e-02  9.99550034e-01  2.99999550e-03  9.99995500e-01\n",
            "   2.99999995e-04  9.99999955e-01  3.00000000e-05  1.00000000e+00\n",
            "   3.00000000e-06  1.00000000e+00  3.00000000e-07  1.00000000e+00]\n",
            " [-7.56802495e-01 -6.53643621e-01  3.89418342e-01  9.21060994e-01\n",
            "   3.99893342e-02  9.99200107e-01  3.99998933e-03  9.99992000e-01\n",
            "   3.99999989e-04  9.99999920e-01  4.00000000e-05  9.99999999e-01\n",
            "   4.00000000e-06  1.00000000e+00  4.00000000e-07  1.00000000e+00]\n",
            " [-9.58924275e-01  2.83662185e-01  4.79425539e-01  8.77582562e-01\n",
            "   4.99791693e-02  9.98750260e-01  4.99997917e-03  9.99987500e-01\n",
            "   4.99999979e-04  9.99999875e-01  5.00000000e-05  9.99999999e-01\n",
            "   5.00000000e-06  1.00000000e+00  5.00000000e-07  1.00000000e+00]\n",
            " [-2.79415498e-01  9.60170287e-01  5.64642473e-01  8.25335615e-01\n",
            "   5.99640065e-02  9.98200540e-01  5.99996400e-03  9.99982000e-01\n",
            "   5.99999964e-04  9.99999820e-01  6.00000000e-05  9.99999998e-01\n",
            "   6.00000000e-06  1.00000000e+00  6.00000000e-07  1.00000000e+00]\n",
            " [ 6.56986599e-01  7.53902254e-01  6.44217687e-01  7.64842187e-01\n",
            "   6.99428473e-02  9.97551000e-01  6.99994283e-03  9.99975500e-01\n",
            "   6.99999943e-04  9.99999755e-01  6.99999999e-05  9.99999998e-01\n",
            "   7.00000000e-06  1.00000000e+00  7.00000000e-07  1.00000000e+00]\n",
            " [ 9.89358247e-01 -1.45500034e-01  7.17356091e-01  6.96706709e-01\n",
            "   7.99146940e-02  9.96801706e-01  7.99991467e-03  9.99968000e-01\n",
            "   7.99999915e-04  9.99999680e-01  7.99999999e-05  9.99999997e-01\n",
            "   8.00000000e-06  1.00000000e+00  8.00000000e-07  1.00000000e+00]\n",
            " [ 4.12118485e-01 -9.11130262e-01  7.83326910e-01  6.21609968e-01\n",
            "   8.98785492e-02  9.95952733e-01  8.99987850e-03  9.99959500e-01\n",
            "   8.99999879e-04  9.99999595e-01  8.99999999e-05  9.99999996e-01\n",
            "   9.00000000e-06  1.00000000e+00  9.00000000e-07  1.00000000e+00]]\n"
          ]
        }
      ]
    },
    {
      "cell_type": "markdown",
      "source": [
        "###**Data Preparation and Tokenization**\n",
        "\n",
        "Before training a transformer model, it's essential to preprocess the text data to ensure it is in a suitable format for the model.\n",
        "\n",
        "* The key steps involved in text preprocessing: The steps involved in the Text Cleaning are, lowercasing where we convert all text to lowercase to ensure consistency.\n",
        "\n",
        "* Second is **removing punctuation and Special Characters** to strip out any unnecessary punctuation and special characters that do not contribute to the meaning. And handling Contractions in which expand contractions (like, \"don't\" is converted to \"do not\") to standardize the text.\n",
        "\n",
        "* The next step is normalization using **stemming or lemmatization** to reduce the words to their root forms (like, \"running\" becomes \"run\") to normalize the text. And, removing Stop Words to eliminate common words (like, the, and) that do not carry significant meaning.\n",
        "\n",
        "* The fourth step is Tokenization: This involves splitting the text into individual tokens (words or subwords) that the model can process.\n",
        "\n",
        "Tokenization can be done using various techniques. There are several tokenization techniques available to use, each with its own advantages and trade-offs,\n",
        "\n",
        "* In the Byte Pair Encoding, The BPE algorithm starts with a base vocabulary of individual characters and iteratively merges the most frequent pairs of characters or subwords to create new tokens. This process continues until a predefined vocabulary size is reached. BPE can also handle out-of-vocabulary words by breaking them down into subword units, making it robust for handling rare and unseen words. For example, the word \"unhappiness\" might be tokenized as [\"un\", \"happiness\"] after a few iterations.\n",
        "\n",
        "* The next is the WordPiece technique, Similar to BPE, WordPiece also starts with a base vocabulary of characters and merges subwords based on their likelihood and frequency in the training corpus. It uses a different criterion for merging pairs compared to BPE. The WordPiece is widely used in models like BERT and provides an effective balance between vocabulary size and the ability to handle rare words. For example, the word playing might be tokenized as [\"play\", \"##ing\"], where \"#\" indicates that ing is a subword attached to a previous token.\n",
        "\n",
        "Another tokenization technique is the SentencePiece, the sentencePiece treats the text as a sequence of bytes or unicode characters, which allows it to handle languages without spaces between words. It uses BPE or Unigram Language Model to tokenize the text. SentencePiece can handle languages like Chinese and Japanese more effectively, where words are not separated by spaces. For example, the word \"data\" might be tokenized as [\"d\", \"a\", \"t\", \"a\"] or as subwords depending on the trained model.\n"
      ],
      "metadata": {
        "id": "g5OJyImJeXz2"
      }
    },
    {
      "cell_type": "markdown",
      "source": [
        "### **Handling of Special Tokens and Padding:**\n",
        "In addition to tokenizing the text, it's important to handle special tokens and padding to ensure the data is in the correct format for the transformer model.\n",
        "* CLS The classification Token is used at the beginning of the input sequence in models like BERT for classification tasks. The Separator Token is used to separate different segments of the input, such as in question-answering tasks or sentence pair classification.\n",
        "\n",
        "* The Mask Token is used in masked language modelling tasks where certain tokens are masked and the model predicts them. And the padding token is used to pad sequences to a uniform length for batch processing.\n",
        "\n",
        "The main Purpose of the Padding is that the transformers process fixed-length sequences, so input sequences must be padded to the same length. Padding ensures that shorter sequences do not affect the batch size and allows for efficient parallel processing. The Sequences are padded with a PAD token to reach the maximum sequence length in the batch. Attention masks are used to ensure that padding tokens do not influence the model's predictions.\n",
        "\n",
        "For example, If the maximum sequence length is 10, a sequence like [the, \"cat\", \"sat\"] would be padded to [the, \"cat\", \"sat\", filled with pad up to sequence length 10.\n"
      ],
      "metadata": {
        "id": "5KWfa9dGuGYw"
      }
    },
    {
      "cell_type": "code",
      "source": [
        "#Tokenization and Padding using the Hugging Face Transformers library\n",
        "from transformers import BertTokenizer\n",
        "\n",
        "# Initialize the tokenizer\n",
        "tokenizer = BertTokenizer.from_pretrained('bert-base-uncased')\n",
        "\n",
        "# Example text\n",
        "text = \"the quick brown fox jumps over the lazy dog.\"\n",
        "\n",
        "# Tokenize the text\n",
        "tokens = tokenizer.tokenize(text)\n",
        "print(\"Tokens: \", tokens)\n"
      ],
      "metadata": {
        "id": "PwmUpbgmjdP5",
        "colab": {
          "base_uri": "https://localhost:8080/"
        },
        "outputId": "2df21627-becb-4070-c9eb-248afcd3732e"
      },
      "execution_count": 31,
      "outputs": [
        {
          "output_type": "stream",
          "name": "stdout",
          "text": [
            "Tokens:  ['the', 'quick', 'brown', 'fox', 'jumps', 'over', 'the', 'lazy', 'dog', '.']\n"
          ]
        }
      ]
    },
    {
      "cell_type": "code",
      "source": [
        "# Convert tokens to IDs\n",
        "input_ids = tokenizer.convert_tokens_to_ids(tokens)\n",
        "print(\"Token IDs: \", input_ids)"
      ],
      "metadata": {
        "colab": {
          "base_uri": "https://localhost:8080/"
        },
        "id": "HGP1qM3gvSU1",
        "outputId": "39bd53a8-dc0f-45b7-b2f2-ac45f49eb20b"
      },
      "execution_count": 32,
      "outputs": [
        {
          "output_type": "stream",
          "name": "stdout",
          "text": [
            "Token IDs:  [1996, 4248, 2829, 4419, 14523, 2058, 1996, 13971, 3899, 1012]\n"
          ]
        }
      ]
    },
    {
      "cell_type": "code",
      "source": [
        "# Add special tokens\n",
        "input_ids = tokenizer.build_inputs_with_special_tokens(input_ids)\n",
        "print(\"Input IDs with Special Tokens:\", input_ids)\n"
      ],
      "metadata": {
        "colab": {
          "base_uri": "https://localhost:8080/"
        },
        "id": "JcgAbJ_zvZpM",
        "outputId": "e5ce07dc-bd02-4a2d-b8b4-3835a53b2fbf"
      },
      "execution_count": 33,
      "outputs": [
        {
          "output_type": "stream",
          "name": "stdout",
          "text": [
            "Input IDs with Special Tokens: [101, 1996, 4248, 2829, 4419, 14523, 2058, 1996, 13971, 3899, 1012, 102]\n"
          ]
        }
      ]
    },
    {
      "cell_type": "code",
      "source": [
        "# Pad the input IDs\n",
        "max_length = 12\n",
        "padded_input_ids = tokenizer.pad({'input_ids': [input_ids]}, max_length=max_length, padding='max_length')['input_ids'][0]\n",
        "print(\"Padded Input IDs:\", padded_input_ids)\n"
      ],
      "metadata": {
        "colab": {
          "base_uri": "https://localhost:8080/"
        },
        "id": "EQaUvnUGveQK",
        "outputId": "d622f00e-41e6-42c7-d7c5-700167f3aa71"
      },
      "execution_count": 34,
      "outputs": [
        {
          "output_type": "stream",
          "name": "stdout",
          "text": [
            "Padded Input IDs: [101, 1996, 4248, 2829, 4419, 14523, 2058, 1996, 13971, 3899, 1012, 102]\n"
          ]
        }
      ]
    },
    {
      "cell_type": "code",
      "source": [
        "# Create attention mask\n",
        "attention_mask = [1 if id != tokenizer.pad_token_id else 0 for id in padded_input_ids]\n",
        "print(\"Attention Mask:\", attention_mask)\n"
      ],
      "metadata": {
        "id": "piekfbPQ3wf2",
        "colab": {
          "base_uri": "https://localhost:8080/"
        },
        "outputId": "246e2ad7-89cc-4a16-ef56-58c38eb51ba9"
      },
      "execution_count": 35,
      "outputs": [
        {
          "output_type": "stream",
          "name": "stdout",
          "text": [
            "Attention Mask: [1, 1, 1, 1, 1, 1, 1, 1, 1, 1, 1, 1]\n"
          ]
        }
      ]
    },
    {
      "cell_type": "markdown",
      "source": [
        "### **Optimizers and Learning Rate Schedulers**\n",
        "\n",
        "#### **Adam Optimizer and Its Variants**\n",
        "\n",
        "Optimizers play a crucial role in training neural networks by adjusting the model's parameters to minimize errors. One of the most popular optimizers used in training transformers is the Adam optimizer.\n",
        "\n",
        "1. **Adam Optimizer**:\n",
        "   - **Overview**: Adam stands for Adaptive Moment Estimation. It combines the benefits of two other optimizers, AdaGrad and RMSProp, to adjust learning rates for each parameter automatically.\n",
        "   - **Key Components**:\n",
        "     - **First Moment Estimate**: Tracks the average of the gradients.\n",
        "     - **Second Moment Estimate**: Tracks the average of the squared gradients.\n",
        "\n",
        "2. **AdamW**:\n",
        "   - **Overview**: AdamW is a variant of Adam that handles weight decay differently. It separates weight decay from the gradient update process, which helps prevent overfitting.\n",
        "   - **Weight Decay**: Instead of applying weight decay to the gradients, AdamW applies it directly to the weights after updating them.\n",
        "\n",
        "3. **Other Variants**:\n",
        "   - **AMSGrad**: This variant keeps track of the maximum past squared gradients to prevent the learning rate from increasing too quickly.\n",
        "   - **AdaBound**: Combines the benefits of adaptive learning rates with the stability of traditional methods by capping the learning rates within a certain range.\n",
        "\n",
        "#### **Learning Rate Schedules (Warm-Up and Decay)**\n",
        "\n",
        "Learning rate schedules adjust the learning rate during training to help the model learn more effectively and prevent overfitting.\n",
        "\n",
        "1. **Warm-Up**:\n",
        "   - **Purpose**: At the start of training, a small learning rate helps stabilize training and prevents sudden, large updates that could destabilize the model.\n",
        "   - **Implementation**: The learning rate begins at a small value and gradually increases to a maximum value over a set number of steps.\n",
        "\n",
        "2. **Decay**:\n",
        "   - **Purpose**: After the initial warm-up phase, the learning rate is gradually reduced to fine-tune the model and ensure it converges properly.\n",
        "\n",
        "3. **Combined Warm-Up and Decay**:\n",
        "   - **Purpose**: A combination of both warm-up and decay is often used in practice. The learning rate starts small, increases during the warm-up phase, and then gradually decreases during the decay phase.\n",
        "\n",
        "#### **Gradient Clipping and Regularization Techniques**\n",
        "\n",
        "These techniques help stabilize training and prevent issues such as exploding gradients.\n",
        "\n",
        "1. **Gradient Clipping**:\n",
        "   - **Purpose**: Prevents the gradients (which update the model's parameters) from becoming too large, which can destabilize training.\n",
        "   - **Implementation**: Gradients are capped at a maximum value to ensure they stay within a safe range.\n",
        "\n",
        "2. **Regularization Techniques**:\n",
        "   - **Weight Decay**: Adds a penalty to the loss function based on the size of the model parameters, encouraging smaller weights and helping to prevent overfitting.\n",
        "   - **Dropout**: Randomly sets a portion of the neurons (units) to zero during training to prevent them from becoming too dependent on each other, which helps the model generalize better to new data.\n",
        "   - **Label Smoothing**: Softens the target labels, reducing the model's confidence in its predictions and improving its ability to generalize. Instead of using one-hot encoding where the true label is 1 and others are 0, the true label is assigned a slightly lower value, and a small probability mass is distributed among the other labels.\n",
        "\n",
        "In summary, optimizers like Adam and its variants, along with learning rate schedules, gradient clipping, and regularization techniques, are essential tools for training effective and stable neural networks. They help models learn more efficiently, prevent overfitting, and ensure stable training.\n"
      ],
      "metadata": {
        "id": "_cxv6Kxrv9K9"
      }
    },
    {
      "cell_type": "code",
      "source": [
        "!pip install datasets"
      ],
      "metadata": {
        "colab": {
          "base_uri": "https://localhost:8080/"
        },
        "id": "IAKRPAt71GSB",
        "outputId": "43dd003c-962d-42af-ca1f-97b8611b40d7"
      },
      "execution_count": 36,
      "outputs": [
        {
          "output_type": "stream",
          "name": "stdout",
          "text": [
            "Requirement already satisfied: datasets in /usr/local/lib/python3.10/dist-packages (2.20.0)\n",
            "Requirement already satisfied: filelock in /usr/local/lib/python3.10/dist-packages (from datasets) (3.15.4)\n",
            "Requirement already satisfied: numpy>=1.17 in /usr/local/lib/python3.10/dist-packages (from datasets) (1.25.2)\n",
            "Requirement already satisfied: pyarrow>=15.0.0 in /usr/local/lib/python3.10/dist-packages (from datasets) (17.0.0)\n",
            "Requirement already satisfied: pyarrow-hotfix in /usr/local/lib/python3.10/dist-packages (from datasets) (0.6)\n",
            "Requirement already satisfied: dill<0.3.9,>=0.3.0 in /usr/local/lib/python3.10/dist-packages (from datasets) (0.3.8)\n",
            "Requirement already satisfied: pandas in /usr/local/lib/python3.10/dist-packages (from datasets) (2.0.3)\n",
            "Requirement already satisfied: requests>=2.32.2 in /usr/local/lib/python3.10/dist-packages (from datasets) (2.32.3)\n",
            "Requirement already satisfied: tqdm>=4.66.3 in /usr/local/lib/python3.10/dist-packages (from datasets) (4.66.4)\n",
            "Requirement already satisfied: xxhash in /usr/local/lib/python3.10/dist-packages (from datasets) (3.4.1)\n",
            "Requirement already satisfied: multiprocess in /usr/local/lib/python3.10/dist-packages (from datasets) (0.70.16)\n",
            "Requirement already satisfied: fsspec[http]<=2024.5.0,>=2023.1.0 in /usr/local/lib/python3.10/dist-packages (from datasets) (2023.6.0)\n",
            "Requirement already satisfied: aiohttp in /usr/local/lib/python3.10/dist-packages (from datasets) (3.9.5)\n",
            "Requirement already satisfied: huggingface-hub>=0.21.2 in /usr/local/lib/python3.10/dist-packages (from datasets) (0.23.5)\n",
            "Requirement already satisfied: packaging in /usr/local/lib/python3.10/dist-packages (from datasets) (24.1)\n",
            "Requirement already satisfied: pyyaml>=5.1 in /usr/local/lib/python3.10/dist-packages (from datasets) (6.0.1)\n",
            "Requirement already satisfied: aiosignal>=1.1.2 in /usr/local/lib/python3.10/dist-packages (from aiohttp->datasets) (1.3.1)\n",
            "Requirement already satisfied: attrs>=17.3.0 in /usr/local/lib/python3.10/dist-packages (from aiohttp->datasets) (23.2.0)\n",
            "Requirement already satisfied: frozenlist>=1.1.1 in /usr/local/lib/python3.10/dist-packages (from aiohttp->datasets) (1.4.1)\n",
            "Requirement already satisfied: multidict<7.0,>=4.5 in /usr/local/lib/python3.10/dist-packages (from aiohttp->datasets) (6.0.5)\n",
            "Requirement already satisfied: yarl<2.0,>=1.0 in /usr/local/lib/python3.10/dist-packages (from aiohttp->datasets) (1.9.4)\n",
            "Requirement already satisfied: async-timeout<5.0,>=4.0 in /usr/local/lib/python3.10/dist-packages (from aiohttp->datasets) (4.0.3)\n",
            "Requirement already satisfied: typing-extensions>=3.7.4.3 in /usr/local/lib/python3.10/dist-packages (from huggingface-hub>=0.21.2->datasets) (4.12.2)\n",
            "Requirement already satisfied: charset-normalizer<4,>=2 in /usr/local/lib/python3.10/dist-packages (from requests>=2.32.2->datasets) (3.3.2)\n",
            "Requirement already satisfied: idna<4,>=2.5 in /usr/local/lib/python3.10/dist-packages (from requests>=2.32.2->datasets) (3.7)\n",
            "Requirement already satisfied: urllib3<3,>=1.21.1 in /usr/local/lib/python3.10/dist-packages (from requests>=2.32.2->datasets) (2.0.7)\n",
            "Requirement already satisfied: certifi>=2017.4.17 in /usr/local/lib/python3.10/dist-packages (from requests>=2.32.2->datasets) (2024.7.4)\n",
            "Requirement already satisfied: python-dateutil>=2.8.2 in /usr/local/lib/python3.10/dist-packages (from pandas->datasets) (2.8.2)\n",
            "Requirement already satisfied: pytz>=2020.1 in /usr/local/lib/python3.10/dist-packages (from pandas->datasets) (2023.4)\n",
            "Requirement already satisfied: tzdata>=2022.1 in /usr/local/lib/python3.10/dist-packages (from pandas->datasets) (2024.1)\n",
            "Requirement already satisfied: six>=1.5 in /usr/local/lib/python3.10/dist-packages (from python-dateutil>=2.8.2->pandas->datasets) (1.16.0)\n"
          ]
        }
      ]
    },
    {
      "cell_type": "code",
      "source": [
        "import torch\n",
        "from transformers import BertForSequenceClassification, BertTokenizer, AdamW, get_linear_schedule_with_warmup\n",
        "from torch.utils.data import DataLoader\n",
        "from datasets import load_dataset\n",
        "\n",
        "# Load the dataset and model\n",
        "dataset = load_dataset('imdb')\n",
        "tokenizer = BertTokenizer.from_pretrained('bert-base-uncased')\n",
        "model = BertForSequenceClassification.from_pretrained('bert-base-uncased')\n",
        "\n",
        "# Tokenize the dataset\n",
        "def tokenize_function(examples):\n",
        "    return tokenizer(examples['text'], padding='max_length', truncation=True, max_length=512)\n",
        "\n",
        "tokenized_datasets = dataset.map(tokenize_function, batched=True)\n",
        "tokenized_datasets = tokenized_datasets.rename_column(\"label\", \"labels\")\n",
        "tokenized_datasets.set_format(type='torch', columns=['input_ids', 'attention_mask', 'labels'])\n",
        "\n",
        "# Create dataloaders\n",
        "train_dataloader = DataLoader(tokenized_datasets['train'], shuffle=True, batch_size=8)\n",
        "eval_dataloader = DataLoader(tokenized_datasets['test'], batch_size=8)\n",
        "\n",
        "# Set the number of epochs\n",
        "num_epochs = 3\n",
        "\n",
        "# Initialize the optimizer\n",
        "optimizer = AdamW(model.parameters(), lr=5e-5, weight_decay=0.01)\n",
        "\n",
        "# Total number of training steps\n",
        "total_steps = len(train_dataloader) * num_epochs\n",
        "\n",
        "# Learning rate scheduler with warm-up\n",
        "warmup_steps = int(0.1 * total_steps)  # 10% of total steps for warm-up\n",
        "scheduler = get_linear_schedule_with_warmup(optimizer, num_warmup_steps=warmup_steps, num_training_steps=total_steps)\n",
        "\n",
        "# Training loop\n",
        "for epoch in range(num_epochs):\n",
        "    model.train()\n",
        "    for batch in train_dataloader:\n",
        "        optimizer.zero_grad()\n",
        "\n",
        "        # Move batch to device\n",
        "        batch = {k: v.to(model.device) for k, v in batch.items()}\n",
        "\n",
        "        # Forward pass\n",
        "        outputs = model(**batch)\n",
        "        loss = outputs.loss\n",
        "\n",
        "        # Backward pass\n",
        "        loss.backward()\n",
        "\n",
        "        # Gradient clipping\n",
        "        torch.nn.utils.clip_grad_norm_(model.parameters(), max_norm=1.0)\n",
        "\n",
        "        # Optimizer step\n",
        "        optimizer.step()\n",
        "\n",
        "        # Scheduler step\n",
        "        scheduler.step()\n",
        "\n",
        "    print(f\"Epoch {epoch + 1}/{num_epochs} completed.\")\n",
        "\n",
        "# Evaluate the model\n",
        "model.eval()\n",
        "for batch in eval_dataloader:\n",
        "    with torch.no_grad():\n",
        "        # Move batch to device\n",
        "        batch = {k: v.to(model.device) for k, v in batch.items()}\n",
        "\n",
        "        # Forward pass\n",
        "        outputs = model(**batch)\n",
        "\n",
        "    # Compute evaluation metrics here if needed\n",
        "\n",
        "print(\"Training completed.\")\n"
      ],
      "metadata": {
        "colab": {
          "base_uri": "https://localhost:8080/",
          "height": 392,
          "referenced_widgets": [
            "7e29bf82ee9c4dbb9714a760fcd64cd8",
            "2f506a61765f4ac5ab7fcfe28956bbc1",
            "571181a6a5784b5490686820f0779d57",
            "22cbb45854e64f308e40f0db6caba6e7",
            "b39659bb26f74df39a2531543b7dac54",
            "ce255d8e0f4c4c39ab7f14a4cf62bdd1",
            "42505c536a1944f28ef0e04bd41f1d5f",
            "bdee49d797d14e68b0689a26ff805b68",
            "abe4ccbc5f7e436ea48dc71f440ea033",
            "78c189ea51d6413cb7d9393fcff4e1fb",
            "4996b1fccb4b453aa3712edcad14b69f",
            "30adf00fb5504a6483e22aa14acaf38b",
            "454afec4e8aa49f5b3009d6d90cb6346",
            "1ee3353551b843aea9e7a84f4c831fdc",
            "ee666eb25b514285adef8a2f5f625d35",
            "4377efe813e14866842d8d960f41d6eb",
            "aaaedd2224384b1ebf2b34e07725b33c",
            "d61aca549d92433fad64d93d45b194f5",
            "8d1506be7816490ab9c859f29f33800b",
            "328464f570bb4c6ead27456834c3c911",
            "52fef1c96c234653bdbe4f10cd353e8c",
            "66b66bdfcdc14428841b02eb409af6a0",
            "48a8e9284d8d41b48ec5fe9b94e3974b",
            "d2099630eaba4ff0a7342918172b16a8",
            "ecad1e27465048b9922ce1def687bd02",
            "f88e36a423d8412d9a627192003ac9bc",
            "9989afc16aa548f79f2f9977a0a97c36",
            "321bbacfad394bd1b6fc5e8592706104",
            "a3066a20159a45ff82d5dcf95b19f864",
            "bef769e56ab44aefada71baf14cca852",
            "3abe792ccce0434aa75a0f536c4c59ce",
            "73799db3c0214e9ba1ee64040ae0a13b",
            "6c4fa0a384b941b5a03e421d20f821b5",
            "48ec8d331d204d899794a02b63eb4b06",
            "036b6ec91df640209c4abe7952b96126",
            "64ec72bc77154dc7964c448dbc2e73c2",
            "ce028f3247a84ede8725be3fd871a5ac",
            "5021aff8066542eeb64627c448be1da5",
            "f1d5c136f7c8472e90dc96591506c52f",
            "c1748ebaf8c4425993244b1f1a46740c",
            "02ef3c9b51c94b7997f77a0f0650095c",
            "485cfae6edfa43508e184b04ab32ae17",
            "52b2fc68417c419b90602d1c94456e9b",
            "157acb0dbaad464fba21078b244fbf22",
            "b9b62069a0d6466a9214b23cf5daa23b",
            "a1ffeb9bf4e34687b182d9c92a4260f6",
            "06eefc02a1594af39a16e62c5b186393",
            "0718075f3b954d8fbc495fb386a85e8d",
            "6ddcf1e09700460c8241f6a37057f4f0",
            "583d9ffa836840f3a89a31b0c281cc46",
            "5370655ed30c49529bb3565763c8fb2f",
            "c28fbeeb40ea47ea8170a0fd6d821237",
            "5929684cd232476f96db4a31c748c267",
            "1c67257088fe487c9fc009e14d5ea65d",
            "7c1af3cff1344db1b65a6a88eaf646fb",
            "37ebac7241ad45d8999f06398e3cab82",
            "60327ee5f20b4de1931835614d48d7f5",
            "9904bfc6dfbf4c909ca5eeca069c3f19",
            "ecd619ff4ed84208936d18e6715e05a1",
            "936e67a1d28c4ebb8bd29148a34907d6",
            "7bbbecfd6471484db1e879ce51d0de37",
            "186f5069685a4324abb0c7f88cda613a",
            "ce6f9f2000254867817266cf0a1bae89",
            "e3f9988378584acf87fa38a6dacc3df8",
            "7e6c3cd11faf415c921e826d4a94c22e",
            "9135d104ac50433a822fc8bbc372c68e",
            "1addb0a7d8a04cbd9a4df705e6cbf66e",
            "6fdb580051e84c4ca51d03dff72677a5",
            "c2b4acf609324440a6992eb9c4b73edc",
            "0079be53c581457eab0a967141de37bd",
            "2057fcdfc9704228ad63e0d4979196e7",
            "a3529b674e904166b53d718a166cccd9",
            "5a18ccf4475846569b9e344b06151676",
            "4c768afd01454bcba20d5eb4eba14bd9",
            "330b136b507c49f3a08f00953fd98f40",
            "3e875c8b96b14a2699dfe1192ea30eef",
            "7e070483fa0545699f9de85e7c21b76e",
            "378ea523eb6c40598c44895c4014c190",
            "943752ca219a4553b725b1f1779ea9c1",
            "5d54dae96b9c47b683b9ef5efe098e75",
            "5b48f7f5036d47bcaab46aaeaa98f952",
            "5413a301e09c4fa6bec0b381a616e327",
            "a8d4237c5e4c491596b096a80a72d023",
            "57c83f51f4fc440ebde3d2254917fb35",
            "99eb35a984f14ad987f9ea09a194eb3f",
            "e16188f1536649f195bbac62c041771b",
            "41e445e3ee17449e92e544134aaa7c97",
            "c56baece09d54c4a92c2927f100062fc",
            "f061f455b1254a3aa29092de1b4a158c",
            "039da223709c4565a25f8bb6a83061e1",
            "a6ebc37505fd467ebb0a05f84b45cdaa",
            "eb78fb3a659e4fd5beff4fd7c3c91b7a",
            "70124be438504ae38ede0bde33172309",
            "3fc9eac21c72441f8da25803e19e9e49",
            "224dbcc1fed441ccb26bae39ddf8240f",
            "ca572c5e1bc24e82ba8dd4419f68ac37",
            "3a7ecf3dcd674ce2a584c45258305489",
            "7c9408b5f3ec4fa59ac3d96f5e8391d3",
            "1a837de34b6d49aaac73cd6106c71738",
            "e38e34a515d5425f9ee82851dd3ef4a8",
            "ea7a21ea601647da87ba3a3ce3fea367",
            "41666aa408e440c48e71e3ae122cc6f3",
            "57da2f76cd3142d9a5543deb9fb8bcb4",
            "a228f18435744587abc89ada208d999c",
            "2fe38b5c53f743d1aee2336302f388d6",
            "b239bb40f32a406d9e2116afb983f045",
            "4ee5bd3a631e433c8a2b7383a3bf0293",
            "a0fbed3f711b4aca941fed434468bd4f",
            "eccbb26830854004a3d7b6a77c061823",
            "e2bdc8a4b79a47528ff4588809020100"
          ]
        },
        "id": "mUFp_RQ_vlrb",
        "outputId": "75c6b0ac-841d-456a-ff44-002810696591"
      },
      "execution_count": null,
      "outputs": [
        {
          "output_type": "display_data",
          "data": {
            "text/plain": [
              "Downloading readme:   0%|          | 0.00/7.81k [00:00<?, ?B/s]"
            ],
            "application/vnd.jupyter.widget-view+json": {
              "version_major": 2,
              "version_minor": 0,
              "model_id": "7e29bf82ee9c4dbb9714a760fcd64cd8"
            }
          },
          "metadata": {}
        },
        {
          "output_type": "display_data",
          "data": {
            "text/plain": [
              "Downloading data:   0%|          | 0.00/21.0M [00:00<?, ?B/s]"
            ],
            "application/vnd.jupyter.widget-view+json": {
              "version_major": 2,
              "version_minor": 0,
              "model_id": "30adf00fb5504a6483e22aa14acaf38b"
            }
          },
          "metadata": {}
        },
        {
          "output_type": "display_data",
          "data": {
            "text/plain": [
              "Downloading data:   0%|          | 0.00/20.5M [00:00<?, ?B/s]"
            ],
            "application/vnd.jupyter.widget-view+json": {
              "version_major": 2,
              "version_minor": 0,
              "model_id": "48a8e9284d8d41b48ec5fe9b94e3974b"
            }
          },
          "metadata": {}
        },
        {
          "output_type": "display_data",
          "data": {
            "text/plain": [
              "Downloading data:   0%|          | 0.00/42.0M [00:00<?, ?B/s]"
            ],
            "application/vnd.jupyter.widget-view+json": {
              "version_major": 2,
              "version_minor": 0,
              "model_id": "48ec8d331d204d899794a02b63eb4b06"
            }
          },
          "metadata": {}
        },
        {
          "output_type": "display_data",
          "data": {
            "text/plain": [
              "Generating train split:   0%|          | 0/25000 [00:00<?, ? examples/s]"
            ],
            "application/vnd.jupyter.widget-view+json": {
              "version_major": 2,
              "version_minor": 0,
              "model_id": "b9b62069a0d6466a9214b23cf5daa23b"
            }
          },
          "metadata": {}
        },
        {
          "output_type": "display_data",
          "data": {
            "text/plain": [
              "Generating test split:   0%|          | 0/25000 [00:00<?, ? examples/s]"
            ],
            "application/vnd.jupyter.widget-view+json": {
              "version_major": 2,
              "version_minor": 0,
              "model_id": "37ebac7241ad45d8999f06398e3cab82"
            }
          },
          "metadata": {}
        },
        {
          "output_type": "display_data",
          "data": {
            "text/plain": [
              "Generating unsupervised split:   0%|          | 0/50000 [00:00<?, ? examples/s]"
            ],
            "application/vnd.jupyter.widget-view+json": {
              "version_major": 2,
              "version_minor": 0,
              "model_id": "1addb0a7d8a04cbd9a4df705e6cbf66e"
            }
          },
          "metadata": {}
        },
        {
          "output_type": "stream",
          "name": "stderr",
          "text": [
            "Some weights of BertForSequenceClassification were not initialized from the model checkpoint at bert-base-uncased and are newly initialized: ['classifier.bias', 'classifier.weight']\n",
            "You should probably TRAIN this model on a down-stream task to be able to use it for predictions and inference.\n"
          ]
        },
        {
          "output_type": "display_data",
          "data": {
            "text/plain": [
              "Map:   0%|          | 0/25000 [00:00<?, ? examples/s]"
            ],
            "application/vnd.jupyter.widget-view+json": {
              "version_major": 2,
              "version_minor": 0,
              "model_id": "378ea523eb6c40598c44895c4014c190"
            }
          },
          "metadata": {}
        },
        {
          "output_type": "display_data",
          "data": {
            "text/plain": [
              "Map:   0%|          | 0/25000 [00:00<?, ? examples/s]"
            ],
            "application/vnd.jupyter.widget-view+json": {
              "version_major": 2,
              "version_minor": 0,
              "model_id": "f061f455b1254a3aa29092de1b4a158c"
            }
          },
          "metadata": {}
        },
        {
          "output_type": "display_data",
          "data": {
            "text/plain": [
              "Map:   0%|          | 0/50000 [00:00<?, ? examples/s]"
            ],
            "application/vnd.jupyter.widget-view+json": {
              "version_major": 2,
              "version_minor": 0,
              "model_id": "e38e34a515d5425f9ee82851dd3ef4a8"
            }
          },
          "metadata": {}
        }
      ]
    },
    {
      "cell_type": "code",
      "source": [],
      "metadata": {
        "id": "6-Y8-KdEz3zz"
      },
      "execution_count": null,
      "outputs": []
    }
  ]
}